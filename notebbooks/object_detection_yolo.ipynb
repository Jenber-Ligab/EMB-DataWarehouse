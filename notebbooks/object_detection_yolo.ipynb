{
 "cells": [
  {
   "cell_type": "markdown",
   "metadata": {},
   "source": [
    "# Ethi Medical Products Object Detection"
   ]
  },
  {
   "cell_type": "markdown",
   "metadata": {},
   "source": [
    "**YOLOv5 Object Detection Training Notebook**"
   ]
  },
  {
   "cell_type": "markdown",
   "metadata": {},
   "source": [
    "**Step 1: Environment Setup and Imports**\n",
    "\n",
    "First, we'll import the necessary libraries and set up the environment."
   ]
  },
  {
   "cell_type": "code",
   "execution_count": 1,
   "metadata": {},
   "outputs": [],
   "source": [
    "# Import libraries for file handling and data splitting\n",
    "import os, sys\n",
    "import random\n",
    "import shutil\n",
    "# Verify if the environment is set up properly\n",
    "# Ensure the necessary dependencies are installed like torch, torchvision, and other YOLOv5 requirements\n",
    "#!pip install opencv-python torch torchvision\n",
    "# Add the 'scripts' directory to the Python path for module imports\n",
    "sys.path.append(os.path.abspath(os.path.join('..', 'scripts')))\n",
    "\n",
    "from logger import Logger\n",
    "# Set instance of the Logger class\n",
    "logger = Logger(log_file='../yolo_training.log')\n",
    "sys.path.append('../yolov5')  # Adjust the path based on your directory structure"
   ]
  },
  {
   "cell_type": "markdown",
   "metadata": {},
   "source": [
    "**Step 2: Define Paths and Prepare Directories**\n",
    "\n",
    "We define the paths for the source images and create directories for the training and validation sets."
   ]
  },
  {
   "cell_type": "code",
   "execution_count": 2,
   "metadata": {},
   "outputs": [
    {
     "name": "stdout",
     "output_type": "stream",
     "text": [
      "Total images available: 567\n"
     ]
    }
   ],
   "source": [
    "# Define the directory paths\n",
    "photos_dir = '../data/photos'  # Directory containing all your images\n",
    "train_dir = '../data/train/images'  # Directory for training images\n",
    "val_dir = '../data/valid/images'  # Directory for validation images\n",
    "\n",
    "\n",
    "try:\n",
    "    # Create directories for train and validation sets if they don't exist\n",
    "    os.makedirs(train_dir, exist_ok=True)\n",
    "    os.makedirs(val_dir, exist_ok=True)\n",
    "    \n",
    "    # Print the number of images available\n",
    "    print(f\"Total images available: {len(os.listdir(photos_dir))}\")\n",
    "    logger.info(f'{len(os.listdir(photos_dir))} total images available in {photos_dir}')\n",
    "except Exception as e:\n",
    "    logger.info(f'Error: {e}')\n"
   ]
  },
  {
   "cell_type": "markdown",
   "metadata": {},
   "source": [
    "**Step 3: Split the Dataset**\n",
    "\n",
    "Split the images into training and validation datasets with a specified ratio (default is 80% training, 20% validation)."
   ]
  },
  {
   "cell_type": "code",
   "execution_count": 3,
   "metadata": {},
   "outputs": [
    {
     "name": "stdout",
     "output_type": "stream",
     "text": [
      "Training images: 453\n",
      "Validation images: 114\n"
     ]
    }
   ],
   "source": [
    "def split_dataset(source_dir, train_dir, val_dir, split_ratio=0.8):\n",
    "    # List all images in the source directory\n",
    "    images = [f for f in os.listdir(source_dir) if f.endswith('.jpg')]\n",
    "    random.shuffle(images)  # Shuffle the images for random selection\n",
    "\n",
    "    # Calculate the split index\n",
    "    split_index = int(len(images) * split_ratio)\n",
    "    train_images = images[:split_index]\n",
    "    val_images = images[split_index:]\n",
    "\n",
    "    # Copy images to the respective directories\n",
    "    for image in train_images:\n",
    "        shutil.copy(os.path.join(source_dir, image), train_dir)\n",
    "    for image in val_images:\n",
    "        shutil.copy(os.path.join(source_dir, image), val_dir)\n",
    "    \n",
    "    print(f\"Training images: {len(train_images)}\")\n",
    "    print(f\"Validation images: {len(val_images)}\")\n",
    "\n",
    "\n",
    "if __name__=='__main__':\n",
    "    \n",
    "    try:\n",
    "        # Call the function to split the dataset\n",
    "        split_dataset(photos_dir, train_dir, val_dir)\n",
    "        logger.info(f'Splited the dataset into train and validation sets.')\n",
    "    except Exception as e:\n",
    "        logger.info(f'Error: {e}')\n"
   ]
  },
  {
   "cell_type": "markdown",
   "metadata": {},
   "source": [
    "**Step 4: Prepare YOLOv5 Environment**\n",
    "\n",
    "Clone the YOLOv5 repository if it isn't already cloned, and install the necessary requirements."
   ]
  },
  {
   "cell_type": "code",
   "execution_count": 4,
   "metadata": {},
   "outputs": [],
   "source": [
    "# Clone the YOLOv5 repository (only run this if you don't have YOLOv5 cloned already)\n",
    "\n",
    "# uncomment below line, and run the cell\n",
    "\n",
    "#!git clone https://github.com/ultralytics/yolov5.git\n",
    "\n",
    "# Change the working directory to yolov5\n",
    "\n",
    "# uncomment below line, and run the cell\n",
    "#%cd yolov5\n",
    "\n",
    "# Install required packages for YOLOv5\n",
    "# uncomment below line, and run the cell\n",
    "\n",
    "#!pip install -r requirements.txt\n",
    "\n",
    "#' to automatically track and visualize YOLOv5 🚀 runs in Comet\n",
    "# uncomment below line, and run the cell\n",
    "#%pip install comet_ml\n"
   ]
  },
  {
   "cell_type": "markdown",
   "metadata": {},
   "source": [
    "**Step 5: Create the Data YAML File**\n",
    "\n",
    "The YAML file will define paths to training and validation data, the number of classes, and their names."
   ]
  },
  {
   "cell_type": "code",
   "execution_count": 4,
   "metadata": {},
   "outputs": [
    {
     "name": "stdout",
     "output_type": "stream",
     "text": [
      "True\n",
      "True\n"
     ]
    }
   ],
   "source": [
    "# Define the content of the YAML file\n",
    "yaml_content = \"\"\"\n",
    "train: D:/KMAI3/EMB-DataWarehouse/data/train/images  # Update this if you have a separate directory for training\n",
    "val: D:/KMAI3/EMB-DataWarehouse/data/valid/images    # Update this if you have a separate directory for validation\n",
    "\n",
    "nc: 9  # Number of classes\n",
    "names: [\n",
    "  'cosmotic',\n",
    "  'food-package', \n",
    "  'supliment', \n",
    "  'formula-milk', \n",
    "  'lotion-moisturizer', \n",
    "  'medicine', \n",
    "  'mini-drop', \n",
    "  'pregnancy', \n",
    "  'other'\n",
    "]\n",
    "\"\"\"\n",
    "\n",
    "# Write the content to a file\n",
    "with open(\"medical_dataset.yml\", \"w\") as file:\n",
    "    file.write(yaml_content)\n",
    "\n",
    "# Verify the file was created\n",
    "\n",
    "print(os.path.exists(\"medical_dataset.yml\"))  # Should return True\n",
    "\n",
    "# Check the existence of the image directory\n",
    "print(os.path.exists('D:/KMAI3/EMB-DataWarehouse/data/train/images'))"
   ]
  },
  {
   "cell_type": "markdown",
   "metadata": {},
   "source": [
    "**Step 6: Train the YOLOv5 Model**\n",
    "\n",
    "Train the model using the dataset and configuration set up in the previous steps."
   ]
  },
  {
   "cell_type": "markdown",
   "metadata": {},
   "source": [
    "Downloading labeled dataset from roboflow"
   ]
  },
  {
   "cell_type": "code",
   "execution_count": 5,
   "metadata": {},
   "outputs": [
    {
     "name": "stdout",
     "output_type": "stream",
     "text": [
      "loading Roboflow workspace...\n",
      "loading Roboflow project...\n"
     ]
    },
    {
     "name": "stderr",
     "output_type": "stream",
     "text": [
      "Downloading Dataset Version Zip in medical-products-1 to yolov8:: 100%|██████████| 7971/7971 [00:01<00:00, 5626.02it/s] "
     ]
    },
    {
     "name": "stdout",
     "output_type": "stream",
     "text": [
      "\n"
     ]
    },
    {
     "name": "stderr",
     "output_type": "stream",
     "text": [
      "\n",
      "Extracting Dataset Version Zip to medical-products-1 in yolov8:: 100%|██████████| 392/392 [00:00<00:00, 2007.19it/s]\n"
     ]
    }
   ],
   "source": [
    "# Install requirements\n",
    "#%pip install ultralytics roboflow\n",
    "\n",
    "# Download dataset (same as YOLOv5)\n",
    "from roboflow import Roboflow\n",
    "rf = Roboflow(api_key=\"eDraTy7oHELDj6QbeQ2L\")\n",
    "project = rf.workspace(\"medical-products\").project(\"medical-products\")\n",
    "version = project.version(1)\n",
    "dataset = version.download(\"yolov8\")  # Changed to yolov8 format\n"
   ]
  },
  {
   "cell_type": "code",
   "execution_count": 6,
   "metadata": {},
   "outputs": [
    {
     "name": "stdout",
     "output_type": "stream",
     "text": [
      "Downloading https://github.com/ultralytics/assets/releases/download/v8.3.0/yolov8s.pt to 'yolov8s.pt'...\n"
     ]
    },
    {
     "name": "stderr",
     "output_type": "stream",
     "text": [
      "100%|██████████| 21.5M/21.5M [00:03<00:00, 6.22MB/s]\n"
     ]
    }
   ],
   "source": [
    "# Base training command (yolov8s)\n",
    "from ultralytics import YOLO\n",
    "\n",
    "# Load model\n",
    "model = YOLO(\"yolov8s.pt\")  # YOLOv8 small model"
   ]
  },
  {
   "cell_type": "code",
   "execution_count": 7,
   "metadata": {},
   "outputs": [
    {
     "name": "stdout",
     "output_type": "stream",
     "text": [
      "Ultralytics 8.3.70  Python-3.12.8 torch-2.6.0+cpu CPU (11th Gen Intel Core(TM) i5-11320H 3.20GHz)\n",
      "\u001b[34m\u001b[1mengine\\trainer: \u001b[0mtask=detect, mode=train, model=yolov8s.pt, data=d:\\KMAI3\\EMB-DataWarehouse\\notebbooks\\medical-products-1/data.yaml, epochs=5, time=None, patience=100, batch=16, imgsz=640, save=True, save_period=-1, cache=False, device=None, workers=8, project=medical-detection, name=fine_tuned_model, exist_ok=False, pretrained=True, optimizer=auto, verbose=True, seed=0, deterministic=True, single_cls=False, rect=False, cos_lr=False, close_mosaic=10, resume=False, amp=True, fraction=1.0, profile=False, freeze=None, multi_scale=False, overlap_mask=True, mask_ratio=4, dropout=0.0, val=True, split=val, save_json=False, save_hybrid=False, conf=None, iou=0.7, max_det=300, half=False, dnn=False, plots=True, source=None, vid_stride=1, stream_buffer=False, visualize=False, augment=False, agnostic_nms=False, classes=None, retina_masks=False, embed=None, show=False, save_frames=False, save_txt=False, save_conf=False, save_crop=False, show_labels=True, show_conf=True, show_boxes=True, line_width=None, format=torchscript, keras=False, optimize=False, int8=False, dynamic=False, simplify=True, opset=None, workspace=None, nms=False, lr0=0.01, lrf=0.01, momentum=0.937, weight_decay=0.0005, warmup_epochs=3.0, warmup_momentum=0.8, warmup_bias_lr=0.1, box=7.5, cls=0.5, dfl=1.5, pose=12.0, kobj=1.0, nbs=64, hsv_h=0.015, hsv_s=0.7, hsv_v=0.4, degrees=0.0, translate=0.1, scale=0.5, shear=0.0, perspective=0.0, flipud=0.0, fliplr=0.5, bgr=0.0, mosaic=1.0, mixup=0.0, copy_paste=0.0, copy_paste_mode=flip, auto_augment=randaugment, erasing=0.4, crop_fraction=1.0, cfg=None, tracker=botsort.yaml, save_dir=medical-detection\\fine_tuned_model\n",
      "Overriding model.yaml nc=80 with nc=8\n",
      "\n",
      "                   from  n    params  module                                       arguments                     \n",
      "  0                  -1  1       928  ultralytics.nn.modules.conv.Conv             [3, 32, 3, 2]                 \n",
      "  1                  -1  1     18560  ultralytics.nn.modules.conv.Conv             [32, 64, 3, 2]                \n",
      "  2                  -1  1     29056  ultralytics.nn.modules.block.C2f             [64, 64, 1, True]             \n",
      "  3                  -1  1     73984  ultralytics.nn.modules.conv.Conv             [64, 128, 3, 2]               \n",
      "  4                  -1  2    197632  ultralytics.nn.modules.block.C2f             [128, 128, 2, True]           \n",
      "  5                  -1  1    295424  ultralytics.nn.modules.conv.Conv             [128, 256, 3, 2]              \n",
      "  6                  -1  2    788480  ultralytics.nn.modules.block.C2f             [256, 256, 2, True]           \n",
      "  7                  -1  1   1180672  ultralytics.nn.modules.conv.Conv             [256, 512, 3, 2]              \n",
      "  8                  -1  1   1838080  ultralytics.nn.modules.block.C2f             [512, 512, 1, True]           \n",
      "  9                  -1  1    656896  ultralytics.nn.modules.block.SPPF            [512, 512, 5]                 \n",
      " 10                  -1  1         0  torch.nn.modules.upsampling.Upsample         [None, 2, 'nearest']          \n",
      " 11             [-1, 6]  1         0  ultralytics.nn.modules.conv.Concat           [1]                           \n",
      " 12                  -1  1    591360  ultralytics.nn.modules.block.C2f             [768, 256, 1]                 \n",
      " 13                  -1  1         0  torch.nn.modules.upsampling.Upsample         [None, 2, 'nearest']          \n",
      " 14             [-1, 4]  1         0  ultralytics.nn.modules.conv.Concat           [1]                           \n",
      " 15                  -1  1    148224  ultralytics.nn.modules.block.C2f             [384, 128, 1]                 \n",
      " 16                  -1  1    147712  ultralytics.nn.modules.conv.Conv             [128, 128, 3, 2]              \n",
      " 17            [-1, 12]  1         0  ultralytics.nn.modules.conv.Concat           [1]                           \n",
      " 18                  -1  1    493056  ultralytics.nn.modules.block.C2f             [384, 256, 1]                 \n",
      " 19                  -1  1    590336  ultralytics.nn.modules.conv.Conv             [256, 256, 3, 2]              \n",
      " 20             [-1, 9]  1         0  ultralytics.nn.modules.conv.Concat           [1]                           \n",
      " 21                  -1  1   1969152  ultralytics.nn.modules.block.C2f             [768, 512, 1]                 \n",
      " 22        [15, 18, 21]  1   2119144  ultralytics.nn.modules.head.Detect           [8, [128, 256, 512]]          \n",
      "Model summary: 225 layers, 11,138,696 parameters, 11,138,680 gradients, 28.7 GFLOPs\n",
      "\n",
      "Transferred 349/355 items from pretrained weights\n",
      "WARNING  Comet installed but not initialized correctly, not logging this run. Comet.ml requires an API key. Please provide as the first argument to Experiment(api_key) or as an environment variable named COMET_API_KEY \n",
      "\u001b[34m\u001b[1mTensorBoard: \u001b[0mStart with 'tensorboard --logdir medical-detection\\fine_tuned_model', view at http://localhost:6006/\n",
      "Freezing layer 'model.22.dfl.conv.weight'\n"
     ]
    },
    {
     "name": "stderr",
     "output_type": "stream",
     "text": [
      "\u001b[34m\u001b[1mtrain: \u001b[0mScanning D:\\KMAI3\\EMB-DataWarehouse\\notebbooks\\medical-products-1\\train\\labels... 133 images, 0 backgrounds, 0 corrupt: 100%|██████████| 133/133 [00:00<00:00, 304.31it/s]"
     ]
    },
    {
     "name": "stdout",
     "output_type": "stream",
     "text": [
      "\u001b[34m\u001b[1mtrain: \u001b[0mNew cache created: D:\\KMAI3\\EMB-DataWarehouse\\notebbooks\\medical-products-1\\train\\labels.cache\n",
      "WARNING  Box and segment counts should be equal, but got len(segments) = 1, len(boxes) = 177. To resolve this only boxes will be used and all segments will be removed. To avoid this please supply either a detect or segment dataset, not a detect-segment mixed dataset.\n"
     ]
    },
    {
     "name": "stderr",
     "output_type": "stream",
     "text": [
      "\n",
      "\u001b[34m\u001b[1mval: \u001b[0mScanning D:\\KMAI3\\EMB-DataWarehouse\\notebbooks\\medical-products-1\\valid\\labels... 38 images, 0 backgrounds, 0 corrupt: 100%|██████████| 38/38 [00:00<00:00, 361.05it/s]"
     ]
    },
    {
     "name": "stdout",
     "output_type": "stream",
     "text": [
      "\u001b[34m\u001b[1mval: \u001b[0mNew cache created: D:\\KMAI3\\EMB-DataWarehouse\\notebbooks\\medical-products-1\\valid\\labels.cache\n"
     ]
    },
    {
     "name": "stderr",
     "output_type": "stream",
     "text": [
      "\n"
     ]
    },
    {
     "name": "stdout",
     "output_type": "stream",
     "text": [
      "Plotting labels to medical-detection\\fine_tuned_model\\labels.jpg... \n",
      "\u001b[34m\u001b[1moptimizer:\u001b[0m 'optimizer=auto' found, ignoring 'lr0=0.01' and 'momentum=0.937' and determining best 'optimizer', 'lr0' and 'momentum' automatically... \n",
      "\u001b[34m\u001b[1moptimizer:\u001b[0m AdamW(lr=0.000833, momentum=0.9) with parameter groups 57 weight(decay=0.0), 64 weight(decay=0.0005), 63 bias(decay=0.0)\n",
      "\u001b[34m\u001b[1mTensorBoard: \u001b[0mmodel graph visualization added \n",
      "Image sizes 640 train, 640 val\n",
      "Using 0 dataloader workers\n",
      "Logging results to \u001b[1mmedical-detection\\fine_tuned_model\u001b[0m\n",
      "Starting training for 5 epochs...\n",
      "\n",
      "      Epoch    GPU_mem   box_loss   cls_loss   dfl_loss  Instances       Size\n"
     ]
    },
    {
     "name": "stderr",
     "output_type": "stream",
     "text": [
      "        1/5         0G       1.59       6.57      1.882         15        640: 100%|██████████| 9/9 [01:33<00:00, 10.33s/it]\n",
      "                 Class     Images  Instances      Box(P          R      mAP50  mAP50-95):   0%|          | 0/2 [00:00<?, ?it/s]"
     ]
    },
    {
     "name": "stdout",
     "output_type": "stream",
     "text": [
      "WARNING  NMS time limit 3.600s exceeded\n"
     ]
    },
    {
     "name": "stderr",
     "output_type": "stream",
     "text": [
      "                 Class     Images  Instances      Box(P          R      mAP50  mAP50-95): 100%|██████████| 2/2 [00:15<00:00,  7.92s/it]"
     ]
    },
    {
     "name": "stdout",
     "output_type": "stream",
     "text": [
      "                   all         38         55      0.354     0.0833     0.0697     0.0395\n"
     ]
    },
    {
     "name": "stderr",
     "output_type": "stream",
     "text": [
      "\n"
     ]
    },
    {
     "name": "stdout",
     "output_type": "stream",
     "text": [
      "\n",
      "      Epoch    GPU_mem   box_loss   cls_loss   dfl_loss  Instances       Size\n"
     ]
    },
    {
     "name": "stderr",
     "output_type": "stream",
     "text": [
      "        2/5         0G      1.132      3.338       1.46         17        640: 100%|██████████| 9/9 [01:31<00:00, 10.14s/it]\n",
      "                 Class     Images  Instances      Box(P          R      mAP50  mAP50-95):   0%|          | 0/2 [00:00<?, ?it/s]"
     ]
    },
    {
     "name": "stdout",
     "output_type": "stream",
     "text": [
      "WARNING  NMS time limit 3.600s exceeded\n"
     ]
    },
    {
     "name": "stderr",
     "output_type": "stream",
     "text": [
      "                 Class     Images  Instances      Box(P          R      mAP50  mAP50-95): 100%|██████████| 2/2 [00:15<00:00,  7.96s/it]"
     ]
    },
    {
     "name": "stdout",
     "output_type": "stream",
     "text": [
      "                   all         38         55      0.337     0.0774     0.0238     0.0156\n"
     ]
    },
    {
     "name": "stderr",
     "output_type": "stream",
     "text": [
      "\n"
     ]
    },
    {
     "name": "stdout",
     "output_type": "stream",
     "text": [
      "\n",
      "      Epoch    GPU_mem   box_loss   cls_loss   dfl_loss  Instances       Size\n"
     ]
    },
    {
     "name": "stderr",
     "output_type": "stream",
     "text": [
      "        3/5         0G      1.024      2.741      1.405         19        640: 100%|██████████| 9/9 [01:42<00:00, 11.43s/it]\n",
      "                 Class     Images  Instances      Box(P          R      mAP50  mAP50-95):   0%|          | 0/2 [00:00<?, ?it/s]"
     ]
    },
    {
     "name": "stdout",
     "output_type": "stream",
     "text": [
      "WARNING  NMS time limit 3.600s exceeded\n"
     ]
    },
    {
     "name": "stderr",
     "output_type": "stream",
     "text": [
      "                 Class     Images  Instances      Box(P          R      mAP50  mAP50-95): 100%|██████████| 2/2 [00:13<00:00,  6.93s/it]"
     ]
    },
    {
     "name": "stdout",
     "output_type": "stream",
     "text": [
      "                   all         38         55      0.467      0.185      0.124     0.0861\n"
     ]
    },
    {
     "name": "stderr",
     "output_type": "stream",
     "text": [
      "\n"
     ]
    },
    {
     "name": "stdout",
     "output_type": "stream",
     "text": [
      "\n",
      "      Epoch    GPU_mem   box_loss   cls_loss   dfl_loss  Instances       Size\n"
     ]
    },
    {
     "name": "stderr",
     "output_type": "stream",
     "text": [
      "        4/5         0G     0.8789       2.29      1.267         14        640: 100%|██████████| 9/9 [01:04<00:00,  7.19s/it]\n",
      "                 Class     Images  Instances      Box(P          R      mAP50  mAP50-95): 100%|██████████| 2/2 [00:09<00:00,  4.91s/it]"
     ]
    },
    {
     "name": "stdout",
     "output_type": "stream",
     "text": [
      "                   all         38         55      0.162      0.499      0.201      0.149\n"
     ]
    },
    {
     "name": "stderr",
     "output_type": "stream",
     "text": [
      "\n"
     ]
    },
    {
     "name": "stdout",
     "output_type": "stream",
     "text": [
      "\n",
      "      Epoch    GPU_mem   box_loss   cls_loss   dfl_loss  Instances       Size\n"
     ]
    },
    {
     "name": "stderr",
     "output_type": "stream",
     "text": [
      "        5/5         0G     0.8849      2.207      1.323         10        640: 100%|██████████| 9/9 [01:04<00:00,  7.11s/it]\n",
      "                 Class     Images  Instances      Box(P          R      mAP50  mAP50-95):   0%|          | 0/2 [00:00<?, ?it/s]"
     ]
    },
    {
     "name": "stdout",
     "output_type": "stream",
     "text": [
      "WARNING  NMS time limit 3.600s exceeded\n"
     ]
    },
    {
     "name": "stderr",
     "output_type": "stream",
     "text": [
      "                 Class     Images  Instances      Box(P          R      mAP50  mAP50-95): 100%|██████████| 2/2 [00:11<00:00,  5.52s/it]"
     ]
    },
    {
     "name": "stdout",
     "output_type": "stream",
     "text": [
      "                   all         38         55      0.248       0.37      0.254      0.201\n"
     ]
    },
    {
     "name": "stderr",
     "output_type": "stream",
     "text": [
      "\n"
     ]
    },
    {
     "name": "stdout",
     "output_type": "stream",
     "text": [
      "\n",
      "5 epochs completed in 0.137 hours.\n",
      "Optimizer stripped from medical-detection\\fine_tuned_model\\weights\\last.pt, 22.5MB\n",
      "Optimizer stripped from medical-detection\\fine_tuned_model\\weights\\best.pt, 22.5MB\n",
      "\n",
      "Validating medical-detection\\fine_tuned_model\\weights\\best.pt...\n",
      "Ultralytics 8.3.70  Python-3.12.8 torch-2.6.0+cpu CPU (11th Gen Intel Core(TM) i5-11320H 3.20GHz)\n",
      "Model summary (fused): 168 layers, 11,128,680 parameters, 0 gradients, 28.5 GFLOPs\n"
     ]
    },
    {
     "name": "stderr",
     "output_type": "stream",
     "text": [
      "                 Class     Images  Instances      Box(P          R      mAP50  mAP50-95):   0%|          | 0/2 [00:00<?, ?it/s]"
     ]
    },
    {
     "name": "stdout",
     "output_type": "stream",
     "text": [
      "WARNING  NMS time limit 3.600s exceeded\n"
     ]
    },
    {
     "name": "stderr",
     "output_type": "stream",
     "text": [
      "                 Class     Images  Instances      Box(P          R      mAP50  mAP50-95): 100%|██████████| 2/2 [00:10<00:00,  5.50s/it]\n"
     ]
    },
    {
     "name": "stdout",
     "output_type": "stream",
     "text": [
      "                   all         38         55      0.251      0.372      0.253      0.202\n",
      "              cosmotic          4          6     0.0328     0.0601      0.047     0.0392\n",
      "          food-package          3          3     0.0967      0.333      0.132      0.105\n",
      "        food-supliment         16         24       0.36      0.625      0.357      0.248\n",
      "          formula-milk          8          8      0.203       0.75      0.403       0.36\n",
      "       lotion-moisture          4          4      0.244        0.5      0.289      0.203\n",
      "              medicine          6          7          0          0     0.0966     0.0516\n",
      "             mini-drop          2          3      0.823      0.333       0.45      0.405\n",
      "Speed: 1.1ms preprocess, 162.2ms inference, 0.0ms loss, 118.5ms postprocess per image\n",
      "Results saved to \u001b[1mmedical-detection\\fine_tuned_model\u001b[0m\n"
     ]
    },
    {
     "data": {
      "text/plain": [
       "ultralytics.utils.metrics.DetMetrics object with attributes:\n",
       "\n",
       "ap_class_index: array([0, 1, 2, 3, 4, 5, 6])\n",
       "box: ultralytics.utils.metrics.Metric object\n",
       "confusion_matrix: <ultralytics.utils.metrics.ConfusionMatrix object at 0x000001DFC5B78E00>\n",
       "curves: ['Precision-Recall(B)', 'F1-Confidence(B)', 'Precision-Confidence(B)', 'Recall-Confidence(B)']\n",
       "curves_results: [[array([          0,    0.001001,    0.002002,    0.003003,    0.004004,    0.005005,    0.006006,    0.007007,    0.008008,    0.009009,     0.01001,    0.011011,    0.012012,    0.013013,    0.014014,    0.015015,    0.016016,    0.017017,    0.018018,    0.019019,     0.02002,    0.021021,    0.022022,    0.023023,\n",
       "          0.024024,    0.025025,    0.026026,    0.027027,    0.028028,    0.029029,     0.03003,    0.031031,    0.032032,    0.033033,    0.034034,    0.035035,    0.036036,    0.037037,    0.038038,    0.039039,     0.04004,    0.041041,    0.042042,    0.043043,    0.044044,    0.045045,    0.046046,    0.047047,\n",
       "          0.048048,    0.049049,     0.05005,    0.051051,    0.052052,    0.053053,    0.054054,    0.055055,    0.056056,    0.057057,    0.058058,    0.059059,     0.06006,    0.061061,    0.062062,    0.063063,    0.064064,    0.065065,    0.066066,    0.067067,    0.068068,    0.069069,     0.07007,    0.071071,\n",
       "          0.072072,    0.073073,    0.074074,    0.075075,    0.076076,    0.077077,    0.078078,    0.079079,     0.08008,    0.081081,    0.082082,    0.083083,    0.084084,    0.085085,    0.086086,    0.087087,    0.088088,    0.089089,     0.09009,    0.091091,    0.092092,    0.093093,    0.094094,    0.095095,\n",
       "          0.096096,    0.097097,    0.098098,    0.099099,      0.1001,      0.1011,      0.1021,      0.1031,      0.1041,     0.10511,     0.10611,     0.10711,     0.10811,     0.10911,     0.11011,     0.11111,     0.11211,     0.11311,     0.11411,     0.11512,     0.11612,     0.11712,     0.11812,     0.11912,\n",
       "           0.12012,     0.12112,     0.12212,     0.12312,     0.12412,     0.12513,     0.12613,     0.12713,     0.12813,     0.12913,     0.13013,     0.13113,     0.13213,     0.13313,     0.13413,     0.13514,     0.13614,     0.13714,     0.13814,     0.13914,     0.14014,     0.14114,     0.14214,     0.14314,\n",
       "           0.14414,     0.14515,     0.14615,     0.14715,     0.14815,     0.14915,     0.15015,     0.15115,     0.15215,     0.15315,     0.15415,     0.15516,     0.15616,     0.15716,     0.15816,     0.15916,     0.16016,     0.16116,     0.16216,     0.16316,     0.16416,     0.16517,     0.16617,     0.16717,\n",
       "           0.16817,     0.16917,     0.17017,     0.17117,     0.17217,     0.17317,     0.17417,     0.17518,     0.17618,     0.17718,     0.17818,     0.17918,     0.18018,     0.18118,     0.18218,     0.18318,     0.18418,     0.18519,     0.18619,     0.18719,     0.18819,     0.18919,     0.19019,     0.19119,\n",
       "           0.19219,     0.19319,     0.19419,      0.1952,      0.1962,      0.1972,      0.1982,      0.1992,      0.2002,      0.2012,      0.2022,      0.2032,      0.2042,     0.20521,     0.20621,     0.20721,     0.20821,     0.20921,     0.21021,     0.21121,     0.21221,     0.21321,     0.21421,     0.21522,\n",
       "           0.21622,     0.21722,     0.21822,     0.21922,     0.22022,     0.22122,     0.22222,     0.22322,     0.22422,     0.22523,     0.22623,     0.22723,     0.22823,     0.22923,     0.23023,     0.23123,     0.23223,     0.23323,     0.23423,     0.23524,     0.23624,     0.23724,     0.23824,     0.23924,\n",
       "           0.24024,     0.24124,     0.24224,     0.24324,     0.24424,     0.24525,     0.24625,     0.24725,     0.24825,     0.24925,     0.25025,     0.25125,     0.25225,     0.25325,     0.25425,     0.25526,     0.25626,     0.25726,     0.25826,     0.25926,     0.26026,     0.26126,     0.26226,     0.26326,\n",
       "           0.26426,     0.26527,     0.26627,     0.26727,     0.26827,     0.26927,     0.27027,     0.27127,     0.27227,     0.27327,     0.27427,     0.27528,     0.27628,     0.27728,     0.27828,     0.27928,     0.28028,     0.28128,     0.28228,     0.28328,     0.28428,     0.28529,     0.28629,     0.28729,\n",
       "           0.28829,     0.28929,     0.29029,     0.29129,     0.29229,     0.29329,     0.29429,      0.2953,      0.2963,      0.2973,      0.2983,      0.2993,      0.3003,      0.3013,      0.3023,      0.3033,      0.3043,     0.30531,     0.30631,     0.30731,     0.30831,     0.30931,     0.31031,     0.31131,\n",
       "           0.31231,     0.31331,     0.31431,     0.31532,     0.31632,     0.31732,     0.31832,     0.31932,     0.32032,     0.32132,     0.32232,     0.32332,     0.32432,     0.32533,     0.32633,     0.32733,     0.32833,     0.32933,     0.33033,     0.33133,     0.33233,     0.33333,     0.33433,     0.33534,\n",
       "           0.33634,     0.33734,     0.33834,     0.33934,     0.34034,     0.34134,     0.34234,     0.34334,     0.34434,     0.34535,     0.34635,     0.34735,     0.34835,     0.34935,     0.35035,     0.35135,     0.35235,     0.35335,     0.35435,     0.35536,     0.35636,     0.35736,     0.35836,     0.35936,\n",
       "           0.36036,     0.36136,     0.36236,     0.36336,     0.36436,     0.36537,     0.36637,     0.36737,     0.36837,     0.36937,     0.37037,     0.37137,     0.37237,     0.37337,     0.37437,     0.37538,     0.37638,     0.37738,     0.37838,     0.37938,     0.38038,     0.38138,     0.38238,     0.38338,\n",
       "           0.38438,     0.38539,     0.38639,     0.38739,     0.38839,     0.38939,     0.39039,     0.39139,     0.39239,     0.39339,     0.39439,      0.3954,      0.3964,      0.3974,      0.3984,      0.3994,      0.4004,      0.4014,      0.4024,      0.4034,      0.4044,     0.40541,     0.40641,     0.40741,\n",
       "           0.40841,     0.40941,     0.41041,     0.41141,     0.41241,     0.41341,     0.41441,     0.41542,     0.41642,     0.41742,     0.41842,     0.41942,     0.42042,     0.42142,     0.42242,     0.42342,     0.42442,     0.42543,     0.42643,     0.42743,     0.42843,     0.42943,     0.43043,     0.43143,\n",
       "           0.43243,     0.43343,     0.43443,     0.43544,     0.43644,     0.43744,     0.43844,     0.43944,     0.44044,     0.44144,     0.44244,     0.44344,     0.44444,     0.44545,     0.44645,     0.44745,     0.44845,     0.44945,     0.45045,     0.45145,     0.45245,     0.45345,     0.45445,     0.45546,\n",
       "           0.45646,     0.45746,     0.45846,     0.45946,     0.46046,     0.46146,     0.46246,     0.46346,     0.46446,     0.46547,     0.46647,     0.46747,     0.46847,     0.46947,     0.47047,     0.47147,     0.47247,     0.47347,     0.47447,     0.47548,     0.47648,     0.47748,     0.47848,     0.47948,\n",
       "           0.48048,     0.48148,     0.48248,     0.48348,     0.48448,     0.48549,     0.48649,     0.48749,     0.48849,     0.48949,     0.49049,     0.49149,     0.49249,     0.49349,     0.49449,      0.4955,      0.4965,      0.4975,      0.4985,      0.4995,      0.5005,      0.5015,      0.5025,      0.5035,\n",
       "            0.5045,     0.50551,     0.50651,     0.50751,     0.50851,     0.50951,     0.51051,     0.51151,     0.51251,     0.51351,     0.51451,     0.51552,     0.51652,     0.51752,     0.51852,     0.51952,     0.52052,     0.52152,     0.52252,     0.52352,     0.52452,     0.52553,     0.52653,     0.52753,\n",
       "           0.52853,     0.52953,     0.53053,     0.53153,     0.53253,     0.53353,     0.53453,     0.53554,     0.53654,     0.53754,     0.53854,     0.53954,     0.54054,     0.54154,     0.54254,     0.54354,     0.54454,     0.54555,     0.54655,     0.54755,     0.54855,     0.54955,     0.55055,     0.55155,\n",
       "           0.55255,     0.55355,     0.55455,     0.55556,     0.55656,     0.55756,     0.55856,     0.55956,     0.56056,     0.56156,     0.56256,     0.56356,     0.56456,     0.56557,     0.56657,     0.56757,     0.56857,     0.56957,     0.57057,     0.57157,     0.57257,     0.57357,     0.57457,     0.57558,\n",
       "           0.57658,     0.57758,     0.57858,     0.57958,     0.58058,     0.58158,     0.58258,     0.58358,     0.58458,     0.58559,     0.58659,     0.58759,     0.58859,     0.58959,     0.59059,     0.59159,     0.59259,     0.59359,     0.59459,      0.5956,      0.5966,      0.5976,      0.5986,      0.5996,\n",
       "            0.6006,      0.6016,      0.6026,      0.6036,      0.6046,     0.60561,     0.60661,     0.60761,     0.60861,     0.60961,     0.61061,     0.61161,     0.61261,     0.61361,     0.61461,     0.61562,     0.61662,     0.61762,     0.61862,     0.61962,     0.62062,     0.62162,     0.62262,     0.62362,\n",
       "           0.62462,     0.62563,     0.62663,     0.62763,     0.62863,     0.62963,     0.63063,     0.63163,     0.63263,     0.63363,     0.63463,     0.63564,     0.63664,     0.63764,     0.63864,     0.63964,     0.64064,     0.64164,     0.64264,     0.64364,     0.64464,     0.64565,     0.64665,     0.64765,\n",
       "           0.64865,     0.64965,     0.65065,     0.65165,     0.65265,     0.65365,     0.65465,     0.65566,     0.65666,     0.65766,     0.65866,     0.65966,     0.66066,     0.66166,     0.66266,     0.66366,     0.66466,     0.66567,     0.66667,     0.66767,     0.66867,     0.66967,     0.67067,     0.67167,\n",
       "           0.67267,     0.67367,     0.67467,     0.67568,     0.67668,     0.67768,     0.67868,     0.67968,     0.68068,     0.68168,     0.68268,     0.68368,     0.68468,     0.68569,     0.68669,     0.68769,     0.68869,     0.68969,     0.69069,     0.69169,     0.69269,     0.69369,     0.69469,      0.6957,\n",
       "            0.6967,      0.6977,      0.6987,      0.6997,      0.7007,      0.7017,      0.7027,      0.7037,      0.7047,     0.70571,     0.70671,     0.70771,     0.70871,     0.70971,     0.71071,     0.71171,     0.71271,     0.71371,     0.71471,     0.71572,     0.71672,     0.71772,     0.71872,     0.71972,\n",
       "           0.72072,     0.72172,     0.72272,     0.72372,     0.72472,     0.72573,     0.72673,     0.72773,     0.72873,     0.72973,     0.73073,     0.73173,     0.73273,     0.73373,     0.73473,     0.73574,     0.73674,     0.73774,     0.73874,     0.73974,     0.74074,     0.74174,     0.74274,     0.74374,\n",
       "           0.74474,     0.74575,     0.74675,     0.74775,     0.74875,     0.74975,     0.75075,     0.75175,     0.75275,     0.75375,     0.75475,     0.75576,     0.75676,     0.75776,     0.75876,     0.75976,     0.76076,     0.76176,     0.76276,     0.76376,     0.76476,     0.76577,     0.76677,     0.76777,\n",
       "           0.76877,     0.76977,     0.77077,     0.77177,     0.77277,     0.77377,     0.77477,     0.77578,     0.77678,     0.77778,     0.77878,     0.77978,     0.78078,     0.78178,     0.78278,     0.78378,     0.78478,     0.78579,     0.78679,     0.78779,     0.78879,     0.78979,     0.79079,     0.79179,\n",
       "           0.79279,     0.79379,     0.79479,      0.7958,      0.7968,      0.7978,      0.7988,      0.7998,      0.8008,      0.8018,      0.8028,      0.8038,      0.8048,     0.80581,     0.80681,     0.80781,     0.80881,     0.80981,     0.81081,     0.81181,     0.81281,     0.81381,     0.81481,     0.81582,\n",
       "           0.81682,     0.81782,     0.81882,     0.81982,     0.82082,     0.82182,     0.82282,     0.82382,     0.82482,     0.82583,     0.82683,     0.82783,     0.82883,     0.82983,     0.83083,     0.83183,     0.83283,     0.83383,     0.83483,     0.83584,     0.83684,     0.83784,     0.83884,     0.83984,\n",
       "           0.84084,     0.84184,     0.84284,     0.84384,     0.84484,     0.84585,     0.84685,     0.84785,     0.84885,     0.84985,     0.85085,     0.85185,     0.85285,     0.85385,     0.85485,     0.85586,     0.85686,     0.85786,     0.85886,     0.85986,     0.86086,     0.86186,     0.86286,     0.86386,\n",
       "           0.86486,     0.86587,     0.86687,     0.86787,     0.86887,     0.86987,     0.87087,     0.87187,     0.87287,     0.87387,     0.87487,     0.87588,     0.87688,     0.87788,     0.87888,     0.87988,     0.88088,     0.88188,     0.88288,     0.88388,     0.88488,     0.88589,     0.88689,     0.88789,\n",
       "           0.88889,     0.88989,     0.89089,     0.89189,     0.89289,     0.89389,     0.89489,      0.8959,      0.8969,      0.8979,      0.8989,      0.8999,      0.9009,      0.9019,      0.9029,      0.9039,      0.9049,     0.90591,     0.90691,     0.90791,     0.90891,     0.90991,     0.91091,     0.91191,\n",
       "           0.91291,     0.91391,     0.91491,     0.91592,     0.91692,     0.91792,     0.91892,     0.91992,     0.92092,     0.92192,     0.92292,     0.92392,     0.92492,     0.92593,     0.92693,     0.92793,     0.92893,     0.92993,     0.93093,     0.93193,     0.93293,     0.93393,     0.93493,     0.93594,\n",
       "           0.93694,     0.93794,     0.93894,     0.93994,     0.94094,     0.94194,     0.94294,     0.94394,     0.94494,     0.94595,     0.94695,     0.94795,     0.94895,     0.94995,     0.95095,     0.95195,     0.95295,     0.95395,     0.95495,     0.95596,     0.95696,     0.95796,     0.95896,     0.95996,\n",
       "           0.96096,     0.96196,     0.96296,     0.96396,     0.96496,     0.96597,     0.96697,     0.96797,     0.96897,     0.96997,     0.97097,     0.97197,     0.97297,     0.97397,     0.97497,     0.97598,     0.97698,     0.97798,     0.97898,     0.97998,     0.98098,     0.98198,     0.98298,     0.98398,\n",
       "           0.98498,     0.98599,     0.98699,     0.98799,     0.98899,     0.98999,     0.99099,     0.99199,     0.99299,     0.99399,     0.99499,       0.996,       0.997,       0.998,       0.999,           1]), array([[   0.090909,    0.090909,    0.090909, ...,   7.258e-05,   3.629e-05,           0],\n",
       "       [       0.25,        0.25,        0.25, ...,  0.00013807,  6.9035e-05,           0],\n",
       "       [    0.57143,     0.57143,     0.57143, ...,  0.00059811,  0.00029905,           0],\n",
       "       ...,\n",
       "       [        0.5,         0.5,         0.5, ...,     0.13333,     0.13333,           0],\n",
       "       [    0.11765,     0.11765,     0.11765, ...,  5.7949e-05,  2.8975e-05,           0],\n",
       "       [          1,           1,           1, ...,  0.00016918,  8.4592e-05,           0]]), 'Recall', 'Precision'], [array([          0,    0.001001,    0.002002,    0.003003,    0.004004,    0.005005,    0.006006,    0.007007,    0.008008,    0.009009,     0.01001,    0.011011,    0.012012,    0.013013,    0.014014,    0.015015,    0.016016,    0.017017,    0.018018,    0.019019,     0.02002,    0.021021,    0.022022,    0.023023,\n",
       "          0.024024,    0.025025,    0.026026,    0.027027,    0.028028,    0.029029,     0.03003,    0.031031,    0.032032,    0.033033,    0.034034,    0.035035,    0.036036,    0.037037,    0.038038,    0.039039,     0.04004,    0.041041,    0.042042,    0.043043,    0.044044,    0.045045,    0.046046,    0.047047,\n",
       "          0.048048,    0.049049,     0.05005,    0.051051,    0.052052,    0.053053,    0.054054,    0.055055,    0.056056,    0.057057,    0.058058,    0.059059,     0.06006,    0.061061,    0.062062,    0.063063,    0.064064,    0.065065,    0.066066,    0.067067,    0.068068,    0.069069,     0.07007,    0.071071,\n",
       "          0.072072,    0.073073,    0.074074,    0.075075,    0.076076,    0.077077,    0.078078,    0.079079,     0.08008,    0.081081,    0.082082,    0.083083,    0.084084,    0.085085,    0.086086,    0.087087,    0.088088,    0.089089,     0.09009,    0.091091,    0.092092,    0.093093,    0.094094,    0.095095,\n",
       "          0.096096,    0.097097,    0.098098,    0.099099,      0.1001,      0.1011,      0.1021,      0.1031,      0.1041,     0.10511,     0.10611,     0.10711,     0.10811,     0.10911,     0.11011,     0.11111,     0.11211,     0.11311,     0.11411,     0.11512,     0.11612,     0.11712,     0.11812,     0.11912,\n",
       "           0.12012,     0.12112,     0.12212,     0.12312,     0.12412,     0.12513,     0.12613,     0.12713,     0.12813,     0.12913,     0.13013,     0.13113,     0.13213,     0.13313,     0.13413,     0.13514,     0.13614,     0.13714,     0.13814,     0.13914,     0.14014,     0.14114,     0.14214,     0.14314,\n",
       "           0.14414,     0.14515,     0.14615,     0.14715,     0.14815,     0.14915,     0.15015,     0.15115,     0.15215,     0.15315,     0.15415,     0.15516,     0.15616,     0.15716,     0.15816,     0.15916,     0.16016,     0.16116,     0.16216,     0.16316,     0.16416,     0.16517,     0.16617,     0.16717,\n",
       "           0.16817,     0.16917,     0.17017,     0.17117,     0.17217,     0.17317,     0.17417,     0.17518,     0.17618,     0.17718,     0.17818,     0.17918,     0.18018,     0.18118,     0.18218,     0.18318,     0.18418,     0.18519,     0.18619,     0.18719,     0.18819,     0.18919,     0.19019,     0.19119,\n",
       "           0.19219,     0.19319,     0.19419,      0.1952,      0.1962,      0.1972,      0.1982,      0.1992,      0.2002,      0.2012,      0.2022,      0.2032,      0.2042,     0.20521,     0.20621,     0.20721,     0.20821,     0.20921,     0.21021,     0.21121,     0.21221,     0.21321,     0.21421,     0.21522,\n",
       "           0.21622,     0.21722,     0.21822,     0.21922,     0.22022,     0.22122,     0.22222,     0.22322,     0.22422,     0.22523,     0.22623,     0.22723,     0.22823,     0.22923,     0.23023,     0.23123,     0.23223,     0.23323,     0.23423,     0.23524,     0.23624,     0.23724,     0.23824,     0.23924,\n",
       "           0.24024,     0.24124,     0.24224,     0.24324,     0.24424,     0.24525,     0.24625,     0.24725,     0.24825,     0.24925,     0.25025,     0.25125,     0.25225,     0.25325,     0.25425,     0.25526,     0.25626,     0.25726,     0.25826,     0.25926,     0.26026,     0.26126,     0.26226,     0.26326,\n",
       "           0.26426,     0.26527,     0.26627,     0.26727,     0.26827,     0.26927,     0.27027,     0.27127,     0.27227,     0.27327,     0.27427,     0.27528,     0.27628,     0.27728,     0.27828,     0.27928,     0.28028,     0.28128,     0.28228,     0.28328,     0.28428,     0.28529,     0.28629,     0.28729,\n",
       "           0.28829,     0.28929,     0.29029,     0.29129,     0.29229,     0.29329,     0.29429,      0.2953,      0.2963,      0.2973,      0.2983,      0.2993,      0.3003,      0.3013,      0.3023,      0.3033,      0.3043,     0.30531,     0.30631,     0.30731,     0.30831,     0.30931,     0.31031,     0.31131,\n",
       "           0.31231,     0.31331,     0.31431,     0.31532,     0.31632,     0.31732,     0.31832,     0.31932,     0.32032,     0.32132,     0.32232,     0.32332,     0.32432,     0.32533,     0.32633,     0.32733,     0.32833,     0.32933,     0.33033,     0.33133,     0.33233,     0.33333,     0.33433,     0.33534,\n",
       "           0.33634,     0.33734,     0.33834,     0.33934,     0.34034,     0.34134,     0.34234,     0.34334,     0.34434,     0.34535,     0.34635,     0.34735,     0.34835,     0.34935,     0.35035,     0.35135,     0.35235,     0.35335,     0.35435,     0.35536,     0.35636,     0.35736,     0.35836,     0.35936,\n",
       "           0.36036,     0.36136,     0.36236,     0.36336,     0.36436,     0.36537,     0.36637,     0.36737,     0.36837,     0.36937,     0.37037,     0.37137,     0.37237,     0.37337,     0.37437,     0.37538,     0.37638,     0.37738,     0.37838,     0.37938,     0.38038,     0.38138,     0.38238,     0.38338,\n",
       "           0.38438,     0.38539,     0.38639,     0.38739,     0.38839,     0.38939,     0.39039,     0.39139,     0.39239,     0.39339,     0.39439,      0.3954,      0.3964,      0.3974,      0.3984,      0.3994,      0.4004,      0.4014,      0.4024,      0.4034,      0.4044,     0.40541,     0.40641,     0.40741,\n",
       "           0.40841,     0.40941,     0.41041,     0.41141,     0.41241,     0.41341,     0.41441,     0.41542,     0.41642,     0.41742,     0.41842,     0.41942,     0.42042,     0.42142,     0.42242,     0.42342,     0.42442,     0.42543,     0.42643,     0.42743,     0.42843,     0.42943,     0.43043,     0.43143,\n",
       "           0.43243,     0.43343,     0.43443,     0.43544,     0.43644,     0.43744,     0.43844,     0.43944,     0.44044,     0.44144,     0.44244,     0.44344,     0.44444,     0.44545,     0.44645,     0.44745,     0.44845,     0.44945,     0.45045,     0.45145,     0.45245,     0.45345,     0.45445,     0.45546,\n",
       "           0.45646,     0.45746,     0.45846,     0.45946,     0.46046,     0.46146,     0.46246,     0.46346,     0.46446,     0.46547,     0.46647,     0.46747,     0.46847,     0.46947,     0.47047,     0.47147,     0.47247,     0.47347,     0.47447,     0.47548,     0.47648,     0.47748,     0.47848,     0.47948,\n",
       "           0.48048,     0.48148,     0.48248,     0.48348,     0.48448,     0.48549,     0.48649,     0.48749,     0.48849,     0.48949,     0.49049,     0.49149,     0.49249,     0.49349,     0.49449,      0.4955,      0.4965,      0.4975,      0.4985,      0.4995,      0.5005,      0.5015,      0.5025,      0.5035,\n",
       "            0.5045,     0.50551,     0.50651,     0.50751,     0.50851,     0.50951,     0.51051,     0.51151,     0.51251,     0.51351,     0.51451,     0.51552,     0.51652,     0.51752,     0.51852,     0.51952,     0.52052,     0.52152,     0.52252,     0.52352,     0.52452,     0.52553,     0.52653,     0.52753,\n",
       "           0.52853,     0.52953,     0.53053,     0.53153,     0.53253,     0.53353,     0.53453,     0.53554,     0.53654,     0.53754,     0.53854,     0.53954,     0.54054,     0.54154,     0.54254,     0.54354,     0.54454,     0.54555,     0.54655,     0.54755,     0.54855,     0.54955,     0.55055,     0.55155,\n",
       "           0.55255,     0.55355,     0.55455,     0.55556,     0.55656,     0.55756,     0.55856,     0.55956,     0.56056,     0.56156,     0.56256,     0.56356,     0.56456,     0.56557,     0.56657,     0.56757,     0.56857,     0.56957,     0.57057,     0.57157,     0.57257,     0.57357,     0.57457,     0.57558,\n",
       "           0.57658,     0.57758,     0.57858,     0.57958,     0.58058,     0.58158,     0.58258,     0.58358,     0.58458,     0.58559,     0.58659,     0.58759,     0.58859,     0.58959,     0.59059,     0.59159,     0.59259,     0.59359,     0.59459,      0.5956,      0.5966,      0.5976,      0.5986,      0.5996,\n",
       "            0.6006,      0.6016,      0.6026,      0.6036,      0.6046,     0.60561,     0.60661,     0.60761,     0.60861,     0.60961,     0.61061,     0.61161,     0.61261,     0.61361,     0.61461,     0.61562,     0.61662,     0.61762,     0.61862,     0.61962,     0.62062,     0.62162,     0.62262,     0.62362,\n",
       "           0.62462,     0.62563,     0.62663,     0.62763,     0.62863,     0.62963,     0.63063,     0.63163,     0.63263,     0.63363,     0.63463,     0.63564,     0.63664,     0.63764,     0.63864,     0.63964,     0.64064,     0.64164,     0.64264,     0.64364,     0.64464,     0.64565,     0.64665,     0.64765,\n",
       "           0.64865,     0.64965,     0.65065,     0.65165,     0.65265,     0.65365,     0.65465,     0.65566,     0.65666,     0.65766,     0.65866,     0.65966,     0.66066,     0.66166,     0.66266,     0.66366,     0.66466,     0.66567,     0.66667,     0.66767,     0.66867,     0.66967,     0.67067,     0.67167,\n",
       "           0.67267,     0.67367,     0.67467,     0.67568,     0.67668,     0.67768,     0.67868,     0.67968,     0.68068,     0.68168,     0.68268,     0.68368,     0.68468,     0.68569,     0.68669,     0.68769,     0.68869,     0.68969,     0.69069,     0.69169,     0.69269,     0.69369,     0.69469,      0.6957,\n",
       "            0.6967,      0.6977,      0.6987,      0.6997,      0.7007,      0.7017,      0.7027,      0.7037,      0.7047,     0.70571,     0.70671,     0.70771,     0.70871,     0.70971,     0.71071,     0.71171,     0.71271,     0.71371,     0.71471,     0.71572,     0.71672,     0.71772,     0.71872,     0.71972,\n",
       "           0.72072,     0.72172,     0.72272,     0.72372,     0.72472,     0.72573,     0.72673,     0.72773,     0.72873,     0.72973,     0.73073,     0.73173,     0.73273,     0.73373,     0.73473,     0.73574,     0.73674,     0.73774,     0.73874,     0.73974,     0.74074,     0.74174,     0.74274,     0.74374,\n",
       "           0.74474,     0.74575,     0.74675,     0.74775,     0.74875,     0.74975,     0.75075,     0.75175,     0.75275,     0.75375,     0.75475,     0.75576,     0.75676,     0.75776,     0.75876,     0.75976,     0.76076,     0.76176,     0.76276,     0.76376,     0.76476,     0.76577,     0.76677,     0.76777,\n",
       "           0.76877,     0.76977,     0.77077,     0.77177,     0.77277,     0.77377,     0.77477,     0.77578,     0.77678,     0.77778,     0.77878,     0.77978,     0.78078,     0.78178,     0.78278,     0.78378,     0.78478,     0.78579,     0.78679,     0.78779,     0.78879,     0.78979,     0.79079,     0.79179,\n",
       "           0.79279,     0.79379,     0.79479,      0.7958,      0.7968,      0.7978,      0.7988,      0.7998,      0.8008,      0.8018,      0.8028,      0.8038,      0.8048,     0.80581,     0.80681,     0.80781,     0.80881,     0.80981,     0.81081,     0.81181,     0.81281,     0.81381,     0.81481,     0.81582,\n",
       "           0.81682,     0.81782,     0.81882,     0.81982,     0.82082,     0.82182,     0.82282,     0.82382,     0.82482,     0.82583,     0.82683,     0.82783,     0.82883,     0.82983,     0.83083,     0.83183,     0.83283,     0.83383,     0.83483,     0.83584,     0.83684,     0.83784,     0.83884,     0.83984,\n",
       "           0.84084,     0.84184,     0.84284,     0.84384,     0.84484,     0.84585,     0.84685,     0.84785,     0.84885,     0.84985,     0.85085,     0.85185,     0.85285,     0.85385,     0.85485,     0.85586,     0.85686,     0.85786,     0.85886,     0.85986,     0.86086,     0.86186,     0.86286,     0.86386,\n",
       "           0.86486,     0.86587,     0.86687,     0.86787,     0.86887,     0.86987,     0.87087,     0.87187,     0.87287,     0.87387,     0.87487,     0.87588,     0.87688,     0.87788,     0.87888,     0.87988,     0.88088,     0.88188,     0.88288,     0.88388,     0.88488,     0.88589,     0.88689,     0.88789,\n",
       "           0.88889,     0.88989,     0.89089,     0.89189,     0.89289,     0.89389,     0.89489,      0.8959,      0.8969,      0.8979,      0.8989,      0.8999,      0.9009,      0.9019,      0.9029,      0.9039,      0.9049,     0.90591,     0.90691,     0.90791,     0.90891,     0.90991,     0.91091,     0.91191,\n",
       "           0.91291,     0.91391,     0.91491,     0.91592,     0.91692,     0.91792,     0.91892,     0.91992,     0.92092,     0.92192,     0.92292,     0.92392,     0.92492,     0.92593,     0.92693,     0.92793,     0.92893,     0.92993,     0.93093,     0.93193,     0.93293,     0.93393,     0.93493,     0.93594,\n",
       "           0.93694,     0.93794,     0.93894,     0.93994,     0.94094,     0.94194,     0.94294,     0.94394,     0.94494,     0.94595,     0.94695,     0.94795,     0.94895,     0.94995,     0.95095,     0.95195,     0.95295,     0.95395,     0.95495,     0.95596,     0.95696,     0.95796,     0.95896,     0.95996,\n",
       "           0.96096,     0.96196,     0.96296,     0.96396,     0.96496,     0.96597,     0.96697,     0.96797,     0.96897,     0.96997,     0.97097,     0.97197,     0.97297,     0.97397,     0.97497,     0.97598,     0.97698,     0.97798,     0.97898,     0.97998,     0.98098,     0.98198,     0.98298,     0.98398,\n",
       "           0.98498,     0.98599,     0.98699,     0.98799,     0.98899,     0.98999,     0.99099,     0.99199,     0.99299,     0.99399,     0.99499,       0.996,       0.997,       0.998,       0.999,           1]), array([[   0.023739,    0.023739,    0.023739, ...,           0,           0,           0],\n",
       "       [   0.044444,    0.044444,    0.044444, ...,           0,           0,           0],\n",
       "       [    0.13585,     0.13585,     0.13585, ...,           0,           0,           0],\n",
       "       ...,\n",
       "       [    0.03125,     0.03125,     0.03125, ...,           0,           0,           0],\n",
       "       [  0.0082305,   0.0082305,   0.0082305, ...,           0,           0,           0],\n",
       "       [   0.054054,    0.054054,    0.054054, ...,           0,           0,           0]]), 'Confidence', 'F1'], [array([          0,    0.001001,    0.002002,    0.003003,    0.004004,    0.005005,    0.006006,    0.007007,    0.008008,    0.009009,     0.01001,    0.011011,    0.012012,    0.013013,    0.014014,    0.015015,    0.016016,    0.017017,    0.018018,    0.019019,     0.02002,    0.021021,    0.022022,    0.023023,\n",
       "          0.024024,    0.025025,    0.026026,    0.027027,    0.028028,    0.029029,     0.03003,    0.031031,    0.032032,    0.033033,    0.034034,    0.035035,    0.036036,    0.037037,    0.038038,    0.039039,     0.04004,    0.041041,    0.042042,    0.043043,    0.044044,    0.045045,    0.046046,    0.047047,\n",
       "          0.048048,    0.049049,     0.05005,    0.051051,    0.052052,    0.053053,    0.054054,    0.055055,    0.056056,    0.057057,    0.058058,    0.059059,     0.06006,    0.061061,    0.062062,    0.063063,    0.064064,    0.065065,    0.066066,    0.067067,    0.068068,    0.069069,     0.07007,    0.071071,\n",
       "          0.072072,    0.073073,    0.074074,    0.075075,    0.076076,    0.077077,    0.078078,    0.079079,     0.08008,    0.081081,    0.082082,    0.083083,    0.084084,    0.085085,    0.086086,    0.087087,    0.088088,    0.089089,     0.09009,    0.091091,    0.092092,    0.093093,    0.094094,    0.095095,\n",
       "          0.096096,    0.097097,    0.098098,    0.099099,      0.1001,      0.1011,      0.1021,      0.1031,      0.1041,     0.10511,     0.10611,     0.10711,     0.10811,     0.10911,     0.11011,     0.11111,     0.11211,     0.11311,     0.11411,     0.11512,     0.11612,     0.11712,     0.11812,     0.11912,\n",
       "           0.12012,     0.12112,     0.12212,     0.12312,     0.12412,     0.12513,     0.12613,     0.12713,     0.12813,     0.12913,     0.13013,     0.13113,     0.13213,     0.13313,     0.13413,     0.13514,     0.13614,     0.13714,     0.13814,     0.13914,     0.14014,     0.14114,     0.14214,     0.14314,\n",
       "           0.14414,     0.14515,     0.14615,     0.14715,     0.14815,     0.14915,     0.15015,     0.15115,     0.15215,     0.15315,     0.15415,     0.15516,     0.15616,     0.15716,     0.15816,     0.15916,     0.16016,     0.16116,     0.16216,     0.16316,     0.16416,     0.16517,     0.16617,     0.16717,\n",
       "           0.16817,     0.16917,     0.17017,     0.17117,     0.17217,     0.17317,     0.17417,     0.17518,     0.17618,     0.17718,     0.17818,     0.17918,     0.18018,     0.18118,     0.18218,     0.18318,     0.18418,     0.18519,     0.18619,     0.18719,     0.18819,     0.18919,     0.19019,     0.19119,\n",
       "           0.19219,     0.19319,     0.19419,      0.1952,      0.1962,      0.1972,      0.1982,      0.1992,      0.2002,      0.2012,      0.2022,      0.2032,      0.2042,     0.20521,     0.20621,     0.20721,     0.20821,     0.20921,     0.21021,     0.21121,     0.21221,     0.21321,     0.21421,     0.21522,\n",
       "           0.21622,     0.21722,     0.21822,     0.21922,     0.22022,     0.22122,     0.22222,     0.22322,     0.22422,     0.22523,     0.22623,     0.22723,     0.22823,     0.22923,     0.23023,     0.23123,     0.23223,     0.23323,     0.23423,     0.23524,     0.23624,     0.23724,     0.23824,     0.23924,\n",
       "           0.24024,     0.24124,     0.24224,     0.24324,     0.24424,     0.24525,     0.24625,     0.24725,     0.24825,     0.24925,     0.25025,     0.25125,     0.25225,     0.25325,     0.25425,     0.25526,     0.25626,     0.25726,     0.25826,     0.25926,     0.26026,     0.26126,     0.26226,     0.26326,\n",
       "           0.26426,     0.26527,     0.26627,     0.26727,     0.26827,     0.26927,     0.27027,     0.27127,     0.27227,     0.27327,     0.27427,     0.27528,     0.27628,     0.27728,     0.27828,     0.27928,     0.28028,     0.28128,     0.28228,     0.28328,     0.28428,     0.28529,     0.28629,     0.28729,\n",
       "           0.28829,     0.28929,     0.29029,     0.29129,     0.29229,     0.29329,     0.29429,      0.2953,      0.2963,      0.2973,      0.2983,      0.2993,      0.3003,      0.3013,      0.3023,      0.3033,      0.3043,     0.30531,     0.30631,     0.30731,     0.30831,     0.30931,     0.31031,     0.31131,\n",
       "           0.31231,     0.31331,     0.31431,     0.31532,     0.31632,     0.31732,     0.31832,     0.31932,     0.32032,     0.32132,     0.32232,     0.32332,     0.32432,     0.32533,     0.32633,     0.32733,     0.32833,     0.32933,     0.33033,     0.33133,     0.33233,     0.33333,     0.33433,     0.33534,\n",
       "           0.33634,     0.33734,     0.33834,     0.33934,     0.34034,     0.34134,     0.34234,     0.34334,     0.34434,     0.34535,     0.34635,     0.34735,     0.34835,     0.34935,     0.35035,     0.35135,     0.35235,     0.35335,     0.35435,     0.35536,     0.35636,     0.35736,     0.35836,     0.35936,\n",
       "           0.36036,     0.36136,     0.36236,     0.36336,     0.36436,     0.36537,     0.36637,     0.36737,     0.36837,     0.36937,     0.37037,     0.37137,     0.37237,     0.37337,     0.37437,     0.37538,     0.37638,     0.37738,     0.37838,     0.37938,     0.38038,     0.38138,     0.38238,     0.38338,\n",
       "           0.38438,     0.38539,     0.38639,     0.38739,     0.38839,     0.38939,     0.39039,     0.39139,     0.39239,     0.39339,     0.39439,      0.3954,      0.3964,      0.3974,      0.3984,      0.3994,      0.4004,      0.4014,      0.4024,      0.4034,      0.4044,     0.40541,     0.40641,     0.40741,\n",
       "           0.40841,     0.40941,     0.41041,     0.41141,     0.41241,     0.41341,     0.41441,     0.41542,     0.41642,     0.41742,     0.41842,     0.41942,     0.42042,     0.42142,     0.42242,     0.42342,     0.42442,     0.42543,     0.42643,     0.42743,     0.42843,     0.42943,     0.43043,     0.43143,\n",
       "           0.43243,     0.43343,     0.43443,     0.43544,     0.43644,     0.43744,     0.43844,     0.43944,     0.44044,     0.44144,     0.44244,     0.44344,     0.44444,     0.44545,     0.44645,     0.44745,     0.44845,     0.44945,     0.45045,     0.45145,     0.45245,     0.45345,     0.45445,     0.45546,\n",
       "           0.45646,     0.45746,     0.45846,     0.45946,     0.46046,     0.46146,     0.46246,     0.46346,     0.46446,     0.46547,     0.46647,     0.46747,     0.46847,     0.46947,     0.47047,     0.47147,     0.47247,     0.47347,     0.47447,     0.47548,     0.47648,     0.47748,     0.47848,     0.47948,\n",
       "           0.48048,     0.48148,     0.48248,     0.48348,     0.48448,     0.48549,     0.48649,     0.48749,     0.48849,     0.48949,     0.49049,     0.49149,     0.49249,     0.49349,     0.49449,      0.4955,      0.4965,      0.4975,      0.4985,      0.4995,      0.5005,      0.5015,      0.5025,      0.5035,\n",
       "            0.5045,     0.50551,     0.50651,     0.50751,     0.50851,     0.50951,     0.51051,     0.51151,     0.51251,     0.51351,     0.51451,     0.51552,     0.51652,     0.51752,     0.51852,     0.51952,     0.52052,     0.52152,     0.52252,     0.52352,     0.52452,     0.52553,     0.52653,     0.52753,\n",
       "           0.52853,     0.52953,     0.53053,     0.53153,     0.53253,     0.53353,     0.53453,     0.53554,     0.53654,     0.53754,     0.53854,     0.53954,     0.54054,     0.54154,     0.54254,     0.54354,     0.54454,     0.54555,     0.54655,     0.54755,     0.54855,     0.54955,     0.55055,     0.55155,\n",
       "           0.55255,     0.55355,     0.55455,     0.55556,     0.55656,     0.55756,     0.55856,     0.55956,     0.56056,     0.56156,     0.56256,     0.56356,     0.56456,     0.56557,     0.56657,     0.56757,     0.56857,     0.56957,     0.57057,     0.57157,     0.57257,     0.57357,     0.57457,     0.57558,\n",
       "           0.57658,     0.57758,     0.57858,     0.57958,     0.58058,     0.58158,     0.58258,     0.58358,     0.58458,     0.58559,     0.58659,     0.58759,     0.58859,     0.58959,     0.59059,     0.59159,     0.59259,     0.59359,     0.59459,      0.5956,      0.5966,      0.5976,      0.5986,      0.5996,\n",
       "            0.6006,      0.6016,      0.6026,      0.6036,      0.6046,     0.60561,     0.60661,     0.60761,     0.60861,     0.60961,     0.61061,     0.61161,     0.61261,     0.61361,     0.61461,     0.61562,     0.61662,     0.61762,     0.61862,     0.61962,     0.62062,     0.62162,     0.62262,     0.62362,\n",
       "           0.62462,     0.62563,     0.62663,     0.62763,     0.62863,     0.62963,     0.63063,     0.63163,     0.63263,     0.63363,     0.63463,     0.63564,     0.63664,     0.63764,     0.63864,     0.63964,     0.64064,     0.64164,     0.64264,     0.64364,     0.64464,     0.64565,     0.64665,     0.64765,\n",
       "           0.64865,     0.64965,     0.65065,     0.65165,     0.65265,     0.65365,     0.65465,     0.65566,     0.65666,     0.65766,     0.65866,     0.65966,     0.66066,     0.66166,     0.66266,     0.66366,     0.66466,     0.66567,     0.66667,     0.66767,     0.66867,     0.66967,     0.67067,     0.67167,\n",
       "           0.67267,     0.67367,     0.67467,     0.67568,     0.67668,     0.67768,     0.67868,     0.67968,     0.68068,     0.68168,     0.68268,     0.68368,     0.68468,     0.68569,     0.68669,     0.68769,     0.68869,     0.68969,     0.69069,     0.69169,     0.69269,     0.69369,     0.69469,      0.6957,\n",
       "            0.6967,      0.6977,      0.6987,      0.6997,      0.7007,      0.7017,      0.7027,      0.7037,      0.7047,     0.70571,     0.70671,     0.70771,     0.70871,     0.70971,     0.71071,     0.71171,     0.71271,     0.71371,     0.71471,     0.71572,     0.71672,     0.71772,     0.71872,     0.71972,\n",
       "           0.72072,     0.72172,     0.72272,     0.72372,     0.72472,     0.72573,     0.72673,     0.72773,     0.72873,     0.72973,     0.73073,     0.73173,     0.73273,     0.73373,     0.73473,     0.73574,     0.73674,     0.73774,     0.73874,     0.73974,     0.74074,     0.74174,     0.74274,     0.74374,\n",
       "           0.74474,     0.74575,     0.74675,     0.74775,     0.74875,     0.74975,     0.75075,     0.75175,     0.75275,     0.75375,     0.75475,     0.75576,     0.75676,     0.75776,     0.75876,     0.75976,     0.76076,     0.76176,     0.76276,     0.76376,     0.76476,     0.76577,     0.76677,     0.76777,\n",
       "           0.76877,     0.76977,     0.77077,     0.77177,     0.77277,     0.77377,     0.77477,     0.77578,     0.77678,     0.77778,     0.77878,     0.77978,     0.78078,     0.78178,     0.78278,     0.78378,     0.78478,     0.78579,     0.78679,     0.78779,     0.78879,     0.78979,     0.79079,     0.79179,\n",
       "           0.79279,     0.79379,     0.79479,      0.7958,      0.7968,      0.7978,      0.7988,      0.7998,      0.8008,      0.8018,      0.8028,      0.8038,      0.8048,     0.80581,     0.80681,     0.80781,     0.80881,     0.80981,     0.81081,     0.81181,     0.81281,     0.81381,     0.81481,     0.81582,\n",
       "           0.81682,     0.81782,     0.81882,     0.81982,     0.82082,     0.82182,     0.82282,     0.82382,     0.82482,     0.82583,     0.82683,     0.82783,     0.82883,     0.82983,     0.83083,     0.83183,     0.83283,     0.83383,     0.83483,     0.83584,     0.83684,     0.83784,     0.83884,     0.83984,\n",
       "           0.84084,     0.84184,     0.84284,     0.84384,     0.84484,     0.84585,     0.84685,     0.84785,     0.84885,     0.84985,     0.85085,     0.85185,     0.85285,     0.85385,     0.85485,     0.85586,     0.85686,     0.85786,     0.85886,     0.85986,     0.86086,     0.86186,     0.86286,     0.86386,\n",
       "           0.86486,     0.86587,     0.86687,     0.86787,     0.86887,     0.86987,     0.87087,     0.87187,     0.87287,     0.87387,     0.87487,     0.87588,     0.87688,     0.87788,     0.87888,     0.87988,     0.88088,     0.88188,     0.88288,     0.88388,     0.88488,     0.88589,     0.88689,     0.88789,\n",
       "           0.88889,     0.88989,     0.89089,     0.89189,     0.89289,     0.89389,     0.89489,      0.8959,      0.8969,      0.8979,      0.8989,      0.8999,      0.9009,      0.9019,      0.9029,      0.9039,      0.9049,     0.90591,     0.90691,     0.90791,     0.90891,     0.90991,     0.91091,     0.91191,\n",
       "           0.91291,     0.91391,     0.91491,     0.91592,     0.91692,     0.91792,     0.91892,     0.91992,     0.92092,     0.92192,     0.92292,     0.92392,     0.92492,     0.92593,     0.92693,     0.92793,     0.92893,     0.92993,     0.93093,     0.93193,     0.93293,     0.93393,     0.93493,     0.93594,\n",
       "           0.93694,     0.93794,     0.93894,     0.93994,     0.94094,     0.94194,     0.94294,     0.94394,     0.94494,     0.94595,     0.94695,     0.94795,     0.94895,     0.94995,     0.95095,     0.95195,     0.95295,     0.95395,     0.95495,     0.95596,     0.95696,     0.95796,     0.95896,     0.95996,\n",
       "           0.96096,     0.96196,     0.96296,     0.96396,     0.96496,     0.96597,     0.96697,     0.96797,     0.96897,     0.96997,     0.97097,     0.97197,     0.97297,     0.97397,     0.97497,     0.97598,     0.97698,     0.97798,     0.97898,     0.97998,     0.98098,     0.98198,     0.98298,     0.98398,\n",
       "           0.98498,     0.98599,     0.98699,     0.98799,     0.98899,     0.98999,     0.99099,     0.99199,     0.99299,     0.99399,     0.99499,       0.996,       0.997,       0.998,       0.999,           1]), array([[   0.012085,    0.012085,    0.012085, ...,           1,           1,           1],\n",
       "       [   0.022989,    0.022989,    0.022989, ...,           1,           1,           1],\n",
       "       [   0.074689,    0.074689,    0.074689, ...,           1,           1,           1],\n",
       "       ...,\n",
       "       [   0.015873,    0.015873,    0.015873, ...,           1,           1,           1],\n",
       "       [  0.0041351,   0.0041351,   0.0041351, ...,           1,           1,           1],\n",
       "       [   0.028169,    0.028169,    0.028169, ...,           1,           1,           1]]), 'Confidence', 'Precision'], [array([          0,    0.001001,    0.002002,    0.003003,    0.004004,    0.005005,    0.006006,    0.007007,    0.008008,    0.009009,     0.01001,    0.011011,    0.012012,    0.013013,    0.014014,    0.015015,    0.016016,    0.017017,    0.018018,    0.019019,     0.02002,    0.021021,    0.022022,    0.023023,\n",
       "          0.024024,    0.025025,    0.026026,    0.027027,    0.028028,    0.029029,     0.03003,    0.031031,    0.032032,    0.033033,    0.034034,    0.035035,    0.036036,    0.037037,    0.038038,    0.039039,     0.04004,    0.041041,    0.042042,    0.043043,    0.044044,    0.045045,    0.046046,    0.047047,\n",
       "          0.048048,    0.049049,     0.05005,    0.051051,    0.052052,    0.053053,    0.054054,    0.055055,    0.056056,    0.057057,    0.058058,    0.059059,     0.06006,    0.061061,    0.062062,    0.063063,    0.064064,    0.065065,    0.066066,    0.067067,    0.068068,    0.069069,     0.07007,    0.071071,\n",
       "          0.072072,    0.073073,    0.074074,    0.075075,    0.076076,    0.077077,    0.078078,    0.079079,     0.08008,    0.081081,    0.082082,    0.083083,    0.084084,    0.085085,    0.086086,    0.087087,    0.088088,    0.089089,     0.09009,    0.091091,    0.092092,    0.093093,    0.094094,    0.095095,\n",
       "          0.096096,    0.097097,    0.098098,    0.099099,      0.1001,      0.1011,      0.1021,      0.1031,      0.1041,     0.10511,     0.10611,     0.10711,     0.10811,     0.10911,     0.11011,     0.11111,     0.11211,     0.11311,     0.11411,     0.11512,     0.11612,     0.11712,     0.11812,     0.11912,\n",
       "           0.12012,     0.12112,     0.12212,     0.12312,     0.12412,     0.12513,     0.12613,     0.12713,     0.12813,     0.12913,     0.13013,     0.13113,     0.13213,     0.13313,     0.13413,     0.13514,     0.13614,     0.13714,     0.13814,     0.13914,     0.14014,     0.14114,     0.14214,     0.14314,\n",
       "           0.14414,     0.14515,     0.14615,     0.14715,     0.14815,     0.14915,     0.15015,     0.15115,     0.15215,     0.15315,     0.15415,     0.15516,     0.15616,     0.15716,     0.15816,     0.15916,     0.16016,     0.16116,     0.16216,     0.16316,     0.16416,     0.16517,     0.16617,     0.16717,\n",
       "           0.16817,     0.16917,     0.17017,     0.17117,     0.17217,     0.17317,     0.17417,     0.17518,     0.17618,     0.17718,     0.17818,     0.17918,     0.18018,     0.18118,     0.18218,     0.18318,     0.18418,     0.18519,     0.18619,     0.18719,     0.18819,     0.18919,     0.19019,     0.19119,\n",
       "           0.19219,     0.19319,     0.19419,      0.1952,      0.1962,      0.1972,      0.1982,      0.1992,      0.2002,      0.2012,      0.2022,      0.2032,      0.2042,     0.20521,     0.20621,     0.20721,     0.20821,     0.20921,     0.21021,     0.21121,     0.21221,     0.21321,     0.21421,     0.21522,\n",
       "           0.21622,     0.21722,     0.21822,     0.21922,     0.22022,     0.22122,     0.22222,     0.22322,     0.22422,     0.22523,     0.22623,     0.22723,     0.22823,     0.22923,     0.23023,     0.23123,     0.23223,     0.23323,     0.23423,     0.23524,     0.23624,     0.23724,     0.23824,     0.23924,\n",
       "           0.24024,     0.24124,     0.24224,     0.24324,     0.24424,     0.24525,     0.24625,     0.24725,     0.24825,     0.24925,     0.25025,     0.25125,     0.25225,     0.25325,     0.25425,     0.25526,     0.25626,     0.25726,     0.25826,     0.25926,     0.26026,     0.26126,     0.26226,     0.26326,\n",
       "           0.26426,     0.26527,     0.26627,     0.26727,     0.26827,     0.26927,     0.27027,     0.27127,     0.27227,     0.27327,     0.27427,     0.27528,     0.27628,     0.27728,     0.27828,     0.27928,     0.28028,     0.28128,     0.28228,     0.28328,     0.28428,     0.28529,     0.28629,     0.28729,\n",
       "           0.28829,     0.28929,     0.29029,     0.29129,     0.29229,     0.29329,     0.29429,      0.2953,      0.2963,      0.2973,      0.2983,      0.2993,      0.3003,      0.3013,      0.3023,      0.3033,      0.3043,     0.30531,     0.30631,     0.30731,     0.30831,     0.30931,     0.31031,     0.31131,\n",
       "           0.31231,     0.31331,     0.31431,     0.31532,     0.31632,     0.31732,     0.31832,     0.31932,     0.32032,     0.32132,     0.32232,     0.32332,     0.32432,     0.32533,     0.32633,     0.32733,     0.32833,     0.32933,     0.33033,     0.33133,     0.33233,     0.33333,     0.33433,     0.33534,\n",
       "           0.33634,     0.33734,     0.33834,     0.33934,     0.34034,     0.34134,     0.34234,     0.34334,     0.34434,     0.34535,     0.34635,     0.34735,     0.34835,     0.34935,     0.35035,     0.35135,     0.35235,     0.35335,     0.35435,     0.35536,     0.35636,     0.35736,     0.35836,     0.35936,\n",
       "           0.36036,     0.36136,     0.36236,     0.36336,     0.36436,     0.36537,     0.36637,     0.36737,     0.36837,     0.36937,     0.37037,     0.37137,     0.37237,     0.37337,     0.37437,     0.37538,     0.37638,     0.37738,     0.37838,     0.37938,     0.38038,     0.38138,     0.38238,     0.38338,\n",
       "           0.38438,     0.38539,     0.38639,     0.38739,     0.38839,     0.38939,     0.39039,     0.39139,     0.39239,     0.39339,     0.39439,      0.3954,      0.3964,      0.3974,      0.3984,      0.3994,      0.4004,      0.4014,      0.4024,      0.4034,      0.4044,     0.40541,     0.40641,     0.40741,\n",
       "           0.40841,     0.40941,     0.41041,     0.41141,     0.41241,     0.41341,     0.41441,     0.41542,     0.41642,     0.41742,     0.41842,     0.41942,     0.42042,     0.42142,     0.42242,     0.42342,     0.42442,     0.42543,     0.42643,     0.42743,     0.42843,     0.42943,     0.43043,     0.43143,\n",
       "           0.43243,     0.43343,     0.43443,     0.43544,     0.43644,     0.43744,     0.43844,     0.43944,     0.44044,     0.44144,     0.44244,     0.44344,     0.44444,     0.44545,     0.44645,     0.44745,     0.44845,     0.44945,     0.45045,     0.45145,     0.45245,     0.45345,     0.45445,     0.45546,\n",
       "           0.45646,     0.45746,     0.45846,     0.45946,     0.46046,     0.46146,     0.46246,     0.46346,     0.46446,     0.46547,     0.46647,     0.46747,     0.46847,     0.46947,     0.47047,     0.47147,     0.47247,     0.47347,     0.47447,     0.47548,     0.47648,     0.47748,     0.47848,     0.47948,\n",
       "           0.48048,     0.48148,     0.48248,     0.48348,     0.48448,     0.48549,     0.48649,     0.48749,     0.48849,     0.48949,     0.49049,     0.49149,     0.49249,     0.49349,     0.49449,      0.4955,      0.4965,      0.4975,      0.4985,      0.4995,      0.5005,      0.5015,      0.5025,      0.5035,\n",
       "            0.5045,     0.50551,     0.50651,     0.50751,     0.50851,     0.50951,     0.51051,     0.51151,     0.51251,     0.51351,     0.51451,     0.51552,     0.51652,     0.51752,     0.51852,     0.51952,     0.52052,     0.52152,     0.52252,     0.52352,     0.52452,     0.52553,     0.52653,     0.52753,\n",
       "           0.52853,     0.52953,     0.53053,     0.53153,     0.53253,     0.53353,     0.53453,     0.53554,     0.53654,     0.53754,     0.53854,     0.53954,     0.54054,     0.54154,     0.54254,     0.54354,     0.54454,     0.54555,     0.54655,     0.54755,     0.54855,     0.54955,     0.55055,     0.55155,\n",
       "           0.55255,     0.55355,     0.55455,     0.55556,     0.55656,     0.55756,     0.55856,     0.55956,     0.56056,     0.56156,     0.56256,     0.56356,     0.56456,     0.56557,     0.56657,     0.56757,     0.56857,     0.56957,     0.57057,     0.57157,     0.57257,     0.57357,     0.57457,     0.57558,\n",
       "           0.57658,     0.57758,     0.57858,     0.57958,     0.58058,     0.58158,     0.58258,     0.58358,     0.58458,     0.58559,     0.58659,     0.58759,     0.58859,     0.58959,     0.59059,     0.59159,     0.59259,     0.59359,     0.59459,      0.5956,      0.5966,      0.5976,      0.5986,      0.5996,\n",
       "            0.6006,      0.6016,      0.6026,      0.6036,      0.6046,     0.60561,     0.60661,     0.60761,     0.60861,     0.60961,     0.61061,     0.61161,     0.61261,     0.61361,     0.61461,     0.61562,     0.61662,     0.61762,     0.61862,     0.61962,     0.62062,     0.62162,     0.62262,     0.62362,\n",
       "           0.62462,     0.62563,     0.62663,     0.62763,     0.62863,     0.62963,     0.63063,     0.63163,     0.63263,     0.63363,     0.63463,     0.63564,     0.63664,     0.63764,     0.63864,     0.63964,     0.64064,     0.64164,     0.64264,     0.64364,     0.64464,     0.64565,     0.64665,     0.64765,\n",
       "           0.64865,     0.64965,     0.65065,     0.65165,     0.65265,     0.65365,     0.65465,     0.65566,     0.65666,     0.65766,     0.65866,     0.65966,     0.66066,     0.66166,     0.66266,     0.66366,     0.66466,     0.66567,     0.66667,     0.66767,     0.66867,     0.66967,     0.67067,     0.67167,\n",
       "           0.67267,     0.67367,     0.67467,     0.67568,     0.67668,     0.67768,     0.67868,     0.67968,     0.68068,     0.68168,     0.68268,     0.68368,     0.68468,     0.68569,     0.68669,     0.68769,     0.68869,     0.68969,     0.69069,     0.69169,     0.69269,     0.69369,     0.69469,      0.6957,\n",
       "            0.6967,      0.6977,      0.6987,      0.6997,      0.7007,      0.7017,      0.7027,      0.7037,      0.7047,     0.70571,     0.70671,     0.70771,     0.70871,     0.70971,     0.71071,     0.71171,     0.71271,     0.71371,     0.71471,     0.71572,     0.71672,     0.71772,     0.71872,     0.71972,\n",
       "           0.72072,     0.72172,     0.72272,     0.72372,     0.72472,     0.72573,     0.72673,     0.72773,     0.72873,     0.72973,     0.73073,     0.73173,     0.73273,     0.73373,     0.73473,     0.73574,     0.73674,     0.73774,     0.73874,     0.73974,     0.74074,     0.74174,     0.74274,     0.74374,\n",
       "           0.74474,     0.74575,     0.74675,     0.74775,     0.74875,     0.74975,     0.75075,     0.75175,     0.75275,     0.75375,     0.75475,     0.75576,     0.75676,     0.75776,     0.75876,     0.75976,     0.76076,     0.76176,     0.76276,     0.76376,     0.76476,     0.76577,     0.76677,     0.76777,\n",
       "           0.76877,     0.76977,     0.77077,     0.77177,     0.77277,     0.77377,     0.77477,     0.77578,     0.77678,     0.77778,     0.77878,     0.77978,     0.78078,     0.78178,     0.78278,     0.78378,     0.78478,     0.78579,     0.78679,     0.78779,     0.78879,     0.78979,     0.79079,     0.79179,\n",
       "           0.79279,     0.79379,     0.79479,      0.7958,      0.7968,      0.7978,      0.7988,      0.7998,      0.8008,      0.8018,      0.8028,      0.8038,      0.8048,     0.80581,     0.80681,     0.80781,     0.80881,     0.80981,     0.81081,     0.81181,     0.81281,     0.81381,     0.81481,     0.81582,\n",
       "           0.81682,     0.81782,     0.81882,     0.81982,     0.82082,     0.82182,     0.82282,     0.82382,     0.82482,     0.82583,     0.82683,     0.82783,     0.82883,     0.82983,     0.83083,     0.83183,     0.83283,     0.83383,     0.83483,     0.83584,     0.83684,     0.83784,     0.83884,     0.83984,\n",
       "           0.84084,     0.84184,     0.84284,     0.84384,     0.84484,     0.84585,     0.84685,     0.84785,     0.84885,     0.84985,     0.85085,     0.85185,     0.85285,     0.85385,     0.85485,     0.85586,     0.85686,     0.85786,     0.85886,     0.85986,     0.86086,     0.86186,     0.86286,     0.86386,\n",
       "           0.86486,     0.86587,     0.86687,     0.86787,     0.86887,     0.86987,     0.87087,     0.87187,     0.87287,     0.87387,     0.87487,     0.87588,     0.87688,     0.87788,     0.87888,     0.87988,     0.88088,     0.88188,     0.88288,     0.88388,     0.88488,     0.88589,     0.88689,     0.88789,\n",
       "           0.88889,     0.88989,     0.89089,     0.89189,     0.89289,     0.89389,     0.89489,      0.8959,      0.8969,      0.8979,      0.8989,      0.8999,      0.9009,      0.9019,      0.9029,      0.9039,      0.9049,     0.90591,     0.90691,     0.90791,     0.90891,     0.90991,     0.91091,     0.91191,\n",
       "           0.91291,     0.91391,     0.91491,     0.91592,     0.91692,     0.91792,     0.91892,     0.91992,     0.92092,     0.92192,     0.92292,     0.92392,     0.92492,     0.92593,     0.92693,     0.92793,     0.92893,     0.92993,     0.93093,     0.93193,     0.93293,     0.93393,     0.93493,     0.93594,\n",
       "           0.93694,     0.93794,     0.93894,     0.93994,     0.94094,     0.94194,     0.94294,     0.94394,     0.94494,     0.94595,     0.94695,     0.94795,     0.94895,     0.94995,     0.95095,     0.95195,     0.95295,     0.95395,     0.95495,     0.95596,     0.95696,     0.95796,     0.95896,     0.95996,\n",
       "           0.96096,     0.96196,     0.96296,     0.96396,     0.96496,     0.96597,     0.96697,     0.96797,     0.96897,     0.96997,     0.97097,     0.97197,     0.97297,     0.97397,     0.97497,     0.97598,     0.97698,     0.97798,     0.97898,     0.97998,     0.98098,     0.98198,     0.98298,     0.98398,\n",
       "           0.98498,     0.98599,     0.98699,     0.98799,     0.98899,     0.98999,     0.99099,     0.99199,     0.99299,     0.99399,     0.99499,       0.996,       0.997,       0.998,       0.999,           1]), array([[    0.66667,     0.66667,     0.66667, ...,           0,           0,           0],\n",
       "       [    0.66667,     0.66667,     0.66667, ...,           0,           0,           0],\n",
       "       [       0.75,        0.75,        0.75, ...,           0,           0,           0],\n",
       "       ...,\n",
       "       [          1,           1,           1, ...,           0,           0,           0],\n",
       "       [    0.85714,     0.85714,     0.85714, ...,           0,           0,           0],\n",
       "       [    0.66667,     0.66667,     0.66667, ...,           0,           0,           0]]), 'Confidence', 'Recall']]\n",
       "fitness: np.float64(0.20670472365191891)\n",
       "keys: ['metrics/precision(B)', 'metrics/recall(B)', 'metrics/mAP50(B)', 'metrics/mAP50-95(B)']\n",
       "maps: array([   0.039163,     0.10524,      0.2475,     0.35976,     0.20254,    0.051606,     0.40477,     0.20151])\n",
       "names: {0: 'cosmotic', 1: 'food-package', 2: 'food-supliment', 3: 'formula-milk', 4: 'lotion-moisture', 5: 'medicine', 6: 'mini-drop', 7: 'pregnancy'}\n",
       "plot: True\n",
       "results_dict: {'metrics/precision(B)': np.float64(0.2513389887292771), 'metrics/recall(B)': np.float64(0.37167391506903463), 'metrics/mAP50(B)': np.float64(0.25344375752584775), 'metrics/mAP50-95(B)': np.float64(0.20151149766592683), 'fitness': np.float64(0.20670472365191891)}\n",
       "save_dir: WindowsPath('medical-detection/fine_tuned_model')\n",
       "speed: {'preprocess': 1.1388690848099559, 'inference': 162.17145794316343, 'loss': 0.0, 'postprocess': 118.5239365226344}\n",
       "task: 'detect'"
      ]
     },
     "execution_count": 7,
     "metadata": {},
     "output_type": "execute_result"
    }
   ],
   "source": [
    "# Train with parameters\n",
    "model.train(\n",
    "    data=f\"{dataset.location}/data.yaml\",\n",
    "    epochs=5,\n",
    "    imgsz=640,\n",
    "    batch=16,\n",
    "    name=\"fine_tuned_model\",\n",
    "    project=\"medical-detection\"\n",
    ")"
   ]
  },
  {
   "cell_type": "code",
   "execution_count": 8,
   "metadata": {},
   "outputs": [
    {
     "name": "stdout",
     "output_type": "stream",
     "text": [
      "Downloading https://github.com/ultralytics/assets/releases/download/v8.3.0/yolov8n.pt to 'yolov8n.pt'...\n"
     ]
    },
    {
     "name": "stderr",
     "output_type": "stream",
     "text": [
      "100%|██████████| 6.25M/6.25M [00:00<00:00, 6.83MB/s]\n"
     ]
    },
    {
     "name": "stdout",
     "output_type": "stream",
     "text": [
      "Ultralytics 8.3.70  Python-3.12.8 torch-2.6.0+cpu CPU (11th Gen Intel Core(TM) i5-11320H 3.20GHz)\n",
      "\u001b[34m\u001b[1mengine\\trainer: \u001b[0mtask=detect, mode=train, model=yolov8n.pt, data=d:\\KMAI3\\EMB-DataWarehouse\\notebbooks\\medical-products-1/data.yaml, epochs=5, time=None, patience=100, batch=8, imgsz=320, save=True, save_period=-1, cache=False, device=None, workers=8, project=medical-detection, name=fine_tuned_yolov8n, exist_ok=False, pretrained=True, optimizer=auto, verbose=True, seed=0, deterministic=True, single_cls=False, rect=False, cos_lr=False, close_mosaic=10, resume=False, amp=True, fraction=1.0, profile=False, freeze=None, multi_scale=False, overlap_mask=True, mask_ratio=4, dropout=0.0, val=True, split=val, save_json=False, save_hybrid=False, conf=None, iou=0.7, max_det=300, half=False, dnn=False, plots=True, source=None, vid_stride=1, stream_buffer=False, visualize=False, augment=False, agnostic_nms=False, classes=None, retina_masks=False, embed=None, show=False, save_frames=False, save_txt=False, save_conf=False, save_crop=False, show_labels=True, show_conf=True, show_boxes=True, line_width=None, format=torchscript, keras=False, optimize=False, int8=False, dynamic=False, simplify=True, opset=None, workspace=None, nms=False, lr0=0.01, lrf=0.01, momentum=0.937, weight_decay=0.0005, warmup_epochs=3.0, warmup_momentum=0.8, warmup_bias_lr=0.1, box=7.5, cls=0.5, dfl=1.5, pose=12.0, kobj=1.0, nbs=64, hsv_h=0.015, hsv_s=0.7, hsv_v=0.4, degrees=0.0, translate=0.1, scale=0.5, shear=0.0, perspective=0.0, flipud=0.0, fliplr=0.5, bgr=0.0, mosaic=1.0, mixup=0.0, copy_paste=0.0, copy_paste_mode=flip, auto_augment=randaugment, erasing=0.4, crop_fraction=1.0, cfg=None, tracker=botsort.yaml, save_dir=medical-detection\\fine_tuned_yolov8n\n",
      "Overriding model.yaml nc=80 with nc=8\n",
      "\n",
      "                   from  n    params  module                                       arguments                     \n",
      "  0                  -1  1       464  ultralytics.nn.modules.conv.Conv             [3, 16, 3, 2]                 \n",
      "  1                  -1  1      4672  ultralytics.nn.modules.conv.Conv             [16, 32, 3, 2]                \n",
      "  2                  -1  1      7360  ultralytics.nn.modules.block.C2f             [32, 32, 1, True]             \n",
      "  3                  -1  1     18560  ultralytics.nn.modules.conv.Conv             [32, 64, 3, 2]                \n",
      "  4                  -1  2     49664  ultralytics.nn.modules.block.C2f             [64, 64, 2, True]             \n",
      "  5                  -1  1     73984  ultralytics.nn.modules.conv.Conv             [64, 128, 3, 2]               \n",
      "  6                  -1  2    197632  ultralytics.nn.modules.block.C2f             [128, 128, 2, True]           \n",
      "  7                  -1  1    295424  ultralytics.nn.modules.conv.Conv             [128, 256, 3, 2]              \n",
      "  8                  -1  1    460288  ultralytics.nn.modules.block.C2f             [256, 256, 1, True]           \n",
      "  9                  -1  1    164608  ultralytics.nn.modules.block.SPPF            [256, 256, 5]                 \n",
      " 10                  -1  1         0  torch.nn.modules.upsampling.Upsample         [None, 2, 'nearest']          \n",
      " 11             [-1, 6]  1         0  ultralytics.nn.modules.conv.Concat           [1]                           \n",
      " 12                  -1  1    148224  ultralytics.nn.modules.block.C2f             [384, 128, 1]                 \n",
      " 13                  -1  1         0  torch.nn.modules.upsampling.Upsample         [None, 2, 'nearest']          \n",
      " 14             [-1, 4]  1         0  ultralytics.nn.modules.conv.Concat           [1]                           \n",
      " 15                  -1  1     37248  ultralytics.nn.modules.block.C2f             [192, 64, 1]                  \n",
      " 16                  -1  1     36992  ultralytics.nn.modules.conv.Conv             [64, 64, 3, 2]                \n",
      " 17            [-1, 12]  1         0  ultralytics.nn.modules.conv.Concat           [1]                           \n",
      " 18                  -1  1    123648  ultralytics.nn.modules.block.C2f             [192, 128, 1]                 \n",
      " 19                  -1  1    147712  ultralytics.nn.modules.conv.Conv             [128, 128, 3, 2]              \n",
      " 20             [-1, 9]  1         0  ultralytics.nn.modules.conv.Concat           [1]                           \n",
      " 21                  -1  1    493056  ultralytics.nn.modules.block.C2f             [384, 256, 1]                 \n",
      " 22        [15, 18, 21]  1    752872  ultralytics.nn.modules.head.Detect           [8, [64, 128, 256]]           \n",
      "Model summary: 225 layers, 3,012,408 parameters, 3,012,392 gradients, 8.2 GFLOPs\n",
      "\n",
      "Transferred 319/355 items from pretrained weights\n",
      "WARNING  Comet installed but not initialized correctly, not logging this run. Comet.ml requires an API key. Please provide as the first argument to Experiment(api_key) or as an environment variable named COMET_API_KEY \n",
      "\u001b[34m\u001b[1mTensorBoard: \u001b[0mStart with 'tensorboard --logdir medical-detection\\fine_tuned_yolov8n', view at http://localhost:6006/\n",
      "Freezing layer 'model.22.dfl.conv.weight'\n"
     ]
    },
    {
     "name": "stderr",
     "output_type": "stream",
     "text": [
      "\u001b[34m\u001b[1mtrain: \u001b[0mScanning D:\\KMAI3\\EMB-DataWarehouse\\notebbooks\\medical-products-1\\train\\labels.cache... 133 images, 0 backgrounds, 0 corrupt: 100%|██████████| 133/133 [00:00<?, ?it/s]"
     ]
    },
    {
     "name": "stdout",
     "output_type": "stream",
     "text": [
      "WARNING  Box and segment counts should be equal, but got len(segments) = 1, len(boxes) = 177. To resolve this only boxes will be used and all segments will be removed. To avoid this please supply either a detect or segment dataset, not a detect-segment mixed dataset.\n"
     ]
    },
    {
     "name": "stderr",
     "output_type": "stream",
     "text": [
      "\n",
      "\u001b[34m\u001b[1mval: \u001b[0mScanning D:\\KMAI3\\EMB-DataWarehouse\\notebbooks\\medical-products-1\\valid\\labels.cache... 38 images, 0 backgrounds, 0 corrupt: 100%|██████████| 38/38 [00:00<?, ?it/s]"
     ]
    },
    {
     "name": "stdout",
     "output_type": "stream",
     "text": [
      "Plotting labels to medical-detection\\fine_tuned_yolov8n\\labels.jpg... \n"
     ]
    },
    {
     "name": "stderr",
     "output_type": "stream",
     "text": [
      "\n"
     ]
    },
    {
     "name": "stdout",
     "output_type": "stream",
     "text": [
      "\u001b[34m\u001b[1moptimizer:\u001b[0m 'optimizer=auto' found, ignoring 'lr0=0.01' and 'momentum=0.937' and determining best 'optimizer', 'lr0' and 'momentum' automatically... \n",
      "\u001b[34m\u001b[1moptimizer:\u001b[0m AdamW(lr=0.000833, momentum=0.9) with parameter groups 57 weight(decay=0.0), 64 weight(decay=0.0005), 63 bias(decay=0.0)\n",
      "\u001b[34m\u001b[1mTensorBoard: \u001b[0mmodel graph visualization added \n",
      "Image sizes 320 train, 320 val\n",
      "Using 0 dataloader workers\n",
      "Logging results to \u001b[1mmedical-detection\\fine_tuned_yolov8n\u001b[0m\n",
      "Starting training for 5 epochs...\n",
      "\n",
      "      Epoch    GPU_mem   box_loss   cls_loss   dfl_loss  Instances       Size\n"
     ]
    },
    {
     "name": "stderr",
     "output_type": "stream",
     "text": [
      "        1/5         0G      1.396      3.612       1.45         10        320: 100%|██████████| 17/17 [00:07<00:00,  2.38it/s]\n",
      "                 Class     Images  Instances      Box(P          R      mAP50  mAP50-95): 100%|██████████| 3/3 [00:00<00:00,  3.36it/s]"
     ]
    },
    {
     "name": "stdout",
     "output_type": "stream",
     "text": [
      "                   all         38         55    0.00562      0.935      0.189      0.115\n"
     ]
    },
    {
     "name": "stderr",
     "output_type": "stream",
     "text": [
      "\n"
     ]
    },
    {
     "name": "stdout",
     "output_type": "stream",
     "text": [
      "\n",
      "      Epoch    GPU_mem   box_loss   cls_loss   dfl_loss  Instances       Size\n"
     ]
    },
    {
     "name": "stderr",
     "output_type": "stream",
     "text": [
      "        2/5         0G      1.055      3.339      1.222         18        320: 100%|██████████| 17/17 [00:06<00:00,  2.60it/s]\n",
      "                 Class     Images  Instances      Box(P          R      mAP50  mAP50-95): 100%|██████████| 3/3 [00:00<00:00,  3.61it/s]"
     ]
    },
    {
     "name": "stdout",
     "output_type": "stream",
     "text": [
      "                   all         38         55    0.00569      0.893      0.188      0.141\n"
     ]
    },
    {
     "name": "stderr",
     "output_type": "stream",
     "text": [
      "\n"
     ]
    },
    {
     "name": "stdout",
     "output_type": "stream",
     "text": [
      "\n",
      "      Epoch    GPU_mem   box_loss   cls_loss   dfl_loss  Instances       Size\n"
     ]
    },
    {
     "name": "stderr",
     "output_type": "stream",
     "text": [
      "        3/5         0G      1.002      3.064      1.213         16        320: 100%|██████████| 17/17 [00:06<00:00,  2.58it/s]\n",
      "                 Class     Images  Instances      Box(P          R      mAP50  mAP50-95): 100%|██████████| 3/3 [00:00<00:00,  3.61it/s]"
     ]
    },
    {
     "name": "stdout",
     "output_type": "stream",
     "text": [
      "                   all         38         55     0.0633      0.792      0.199      0.144\n"
     ]
    },
    {
     "name": "stderr",
     "output_type": "stream",
     "text": [
      "\n"
     ]
    },
    {
     "name": "stdout",
     "output_type": "stream",
     "text": [
      "\n",
      "      Epoch    GPU_mem   box_loss   cls_loss   dfl_loss  Instances       Size\n"
     ]
    },
    {
     "name": "stderr",
     "output_type": "stream",
     "text": [
      "        4/5         0G     0.9445      2.944      1.169         16        320: 100%|██████████| 17/17 [00:06<00:00,  2.58it/s]\n",
      "                 Class     Images  Instances      Box(P          R      mAP50  mAP50-95): 100%|██████████| 3/3 [00:00<00:00,  3.46it/s]"
     ]
    },
    {
     "name": "stdout",
     "output_type": "stream",
     "text": [
      "                   all         38         55       0.83      0.143      0.213      0.164\n"
     ]
    },
    {
     "name": "stderr",
     "output_type": "stream",
     "text": [
      "\n"
     ]
    },
    {
     "name": "stdout",
     "output_type": "stream",
     "text": [
      "\n",
      "      Epoch    GPU_mem   box_loss   cls_loss   dfl_loss  Instances       Size\n"
     ]
    },
    {
     "name": "stderr",
     "output_type": "stream",
     "text": [
      "        5/5         0G     0.9238       2.91      1.179         12        320: 100%|██████████| 17/17 [00:06<00:00,  2.60it/s]\n",
      "                 Class     Images  Instances      Box(P          R      mAP50  mAP50-95): 100%|██████████| 3/3 [00:00<00:00,  3.47it/s]"
     ]
    },
    {
     "name": "stdout",
     "output_type": "stream",
     "text": [
      "                   all         38         55      0.816      0.202      0.213      0.169\n"
     ]
    },
    {
     "name": "stderr",
     "output_type": "stream",
     "text": [
      "\n"
     ]
    },
    {
     "name": "stdout",
     "output_type": "stream",
     "text": [
      "\n",
      "5 epochs completed in 0.012 hours.\n",
      "Optimizer stripped from medical-detection\\fine_tuned_yolov8n\\weights\\last.pt, 6.2MB\n",
      "Optimizer stripped from medical-detection\\fine_tuned_yolov8n\\weights\\best.pt, 6.2MB\n",
      "\n",
      "Validating medical-detection\\fine_tuned_yolov8n\\weights\\best.pt...\n",
      "Ultralytics 8.3.70  Python-3.12.8 torch-2.6.0+cpu CPU (11th Gen Intel Core(TM) i5-11320H 3.20GHz)\n",
      "Model summary (fused): 168 layers, 3,007,208 parameters, 0 gradients, 8.1 GFLOPs\n"
     ]
    },
    {
     "name": "stderr",
     "output_type": "stream",
     "text": [
      "                 Class     Images  Instances      Box(P          R      mAP50  mAP50-95): 100%|██████████| 3/3 [00:00<00:00,  3.32it/s]\n"
     ]
    },
    {
     "name": "stdout",
     "output_type": "stream",
     "text": [
      "                   all         38         55      0.816      0.202      0.211      0.168\n",
      "              cosmotic          4          6          1          0      0.213      0.144\n",
      "          food-package          3          3          1          0     0.0525     0.0446\n",
      "        food-supliment         16         24      0.454      0.542      0.377      0.269\n",
      "          formula-milk          8          8      0.258      0.875      0.549      0.489\n",
      "       lotion-moisture          4          4          1          0     0.0885     0.0651\n",
      "              medicine          6          7          1          0      0.155      0.121\n",
      "             mini-drop          2          3          1          0     0.0446     0.0406\n",
      "Speed: 0.8ms preprocess, 13.7ms inference, 0.0ms loss, 0.8ms postprocess per image\n",
      "Results saved to \u001b[1mmedical-detection\\fine_tuned_yolov8n\u001b[0m\n",
      "Ultralytics 8.3.70  Python-3.12.8 torch-2.6.0+cpu CPU (11th Gen Intel Core(TM) i5-11320H 3.20GHz)\n",
      "\u001b[34m\u001b[1mengine\\trainer: \u001b[0mtask=detect, mode=train, model=yolov8s.pt, data=d:\\KMAI3\\EMB-DataWarehouse\\notebbooks\\medical-products-1/data.yaml, epochs=5, time=None, patience=100, batch=16, imgsz=640, save=True, save_period=-1, cache=False, device=None, workers=8, project=medical-detection, name=fine_tuned_yolov8s, exist_ok=False, pretrained=True, optimizer=auto, verbose=True, seed=0, deterministic=True, single_cls=False, rect=False, cos_lr=False, close_mosaic=10, resume=False, amp=True, fraction=1.0, profile=False, freeze=None, multi_scale=False, overlap_mask=True, mask_ratio=4, dropout=0.0, val=True, split=val, save_json=False, save_hybrid=False, conf=None, iou=0.7, max_det=300, half=False, dnn=False, plots=True, source=None, vid_stride=1, stream_buffer=False, visualize=False, augment=False, agnostic_nms=False, classes=None, retina_masks=False, embed=None, show=False, save_frames=False, save_txt=False, save_conf=False, save_crop=False, show_labels=True, show_conf=True, show_boxes=True, line_width=None, format=torchscript, keras=False, optimize=False, int8=False, dynamic=False, simplify=True, opset=None, workspace=None, nms=False, lr0=0.01, lrf=0.01, momentum=0.937, weight_decay=0.0005, warmup_epochs=3.0, warmup_momentum=0.8, warmup_bias_lr=0.1, box=7.5, cls=0.5, dfl=1.5, pose=12.0, kobj=1.0, nbs=64, hsv_h=0.015, hsv_s=0.7, hsv_v=0.4, degrees=0.0, translate=0.1, scale=0.5, shear=0.0, perspective=0.0, flipud=0.0, fliplr=0.5, bgr=0.0, mosaic=1.0, mixup=0.0, copy_paste=0.0, copy_paste_mode=flip, auto_augment=randaugment, erasing=0.4, crop_fraction=1.0, cfg=None, tracker=botsort.yaml, save_dir=medical-detection\\fine_tuned_yolov8s\n",
      "Overriding model.yaml nc=80 with nc=8\n",
      "\n",
      "                   from  n    params  module                                       arguments                     \n",
      "  0                  -1  1       928  ultralytics.nn.modules.conv.Conv             [3, 32, 3, 2]                 \n",
      "  1                  -1  1     18560  ultralytics.nn.modules.conv.Conv             [32, 64, 3, 2]                \n",
      "  2                  -1  1     29056  ultralytics.nn.modules.block.C2f             [64, 64, 1, True]             \n",
      "  3                  -1  1     73984  ultralytics.nn.modules.conv.Conv             [64, 128, 3, 2]               \n",
      "  4                  -1  2    197632  ultralytics.nn.modules.block.C2f             [128, 128, 2, True]           \n",
      "  5                  -1  1    295424  ultralytics.nn.modules.conv.Conv             [128, 256, 3, 2]              \n",
      "  6                  -1  2    788480  ultralytics.nn.modules.block.C2f             [256, 256, 2, True]           \n",
      "  7                  -1  1   1180672  ultralytics.nn.modules.conv.Conv             [256, 512, 3, 2]              \n",
      "  8                  -1  1   1838080  ultralytics.nn.modules.block.C2f             [512, 512, 1, True]           \n",
      "  9                  -1  1    656896  ultralytics.nn.modules.block.SPPF            [512, 512, 5]                 \n",
      " 10                  -1  1         0  torch.nn.modules.upsampling.Upsample         [None, 2, 'nearest']          \n",
      " 11             [-1, 6]  1         0  ultralytics.nn.modules.conv.Concat           [1]                           \n",
      " 12                  -1  1    591360  ultralytics.nn.modules.block.C2f             [768, 256, 1]                 \n",
      " 13                  -1  1         0  torch.nn.modules.upsampling.Upsample         [None, 2, 'nearest']          \n",
      " 14             [-1, 4]  1         0  ultralytics.nn.modules.conv.Concat           [1]                           \n",
      " 15                  -1  1    148224  ultralytics.nn.modules.block.C2f             [384, 128, 1]                 \n",
      " 16                  -1  1    147712  ultralytics.nn.modules.conv.Conv             [128, 128, 3, 2]              \n",
      " 17            [-1, 12]  1         0  ultralytics.nn.modules.conv.Concat           [1]                           \n",
      " 18                  -1  1    493056  ultralytics.nn.modules.block.C2f             [384, 256, 1]                 \n",
      " 19                  -1  1    590336  ultralytics.nn.modules.conv.Conv             [256, 256, 3, 2]              \n",
      " 20             [-1, 9]  1         0  ultralytics.nn.modules.conv.Concat           [1]                           \n",
      " 21                  -1  1   1969152  ultralytics.nn.modules.block.C2f             [768, 512, 1]                 \n",
      " 22        [15, 18, 21]  1   2119144  ultralytics.nn.modules.head.Detect           [8, [128, 256, 512]]          \n",
      "Model summary: 225 layers, 11,138,696 parameters, 11,138,680 gradients, 28.7 GFLOPs\n",
      "\n",
      "Transferred 349/355 items from pretrained weights\n",
      "WARNING  Comet installed but not initialized correctly, not logging this run. Comet.ml requires an API key. Please provide as the first argument to Experiment(api_key) or as an environment variable named COMET_API_KEY \n",
      "\u001b[34m\u001b[1mTensorBoard: \u001b[0mStart with 'tensorboard --logdir medical-detection\\fine_tuned_yolov8s', view at http://localhost:6006/\n",
      "Freezing layer 'model.22.dfl.conv.weight'\n"
     ]
    },
    {
     "name": "stderr",
     "output_type": "stream",
     "text": [
      "\u001b[34m\u001b[1mtrain: \u001b[0mScanning D:\\KMAI3\\EMB-DataWarehouse\\notebbooks\\medical-products-1\\train\\labels.cache... 133 images, 0 backgrounds, 0 corrupt: 100%|██████████| 133/133 [00:00<?, ?it/s]"
     ]
    },
    {
     "name": "stdout",
     "output_type": "stream",
     "text": [
      "WARNING  Box and segment counts should be equal, but got len(segments) = 1, len(boxes) = 177. To resolve this only boxes will be used and all segments will be removed. To avoid this please supply either a detect or segment dataset, not a detect-segment mixed dataset.\n"
     ]
    },
    {
     "name": "stderr",
     "output_type": "stream",
     "text": [
      "\n",
      "\u001b[34m\u001b[1mval: \u001b[0mScanning D:\\KMAI3\\EMB-DataWarehouse\\notebbooks\\medical-products-1\\valid\\labels.cache... 38 images, 0 backgrounds, 0 corrupt: 100%|██████████| 38/38 [00:00<?, ?it/s]"
     ]
    },
    {
     "name": "stdout",
     "output_type": "stream",
     "text": [
      "Plotting labels to medical-detection\\fine_tuned_yolov8s\\labels.jpg... \n"
     ]
    },
    {
     "name": "stderr",
     "output_type": "stream",
     "text": [
      "\n"
     ]
    },
    {
     "name": "stdout",
     "output_type": "stream",
     "text": [
      "\u001b[34m\u001b[1moptimizer:\u001b[0m 'optimizer=auto' found, ignoring 'lr0=0.01' and 'momentum=0.937' and determining best 'optimizer', 'lr0' and 'momentum' automatically... \n",
      "\u001b[34m\u001b[1moptimizer:\u001b[0m AdamW(lr=0.000833, momentum=0.9) with parameter groups 57 weight(decay=0.0), 64 weight(decay=0.0005), 63 bias(decay=0.0)\n",
      "\u001b[34m\u001b[1mTensorBoard: \u001b[0mmodel graph visualization added \n",
      "Image sizes 640 train, 640 val\n",
      "Using 0 dataloader workers\n",
      "Logging results to \u001b[1mmedical-detection\\fine_tuned_yolov8s\u001b[0m\n",
      "Starting training for 5 epochs...\n",
      "\n",
      "      Epoch    GPU_mem   box_loss   cls_loss   dfl_loss  Instances       Size\n"
     ]
    },
    {
     "name": "stderr",
     "output_type": "stream",
     "text": [
      "        1/5         0G      1.606      6.813      1.876         10        640: 100%|██████████| 9/9 [01:04<00:00,  7.19s/it]\n",
      "                 Class     Images  Instances      Box(P          R      mAP50  mAP50-95):   0%|          | 0/2 [00:00<?, ?it/s]"
     ]
    },
    {
     "name": "stdout",
     "output_type": "stream",
     "text": [
      "WARNING  NMS time limit 3.600s exceeded\n"
     ]
    },
    {
     "name": "stderr",
     "output_type": "stream",
     "text": [
      "                 Class     Images  Instances      Box(P          R      mAP50  mAP50-95): 100%|██████████| 2/2 [00:11<00:00,  5.87s/it]"
     ]
    },
    {
     "name": "stdout",
     "output_type": "stream",
     "text": [
      "                   all         38         55      0.261      0.101     0.0909     0.0574\n"
     ]
    },
    {
     "name": "stderr",
     "output_type": "stream",
     "text": [
      "\n"
     ]
    },
    {
     "name": "stdout",
     "output_type": "stream",
     "text": [
      "\n",
      "      Epoch    GPU_mem   box_loss   cls_loss   dfl_loss  Instances       Size\n"
     ]
    },
    {
     "name": "stderr",
     "output_type": "stream",
     "text": [
      "        2/5         0G       1.17      3.569       1.58         12        640: 100%|██████████| 9/9 [01:05<00:00,  7.28s/it]\n",
      "                 Class     Images  Instances      Box(P          R      mAP50  mAP50-95):   0%|          | 0/2 [00:00<?, ?it/s]"
     ]
    },
    {
     "name": "stdout",
     "output_type": "stream",
     "text": [
      "WARNING  NMS time limit 3.600s exceeded\n"
     ]
    },
    {
     "name": "stderr",
     "output_type": "stream",
     "text": [
      "                 Class     Images  Instances      Box(P          R      mAP50  mAP50-95): 100%|██████████| 2/2 [00:12<00:00,  6.07s/it]"
     ]
    },
    {
     "name": "stdout",
     "output_type": "stream",
     "text": [
      "                   all         38         55       0.58      0.182      0.117     0.0832\n"
     ]
    },
    {
     "name": "stderr",
     "output_type": "stream",
     "text": [
      "\n"
     ]
    },
    {
     "name": "stdout",
     "output_type": "stream",
     "text": [
      "\n",
      "      Epoch    GPU_mem   box_loss   cls_loss   dfl_loss  Instances       Size\n"
     ]
    },
    {
     "name": "stderr",
     "output_type": "stream",
     "text": [
      "        3/5         0G     0.9594       2.81      1.395         16        640: 100%|██████████| 9/9 [01:07<00:00,  7.55s/it]\n",
      "                 Class     Images  Instances      Box(P          R      mAP50  mAP50-95):   0%|          | 0/2 [00:00<?, ?it/s]"
     ]
    },
    {
     "name": "stdout",
     "output_type": "stream",
     "text": [
      "WARNING  NMS time limit 3.600s exceeded\n"
     ]
    },
    {
     "name": "stderr",
     "output_type": "stream",
     "text": [
      "                 Class     Images  Instances      Box(P          R      mAP50  mAP50-95): 100%|██████████| 2/2 [00:11<00:00,  5.73s/it]"
     ]
    },
    {
     "name": "stdout",
     "output_type": "stream",
     "text": [
      "                   all         38         55      0.628      0.292      0.241      0.155\n"
     ]
    },
    {
     "name": "stderr",
     "output_type": "stream",
     "text": [
      "\n"
     ]
    },
    {
     "name": "stdout",
     "output_type": "stream",
     "text": [
      "\n",
      "      Epoch    GPU_mem   box_loss   cls_loss   dfl_loss  Instances       Size\n"
     ]
    },
    {
     "name": "stderr",
     "output_type": "stream",
     "text": [
      "        4/5         0G      0.911       2.41      1.332         16        640: 100%|██████████| 9/9 [01:09<00:00,  7.74s/it]\n",
      "                 Class     Images  Instances      Box(P          R      mAP50  mAP50-95): 100%|██████████| 2/2 [00:10<00:00,  5.04s/it]"
     ]
    },
    {
     "name": "stdout",
     "output_type": "stream",
     "text": [
      "                   all         38         55      0.304      0.354      0.226       0.16\n"
     ]
    },
    {
     "name": "stderr",
     "output_type": "stream",
     "text": [
      "\n"
     ]
    },
    {
     "name": "stdout",
     "output_type": "stream",
     "text": [
      "\n",
      "      Epoch    GPU_mem   box_loss   cls_loss   dfl_loss  Instances       Size\n"
     ]
    },
    {
     "name": "stderr",
     "output_type": "stream",
     "text": [
      "        5/5         0G     0.8497      2.303      1.263         13        640: 100%|██████████| 9/9 [01:02<00:00,  6.97s/it]\n",
      "                 Class     Images  Instances      Box(P          R      mAP50  mAP50-95): 100%|██████████| 2/2 [00:10<00:00,  5.22s/it]"
     ]
    },
    {
     "name": "stdout",
     "output_type": "stream",
     "text": [
      "                   all         38         55      0.204      0.416      0.252      0.184\n"
     ]
    },
    {
     "name": "stderr",
     "output_type": "stream",
     "text": [
      "\n"
     ]
    },
    {
     "name": "stdout",
     "output_type": "stream",
     "text": [
      "\n",
      "5 epochs completed in 0.110 hours.\n",
      "Optimizer stripped from medical-detection\\fine_tuned_yolov8s\\weights\\last.pt, 22.5MB\n",
      "Optimizer stripped from medical-detection\\fine_tuned_yolov8s\\weights\\best.pt, 22.5MB\n",
      "\n",
      "Validating medical-detection\\fine_tuned_yolov8s\\weights\\best.pt...\n",
      "Ultralytics 8.3.70  Python-3.12.8 torch-2.6.0+cpu CPU (11th Gen Intel Core(TM) i5-11320H 3.20GHz)\n",
      "Model summary (fused): 168 layers, 11,128,680 parameters, 0 gradients, 28.5 GFLOPs\n"
     ]
    },
    {
     "name": "stderr",
     "output_type": "stream",
     "text": [
      "                 Class     Images  Instances      Box(P          R      mAP50  mAP50-95): 100%|██████████| 2/2 [00:10<00:00,  5.26s/it]\n"
     ]
    },
    {
     "name": "stdout",
     "output_type": "stream",
     "text": [
      "                   all         38         55      0.202      0.417      0.252      0.184\n",
      "              cosmotic          4          6      0.168      0.667      0.196      0.122\n",
      "          food-package          3          3          0          0     0.0519     0.0357\n",
      "        food-supliment         16         24       0.54      0.542       0.43      0.284\n",
      "          formula-milk          8          8      0.379      0.875      0.663      0.562\n",
      "       lotion-moisture          4          4      0.134        0.5       0.19      0.139\n",
      "              medicine          6          7          0          0      0.149     0.0803\n",
      "             mini-drop          2          3      0.193      0.333     0.0854     0.0619\n",
      "Speed: 1.6ms preprocess, 154.5ms inference, 0.0ms loss, 114.2ms postprocess per image\n",
      "Results saved to \u001b[1mmedical-detection\\fine_tuned_yolov8s\u001b[0m\n",
      "Downloading https://github.com/ultralytics/assets/releases/download/v8.3.0/yolov8m.pt to 'yolov8m.pt'...\n"
     ]
    },
    {
     "name": "stderr",
     "output_type": "stream",
     "text": [
      "100%|██████████| 49.7M/49.7M [00:18<00:00, 2.75MB/s]\n"
     ]
    },
    {
     "name": "stdout",
     "output_type": "stream",
     "text": [
      "Ultralytics 8.3.70  Python-3.12.8 torch-2.6.0+cpu CPU (11th Gen Intel Core(TM) i5-11320H 3.20GHz)\n",
      "\u001b[34m\u001b[1mengine\\trainer: \u001b[0mtask=detect, mode=train, model=yolov8m.pt, data=d:\\KMAI3\\EMB-DataWarehouse\\notebbooks\\medical-products-1/data.yaml, epochs=5, time=None, patience=100, batch=16, imgsz=640, save=True, save_period=-1, cache=False, device=None, workers=8, project=medical-detection, name=fine_tuned_yolov8m, exist_ok=False, pretrained=True, optimizer=auto, verbose=True, seed=0, deterministic=True, single_cls=False, rect=False, cos_lr=False, close_mosaic=10, resume=False, amp=True, fraction=1.0, profile=False, freeze=None, multi_scale=False, overlap_mask=True, mask_ratio=4, dropout=0.0, val=True, split=val, save_json=False, save_hybrid=False, conf=None, iou=0.7, max_det=300, half=False, dnn=False, plots=True, source=None, vid_stride=1, stream_buffer=False, visualize=False, augment=False, agnostic_nms=False, classes=None, retina_masks=False, embed=None, show=False, save_frames=False, save_txt=False, save_conf=False, save_crop=False, show_labels=True, show_conf=True, show_boxes=True, line_width=None, format=torchscript, keras=False, optimize=False, int8=False, dynamic=False, simplify=True, opset=None, workspace=None, nms=False, lr0=0.01, lrf=0.01, momentum=0.937, weight_decay=0.0005, warmup_epochs=3.0, warmup_momentum=0.8, warmup_bias_lr=0.1, box=7.5, cls=0.5, dfl=1.5, pose=12.0, kobj=1.0, nbs=64, hsv_h=0.015, hsv_s=0.7, hsv_v=0.4, degrees=0.0, translate=0.1, scale=0.5, shear=0.0, perspective=0.0, flipud=0.0, fliplr=0.5, bgr=0.0, mosaic=1.0, mixup=0.0, copy_paste=0.0, copy_paste_mode=flip, auto_augment=randaugment, erasing=0.4, crop_fraction=1.0, cfg=None, tracker=botsort.yaml, save_dir=medical-detection\\fine_tuned_yolov8m\n",
      "Overriding model.yaml nc=80 with nc=8\n",
      "\n",
      "                   from  n    params  module                                       arguments                     \n",
      "  0                  -1  1      1392  ultralytics.nn.modules.conv.Conv             [3, 48, 3, 2]                 \n",
      "  1                  -1  1     41664  ultralytics.nn.modules.conv.Conv             [48, 96, 3, 2]                \n",
      "  2                  -1  2    111360  ultralytics.nn.modules.block.C2f             [96, 96, 2, True]             \n",
      "  3                  -1  1    166272  ultralytics.nn.modules.conv.Conv             [96, 192, 3, 2]               \n",
      "  4                  -1  4    813312  ultralytics.nn.modules.block.C2f             [192, 192, 4, True]           \n",
      "  5                  -1  1    664320  ultralytics.nn.modules.conv.Conv             [192, 384, 3, 2]              \n",
      "  6                  -1  4   3248640  ultralytics.nn.modules.block.C2f             [384, 384, 4, True]           \n",
      "  7                  -1  1   1991808  ultralytics.nn.modules.conv.Conv             [384, 576, 3, 2]              \n",
      "  8                  -1  2   3985920  ultralytics.nn.modules.block.C2f             [576, 576, 2, True]           \n",
      "  9                  -1  1    831168  ultralytics.nn.modules.block.SPPF            [576, 576, 5]                 \n",
      " 10                  -1  1         0  torch.nn.modules.upsampling.Upsample         [None, 2, 'nearest']          \n",
      " 11             [-1, 6]  1         0  ultralytics.nn.modules.conv.Concat           [1]                           \n",
      " 12                  -1  2   1993728  ultralytics.nn.modules.block.C2f             [960, 384, 2]                 \n",
      " 13                  -1  1         0  torch.nn.modules.upsampling.Upsample         [None, 2, 'nearest']          \n",
      " 14             [-1, 4]  1         0  ultralytics.nn.modules.conv.Concat           [1]                           \n",
      " 15                  -1  2    517632  ultralytics.nn.modules.block.C2f             [576, 192, 2]                 \n",
      " 16                  -1  1    332160  ultralytics.nn.modules.conv.Conv             [192, 192, 3, 2]              \n",
      " 17            [-1, 12]  1         0  ultralytics.nn.modules.conv.Concat           [1]                           \n",
      " 18                  -1  2   1846272  ultralytics.nn.modules.block.C2f             [576, 384, 2]                 \n",
      " 19                  -1  1   1327872  ultralytics.nn.modules.conv.Conv             [384, 384, 3, 2]              \n",
      " 20             [-1, 9]  1         0  ultralytics.nn.modules.conv.Concat           [1]                           \n",
      " 21                  -1  2   4207104  ultralytics.nn.modules.block.C2f             [960, 576, 2]                 \n",
      " 22        [15, 18, 21]  1   3780328  ultralytics.nn.modules.head.Detect           [8, [192, 384, 576]]          \n",
      "Model summary: 295 layers, 25,860,952 parameters, 25,860,936 gradients, 79.1 GFLOPs\n",
      "\n",
      "Transferred 469/475 items from pretrained weights\n",
      "WARNING  Comet installed but not initialized correctly, not logging this run. Comet.ml requires an API key. Please provide as the first argument to Experiment(api_key) or as an environment variable named COMET_API_KEY \n",
      "\u001b[34m\u001b[1mTensorBoard: \u001b[0mStart with 'tensorboard --logdir medical-detection\\fine_tuned_yolov8m', view at http://localhost:6006/\n",
      "Freezing layer 'model.22.dfl.conv.weight'\n"
     ]
    },
    {
     "name": "stderr",
     "output_type": "stream",
     "text": [
      "\u001b[34m\u001b[1mtrain: \u001b[0mScanning D:\\KMAI3\\EMB-DataWarehouse\\notebbooks\\medical-products-1\\train\\labels.cache... 133 images, 0 backgrounds, 0 corrupt: 100%|██████████| 133/133 [00:00<?, ?it/s]"
     ]
    },
    {
     "name": "stdout",
     "output_type": "stream",
     "text": [
      "WARNING  Box and segment counts should be equal, but got len(segments) = 1, len(boxes) = 177. To resolve this only boxes will be used and all segments will be removed. To avoid this please supply either a detect or segment dataset, not a detect-segment mixed dataset.\n"
     ]
    },
    {
     "name": "stderr",
     "output_type": "stream",
     "text": [
      "\n",
      "\u001b[34m\u001b[1mval: \u001b[0mScanning D:\\KMAI3\\EMB-DataWarehouse\\notebbooks\\medical-products-1\\valid\\labels.cache... 38 images, 0 backgrounds, 0 corrupt: 100%|██████████| 38/38 [00:00<?, ?it/s]"
     ]
    },
    {
     "name": "stdout",
     "output_type": "stream",
     "text": [
      "Plotting labels to medical-detection\\fine_tuned_yolov8m\\labels.jpg... \n"
     ]
    },
    {
     "name": "stderr",
     "output_type": "stream",
     "text": [
      "\n"
     ]
    },
    {
     "name": "stdout",
     "output_type": "stream",
     "text": [
      "\u001b[34m\u001b[1moptimizer:\u001b[0m 'optimizer=auto' found, ignoring 'lr0=0.01' and 'momentum=0.937' and determining best 'optimizer', 'lr0' and 'momentum' automatically... \n",
      "\u001b[34m\u001b[1moptimizer:\u001b[0m AdamW(lr=0.000833, momentum=0.9) with parameter groups 77 weight(decay=0.0), 84 weight(decay=0.0005), 83 bias(decay=0.0)\n",
      "\u001b[34m\u001b[1mTensorBoard: \u001b[0mmodel graph visualization added \n",
      "Image sizes 640 train, 640 val\n",
      "Using 0 dataloader workers\n",
      "Logging results to \u001b[1mmedical-detection\\fine_tuned_yolov8m\u001b[0m\n",
      "Starting training for 5 epochs...\n",
      "\n",
      "      Epoch    GPU_mem   box_loss   cls_loss   dfl_loss  Instances       Size\n"
     ]
    },
    {
     "name": "stderr",
     "output_type": "stream",
     "text": [
      "        1/5         0G      1.283      4.242      1.667         10        640: 100%|██████████| 9/9 [03:33<00:00, 23.76s/it]\n",
      "                 Class     Images  Instances      Box(P          R      mAP50  mAP50-95):   0%|          | 0/2 [00:00<?, ?it/s]"
     ]
    },
    {
     "name": "stdout",
     "output_type": "stream",
     "text": [
      "WARNING  NMS time limit 3.600s exceeded\n"
     ]
    },
    {
     "name": "stderr",
     "output_type": "stream",
     "text": [
      "                 Class     Images  Instances      Box(P          R      mAP50  mAP50-95):  50%|█████     | 1/2 [00:19<00:19, 19.14s/it]"
     ]
    },
    {
     "name": "stdout",
     "output_type": "stream",
     "text": [
      "WARNING  NMS time limit 2.300s exceeded\n"
     ]
    },
    {
     "name": "stderr",
     "output_type": "stream",
     "text": [
      "                 Class     Images  Instances      Box(P          R      mAP50  mAP50-95): 100%|██████████| 2/2 [00:23<00:00, 11.90s/it]"
     ]
    },
    {
     "name": "stdout",
     "output_type": "stream",
     "text": [
      "                   all         38         55      0.121      0.245     0.0947     0.0586\n"
     ]
    },
    {
     "name": "stderr",
     "output_type": "stream",
     "text": [
      "\n"
     ]
    },
    {
     "name": "stdout",
     "output_type": "stream",
     "text": [
      "\n",
      "      Epoch    GPU_mem   box_loss   cls_loss   dfl_loss  Instances       Size\n"
     ]
    },
    {
     "name": "stderr",
     "output_type": "stream",
     "text": [
      "        2/5         0G     0.9104      3.066      1.392         12        640: 100%|██████████| 9/9 [03:10<00:00, 21.12s/it]\n",
      "                 Class     Images  Instances      Box(P          R      mAP50  mAP50-95): 100%|██████████| 2/2 [00:17<00:00,  8.86s/it]"
     ]
    },
    {
     "name": "stdout",
     "output_type": "stream",
     "text": [
      "                   all         38         55      0.188      0.509      0.207      0.137\n"
     ]
    },
    {
     "name": "stderr",
     "output_type": "stream",
     "text": [
      "\n"
     ]
    },
    {
     "name": "stdout",
     "output_type": "stream",
     "text": [
      "\n",
      "      Epoch    GPU_mem   box_loss   cls_loss   dfl_loss  Instances       Size\n"
     ]
    },
    {
     "name": "stderr",
     "output_type": "stream",
     "text": [
      "        3/5         0G     0.7974      2.417      1.268         16        640: 100%|██████████| 9/9 [02:57<00:00, 19.73s/it]\n",
      "                 Class     Images  Instances      Box(P          R      mAP50  mAP50-95): 100%|██████████| 2/2 [00:17<00:00,  8.51s/it]"
     ]
    },
    {
     "name": "stdout",
     "output_type": "stream",
     "text": [
      "                   all         38         55      0.218      0.585      0.231      0.163\n"
     ]
    },
    {
     "name": "stderr",
     "output_type": "stream",
     "text": [
      "\n"
     ]
    },
    {
     "name": "stdout",
     "output_type": "stream",
     "text": [
      "\n",
      "      Epoch    GPU_mem   box_loss   cls_loss   dfl_loss  Instances       Size\n"
     ]
    },
    {
     "name": "stderr",
     "output_type": "stream",
     "text": [
      "        4/5         0G     0.7868       2.09      1.241         16        640: 100%|██████████| 9/9 [02:39<00:00, 17.77s/it]\n",
      "                 Class     Images  Instances      Box(P          R      mAP50  mAP50-95): 100%|██████████| 2/2 [00:16<00:00,  8.21s/it]"
     ]
    },
    {
     "name": "stdout",
     "output_type": "stream",
     "text": [
      "                   all         38         55      0.303      0.431      0.304      0.218\n"
     ]
    },
    {
     "name": "stderr",
     "output_type": "stream",
     "text": [
      "\n"
     ]
    },
    {
     "name": "stdout",
     "output_type": "stream",
     "text": [
      "\n",
      "      Epoch    GPU_mem   box_loss   cls_loss   dfl_loss  Instances       Size\n"
     ]
    },
    {
     "name": "stderr",
     "output_type": "stream",
     "text": [
      "        5/5         0G     0.8027      1.981      1.224         13        640: 100%|██████████| 9/9 [02:52<00:00, 19.12s/it]\n",
      "                 Class     Images  Instances      Box(P          R      mAP50  mAP50-95): 100%|██████████| 2/2 [00:18<00:00,  9.19s/it]"
     ]
    },
    {
     "name": "stdout",
     "output_type": "stream",
     "text": [
      "                   all         38         55      0.218       0.47      0.309      0.221\n"
     ]
    },
    {
     "name": "stderr",
     "output_type": "stream",
     "text": [
      "\n"
     ]
    },
    {
     "name": "stdout",
     "output_type": "stream",
     "text": [
      "\n",
      "5 epochs completed in 0.285 hours.\n",
      "Optimizer stripped from medical-detection\\fine_tuned_yolov8m\\weights\\last.pt, 52.0MB\n",
      "Optimizer stripped from medical-detection\\fine_tuned_yolov8m\\weights\\best.pt, 52.0MB\n",
      "\n",
      "Validating medical-detection\\fine_tuned_yolov8m\\weights\\best.pt...\n",
      "Ultralytics 8.3.70  Python-3.12.8 torch-2.6.0+cpu CPU (11th Gen Intel Core(TM) i5-11320H 3.20GHz)\n",
      "Model summary (fused): 218 layers, 25,844,392 parameters, 0 gradients, 78.7 GFLOPs\n"
     ]
    },
    {
     "name": "stderr",
     "output_type": "stream",
     "text": [
      "                 Class     Images  Instances      Box(P          R      mAP50  mAP50-95): 100%|██████████| 2/2 [00:17<00:00,  8.80s/it]\n"
     ]
    },
    {
     "name": "stdout",
     "output_type": "stream",
     "text": [
      "                   all         38         55      0.217       0.47      0.309      0.221\n",
      "              cosmotic          4          6     0.0351      0.167      0.107     0.0796\n",
      "          food-package          3          3      0.182      0.333       0.17      0.153\n",
      "        food-supliment         16         24      0.483      0.428      0.429      0.305\n",
      "          formula-milk          8          8      0.419      0.875      0.446      0.363\n",
      "       lotion-moisture          4          4     0.0691       0.25      0.209       0.18\n",
      "              medicine          6          7      0.104      0.571      0.131     0.0822\n",
      "             mini-drop          2          3      0.226      0.667      0.667      0.386\n",
      "Speed: 1.3ms preprocess, 431.6ms inference, 0.0ms loss, 22.5ms postprocess per image\n",
      "Results saved to \u001b[1mmedical-detection\\fine_tuned_yolov8m\u001b[0m\n"
     ]
    }
   ],
   "source": [
    "# Training with different model sizes\n",
    "models = {\n",
    "    \"yolov8n\": (320, 8),  # nano model\n",
    "    \"yolov8s\": (640, 16),  # small model\n",
    "    \"yolov8m\": (640, 16)   # medium model\n",
    "}\n",
    "for model_name, (imgsz, batch) in models.items():\n",
    "    model = YOLO(f\"{model_name}.pt\")\n",
    "    model.train(\n",
    "        data=f\"{dataset.location}/data.yaml\",\n",
    "        epochs=5,\n",
    "        imgsz=imgsz,\n",
    "        batch=batch,\n",
    "        name=f\"fine_tuned_{model_name}\",\n",
    "        project=\"medical-detection\"\n",
    "    )"
   ]
  },
  {
   "cell_type": "code",
   "execution_count": 9,
   "metadata": {},
   "outputs": [
    {
     "name": "stdout",
     "output_type": "stream",
     "text": [
      "\n",
      "image 1/567 d:\\KMAI3\\EMB-DataWarehouse\\notebbooks\\..\\data\\photos\\CheMed123_10.jpg: 320x320 1 food-package, 1 lotion-moisture, 1 medicine, 106.2ms\n",
      "image 2/567 d:\\KMAI3\\EMB-DataWarehouse\\notebbooks\\..\\data\\photos\\CheMed123_11.jpg: 320x320 1 food-package, 1 formula-milk, 57.3ms\n",
      "image 3/567 d:\\KMAI3\\EMB-DataWarehouse\\notebbooks\\..\\data\\photos\\CheMed123_13.jpg: 320x320 1 formula-milk, 61.4ms\n",
      "image 4/567 d:\\KMAI3\\EMB-DataWarehouse\\notebbooks\\..\\data\\photos\\CheMed123_14.jpg: 320x256 1 formula-milk, 1 medicine, 67.3ms\n",
      "image 5/567 d:\\KMAI3\\EMB-DataWarehouse\\notebbooks\\..\\data\\photos\\CheMed123_15.jpg: 320x320 1 formula-milk, 1 medicine, 49.3ms\n",
      "image 6/567 d:\\KMAI3\\EMB-DataWarehouse\\notebbooks\\..\\data\\photos\\CheMed123_17.jpg: 320x256 1 formula-milk, 1 medicine, 46.4ms\n",
      "image 7/567 d:\\KMAI3\\EMB-DataWarehouse\\notebbooks\\..\\data\\photos\\CheMed123_18.jpg: 288x320 2 medicines, 87.9ms\n",
      "image 8/567 d:\\KMAI3\\EMB-DataWarehouse\\notebbooks\\..\\data\\photos\\CheMed123_19.jpg: 256x320 1 food-package, 71.6ms\n",
      "image 9/567 d:\\KMAI3\\EMB-DataWarehouse\\notebbooks\\..\\data\\photos\\CheMed123_2.jpg: 288x320 1 pregnancy, 52.0ms\n",
      "image 10/567 d:\\KMAI3\\EMB-DataWarehouse\\notebbooks\\..\\data\\photos\\CheMed123_20.jpg: 256x320 1 food-package, 31.1ms\n",
      "image 11/567 d:\\KMAI3\\EMB-DataWarehouse\\notebbooks\\..\\data\\photos\\CheMed123_21.jpg: 320x320 1 formula-milk, 60.7ms\n",
      "image 12/567 d:\\KMAI3\\EMB-DataWarehouse\\notebbooks\\..\\data\\photos\\CheMed123_22.jpg: 288x320 (no detections), 54.6ms\n",
      "image 13/567 d:\\KMAI3\\EMB-DataWarehouse\\notebbooks\\..\\data\\photos\\CheMed123_23.jpg: 288x320 1 formula-milk, 37.3ms\n",
      "image 14/567 d:\\KMAI3\\EMB-DataWarehouse\\notebbooks\\..\\data\\photos\\CheMed123_25.jpg: 288x320 1 food-package, 86.9ms\n",
      "image 15/567 d:\\KMAI3\\EMB-DataWarehouse\\notebbooks\\..\\data\\photos\\CheMed123_26.jpg: 288x320 1 food-package, 1 formula-milk, 40.9ms\n",
      "image 16/567 d:\\KMAI3\\EMB-DataWarehouse\\notebbooks\\..\\data\\photos\\CheMed123_27.jpg: 288x320 1 formula-milk, 1 medicine, 43.8ms\n",
      "image 17/567 d:\\KMAI3\\EMB-DataWarehouse\\notebbooks\\..\\data\\photos\\CheMed123_29.jpg: 320x256 1 food-package, 1 medicine, 52.4ms\n",
      "image 18/567 d:\\KMAI3\\EMB-DataWarehouse\\notebbooks\\..\\data\\photos\\CheMed123_3.jpg: 320x320 (no detections), 44.9ms\n",
      "image 19/567 d:\\KMAI3\\EMB-DataWarehouse\\notebbooks\\..\\data\\photos\\CheMed123_30.jpg: 288x320 1 medicine, 34.5ms\n",
      "image 20/567 d:\\KMAI3\\EMB-DataWarehouse\\notebbooks\\..\\data\\photos\\CheMed123_31.jpg: 320x256 1 formula-milk, 1 medicine, 39.8ms\n",
      "image 21/567 d:\\KMAI3\\EMB-DataWarehouse\\notebbooks\\..\\data\\photos\\CheMed123_32.jpg: 288x320 1 food-supliment, 1 formula-milk, 41.4ms\n",
      "image 22/567 d:\\KMAI3\\EMB-DataWarehouse\\notebbooks\\..\\data\\photos\\CheMed123_33.jpg: 288x320 (no detections), 41.7ms\n",
      "image 23/567 d:\\KMAI3\\EMB-DataWarehouse\\notebbooks\\..\\data\\photos\\CheMed123_34.jpg: 288x320 1 formula-milk, 1 medicine, 39.0ms\n",
      "image 24/567 d:\\KMAI3\\EMB-DataWarehouse\\notebbooks\\..\\data\\photos\\CheMed123_38.jpg: 288x320 1 formula-milk, 1 lotion-moisture, 1 medicine, 48.0ms\n",
      "image 25/567 d:\\KMAI3\\EMB-DataWarehouse\\notebbooks\\..\\data\\photos\\CheMed123_39.jpg: 160x320 1 lotion-moisture, 57.7ms\n",
      "image 26/567 d:\\KMAI3\\EMB-DataWarehouse\\notebbooks\\..\\data\\photos\\CheMed123_40.jpg: 192x320 1 food-supliment, 70.7ms\n",
      "image 27/567 d:\\KMAI3\\EMB-DataWarehouse\\notebbooks\\..\\data\\photos\\CheMed123_41.jpg: 320x320 1 food-supliment, 51.0ms\n",
      "image 28/567 d:\\KMAI3\\EMB-DataWarehouse\\notebbooks\\..\\data\\photos\\CheMed123_43.jpg: 320x320 1 food-package, 1 medicine, 45.8ms\n",
      "image 29/567 d:\\KMAI3\\EMB-DataWarehouse\\notebbooks\\..\\data\\photos\\CheMed123_44.jpg: 192x320 (no detections), 40.5ms\n",
      "image 30/567 d:\\KMAI3\\EMB-DataWarehouse\\notebbooks\\..\\data\\photos\\CheMed123_45.jpg: 320x320 1 food-package, 1 lotion-moisture, 34.8ms\n",
      "image 31/567 d:\\KMAI3\\EMB-DataWarehouse\\notebbooks\\..\\data\\photos\\CheMed123_46.jpg: 320x320 1 food-package, 1 medicine, 40.0ms\n",
      "image 32/567 d:\\KMAI3\\EMB-DataWarehouse\\notebbooks\\..\\data\\photos\\CheMed123_48.jpg: 320x320 1 formula-milk, 39.2ms\n",
      "image 33/567 d:\\KMAI3\\EMB-DataWarehouse\\notebbooks\\..\\data\\photos\\CheMed123_49.jpg: 320x320 1 formula-milk, 40.9ms\n",
      "image 34/567 d:\\KMAI3\\EMB-DataWarehouse\\notebbooks\\..\\data\\photos\\CheMed123_50.jpg: 320x320 2 formula-milks, 1 pregnancy, 43.0ms\n",
      "image 35/567 d:\\KMAI3\\EMB-DataWarehouse\\notebbooks\\..\\data\\photos\\CheMed123_52.jpg: 320x320 1 medicine, 38.3ms\n",
      "image 36/567 d:\\KMAI3\\EMB-DataWarehouse\\notebbooks\\..\\data\\photos\\CheMed123_53.jpg: 288x320 1 food-supliment, 1 formula-milk, 40.2ms\n",
      "image 37/567 d:\\KMAI3\\EMB-DataWarehouse\\notebbooks\\..\\data\\photos\\CheMed123_55.jpg: 320x320 1 food-package, 1 formula-milk, 40.4ms\n",
      "image 38/567 d:\\KMAI3\\EMB-DataWarehouse\\notebbooks\\..\\data\\photos\\CheMed123_56.jpg: 320x320 1 formula-milk, 1 medicine, 42.2ms\n",
      "image 39/567 d:\\KMAI3\\EMB-DataWarehouse\\notebbooks\\..\\data\\photos\\CheMed123_58.jpg: 288x320 1 pregnancy, 53.4ms\n",
      "image 40/567 d:\\KMAI3\\EMB-DataWarehouse\\notebbooks\\..\\data\\photos\\CheMed123_59.jpg: 320x320 1 cosmotic, 1 food-supliment, 42.0ms\n",
      "image 41/567 d:\\KMAI3\\EMB-DataWarehouse\\notebbooks\\..\\data\\photos\\CheMed123_60.jpg: 320x320 1 formula-milk, 1 lotion-moisture, 46.8ms\n",
      "image 42/567 d:\\KMAI3\\EMB-DataWarehouse\\notebbooks\\..\\data\\photos\\CheMed123_64.jpg: 320x320 1 food-supliment, 1 formula-milk, 49.1ms\n",
      "image 43/567 d:\\KMAI3\\EMB-DataWarehouse\\notebbooks\\..\\data\\photos\\CheMed123_67.jpg: 320x320 1 formula-milk, 54.0ms\n",
      "image 44/567 d:\\KMAI3\\EMB-DataWarehouse\\notebbooks\\..\\data\\photos\\CheMed123_70.jpg: 320x192 2 food-packages, 1 medicine, 59.7ms\n",
      "image 45/567 d:\\KMAI3\\EMB-DataWarehouse\\notebbooks\\..\\data\\photos\\CheMed123_71.jpg: 320x160 1 medicine, 58.8ms\n",
      "image 46/567 d:\\KMAI3\\EMB-DataWarehouse\\notebbooks\\..\\data\\photos\\CheMed123_74.jpg: 320x320 1 lotion-moisture, 1 medicine, 48.0ms\n",
      "image 47/567 d:\\KMAI3\\EMB-DataWarehouse\\notebbooks\\..\\data\\photos\\CheMed123_75.jpg: 320x320 3 formula-milks, 46.6ms\n",
      "image 48/567 d:\\KMAI3\\EMB-DataWarehouse\\notebbooks\\..\\data\\photos\\CheMed123_76.jpg: 320x192 1 food-package, 45.7ms\n",
      "image 49/567 d:\\KMAI3\\EMB-DataWarehouse\\notebbooks\\..\\data\\photos\\CheMed123_77.jpg: 320x320 1 food-supliment, 39.9ms\n",
      "image 50/567 d:\\KMAI3\\EMB-DataWarehouse\\notebbooks\\..\\data\\photos\\CheMed123_78.jpg: 320x256 1 food-package, 34.8ms\n",
      "image 51/567 d:\\KMAI3\\EMB-DataWarehouse\\notebbooks\\..\\data\\photos\\CheMed123_79.jpg: 320x320 1 food-supliment, 1 pregnancy, 42.9ms\n",
      "image 52/567 d:\\KMAI3\\EMB-DataWarehouse\\notebbooks\\..\\data\\photos\\CheMed123_80.jpg: 320x256 1 food-package, 35.6ms\n",
      "image 53/567 d:\\KMAI3\\EMB-DataWarehouse\\notebbooks\\..\\data\\photos\\CheMed123_81.jpg: 320x320 1 medicine, 43.6ms\n",
      "image 54/567 d:\\KMAI3\\EMB-DataWarehouse\\notebbooks\\..\\data\\photos\\CheMed123_82.jpg: 320x320 (no detections), 55.0ms\n",
      "image 55/567 d:\\KMAI3\\EMB-DataWarehouse\\notebbooks\\..\\data\\photos\\CheMed123_85.jpg: 320x320 1 formula-milk, 1 medicine, 46.0ms\n",
      "image 56/567 d:\\KMAI3\\EMB-DataWarehouse\\notebbooks\\..\\data\\photos\\CheMed123_86.jpg: 320x320 (no detections), 48.2ms\n",
      "image 57/567 d:\\KMAI3\\EMB-DataWarehouse\\notebbooks\\..\\data\\photos\\CheMed123_87.jpg: 320x320 1 food-package, 44.8ms\n",
      "image 58/567 d:\\KMAI3\\EMB-DataWarehouse\\notebbooks\\..\\data\\photos\\CheMed123_88.jpg: 320x320 1 food-supliment, 46.8ms\n",
      "image 59/567 d:\\KMAI3\\EMB-DataWarehouse\\notebbooks\\..\\data\\photos\\CheMed123_9.jpg: 288x320 1 pregnancy, 39.9ms\n",
      "image 60/567 d:\\KMAI3\\EMB-DataWarehouse\\notebbooks\\..\\data\\photos\\CheMed123_90.jpg: 320x320 1 formula-milk, 45.7ms\n",
      "image 61/567 d:\\KMAI3\\EMB-DataWarehouse\\notebbooks\\..\\data\\photos\\CheMed123_91.jpg: 320x320 1 food-supliment, 1 pregnancy, 40.2ms\n",
      "image 62/567 d:\\KMAI3\\EMB-DataWarehouse\\notebbooks\\..\\data\\photos\\CheMed123_92.jpg: 320x320 1 formula-milk, 38.6ms\n",
      "image 63/567 d:\\KMAI3\\EMB-DataWarehouse\\notebbooks\\..\\data\\photos\\CheMed123_93.jpg: 320x320 (no detections), 41.9ms\n",
      "image 64/567 d:\\KMAI3\\EMB-DataWarehouse\\notebbooks\\..\\data\\photos\\CheMed123_94.jpg: 320x320 1 food-package, 42.5ms\n",
      "image 65/567 d:\\KMAI3\\EMB-DataWarehouse\\notebbooks\\..\\data\\photos\\CheMed123_95.jpg: 320x320 (no detections), 51.5ms\n",
      "image 66/567 d:\\KMAI3\\EMB-DataWarehouse\\notebbooks\\..\\data\\photos\\CheMed123_96.jpg: 320x320 (no detections), 51.0ms\n",
      "image 67/567 d:\\KMAI3\\EMB-DataWarehouse\\notebbooks\\..\\data\\photos\\CheMed123_97.jpg: 320x320 1 formula-milk, 1 medicine, 44.7ms\n",
      "image 68/567 d:\\KMAI3\\EMB-DataWarehouse\\notebbooks\\..\\data\\photos\\lobelia4cosmetics_14697.jpg: 320x320 1 cosmotic, 1 food-supliment, 45.3ms\n",
      "image 69/567 d:\\KMAI3\\EMB-DataWarehouse\\notebbooks\\..\\data\\photos\\lobelia4cosmetics_14698.jpg: 320x320 1 cosmotic, 1 food-supliment, 1 medicine, 51.3ms\n",
      "image 70/567 d:\\KMAI3\\EMB-DataWarehouse\\notebbooks\\..\\data\\photos\\lobelia4cosmetics_14699.jpg: 320x320 1 food-supliment, 1 formula-milk, 1 pregnancy, 41.4ms\n",
      "image 71/567 d:\\KMAI3\\EMB-DataWarehouse\\notebbooks\\..\\data\\photos\\lobelia4cosmetics_14700.jpg: 320x320 1 food-supliment, 1 formula-milk, 31.6ms\n",
      "image 72/567 d:\\KMAI3\\EMB-DataWarehouse\\notebbooks\\..\\data\\photos\\lobelia4cosmetics_14701.jpg: 320x320 1 food-supliment, 56.5ms\n",
      "image 73/567 d:\\KMAI3\\EMB-DataWarehouse\\notebbooks\\..\\data\\photos\\lobelia4cosmetics_14702.jpg: 320x320 1 food-supliment, 53.9ms\n",
      "image 74/567 d:\\KMAI3\\EMB-DataWarehouse\\notebbooks\\..\\data\\photos\\lobelia4cosmetics_14703.jpg: 320x320 1 food-supliment, 1 formula-milk, 1 medicine, 40.3ms\n",
      "image 75/567 d:\\KMAI3\\EMB-DataWarehouse\\notebbooks\\..\\data\\photos\\lobelia4cosmetics_14704.jpg: 320x320 1 food-package, 1 formula-milk, 59.6ms\n",
      "image 76/567 d:\\KMAI3\\EMB-DataWarehouse\\notebbooks\\..\\data\\photos\\lobelia4cosmetics_14705.jpg: 320x320 1 food-supliment, 1 formula-milk, 41.5ms\n",
      "image 77/567 d:\\KMAI3\\EMB-DataWarehouse\\notebbooks\\..\\data\\photos\\lobelia4cosmetics_14706.jpg: 320x320 1 food-supliment, 1 medicine, 44.3ms\n",
      "image 78/567 d:\\KMAI3\\EMB-DataWarehouse\\notebbooks\\..\\data\\photos\\lobelia4cosmetics_14707.jpg: 320x320 1 food-supliment, 1 formula-milk, 37.1ms\n",
      "image 79/567 d:\\KMAI3\\EMB-DataWarehouse\\notebbooks\\..\\data\\photos\\lobelia4cosmetics_14708.jpg: 320x320 1 food-supliment, 41.6ms\n",
      "image 80/567 d:\\KMAI3\\EMB-DataWarehouse\\notebbooks\\..\\data\\photos\\lobelia4cosmetics_14709.jpg: 320x320 1 food-supliment, 37.8ms\n",
      "image 81/567 d:\\KMAI3\\EMB-DataWarehouse\\notebbooks\\..\\data\\photos\\lobelia4cosmetics_14710.jpg: 320x320 1 food-supliment, 88.7ms\n",
      "image 82/567 d:\\KMAI3\\EMB-DataWarehouse\\notebbooks\\..\\data\\photos\\lobelia4cosmetics_14711.jpg: 320x320 1 food-supliment, 37.9ms\n",
      "image 83/567 d:\\KMAI3\\EMB-DataWarehouse\\notebbooks\\..\\data\\photos\\lobelia4cosmetics_14712.jpg: 320x320 2 food-supliments, 1 medicine, 41.4ms\n",
      "image 84/567 d:\\KMAI3\\EMB-DataWarehouse\\notebbooks\\..\\data\\photos\\lobelia4cosmetics_14713.jpg: 320x320 1 food-supliment, 46.1ms\n",
      "image 85/567 d:\\KMAI3\\EMB-DataWarehouse\\notebbooks\\..\\data\\photos\\lobelia4cosmetics_14714.jpg: 320x320 1 food-supliment, 1 formula-milk, 39.8ms\n",
      "image 86/567 d:\\KMAI3\\EMB-DataWarehouse\\notebbooks\\..\\data\\photos\\lobelia4cosmetics_14715.jpg: 320x320 1 food-supliment, 1 formula-milk, 1 medicine, 46.1ms\n",
      "image 87/567 d:\\KMAI3\\EMB-DataWarehouse\\notebbooks\\..\\data\\photos\\lobelia4cosmetics_14716.jpg: 320x320 2 cosmotics, 40.1ms\n",
      "image 88/567 d:\\KMAI3\\EMB-DataWarehouse\\notebbooks\\..\\data\\photos\\lobelia4cosmetics_14717.jpg: 256x320 1 food-supliment, 1 formula-milk, 1 lotion-moisture, 1 medicine, 51.1ms\n",
      "image 89/567 d:\\KMAI3\\EMB-DataWarehouse\\notebbooks\\..\\data\\photos\\lobelia4cosmetics_14718.jpg: 320x320 1 food-supliment, 48.3ms\n",
      "image 90/567 d:\\KMAI3\\EMB-DataWarehouse\\notebbooks\\..\\data\\photos\\lobelia4cosmetics_14719.jpg: 320x320 1 food-supliment, 57.1ms\n",
      "image 91/567 d:\\KMAI3\\EMB-DataWarehouse\\notebbooks\\..\\data\\photos\\lobelia4cosmetics_14720.jpg: 320x320 1 food-supliment, 49.5ms\n",
      "image 92/567 d:\\KMAI3\\EMB-DataWarehouse\\notebbooks\\..\\data\\photos\\lobelia4cosmetics_14721.jpg: 320x320 1 food-supliment, 74.4ms\n",
      "image 93/567 d:\\KMAI3\\EMB-DataWarehouse\\notebbooks\\..\\data\\photos\\lobelia4cosmetics_14722.jpg: 320x320 1 food-supliment, 1 formula-milk, 1 pregnancy, 45.0ms\n",
      "image 94/567 d:\\KMAI3\\EMB-DataWarehouse\\notebbooks\\..\\data\\photos\\lobelia4cosmetics_14723.jpg: 320x320 1 food-supliment, 1 formula-milk, 38.7ms\n",
      "image 95/567 d:\\KMAI3\\EMB-DataWarehouse\\notebbooks\\..\\data\\photos\\lobelia4cosmetics_14724.jpg: 320x320 1 food-supliment, 40.1ms\n",
      "image 96/567 d:\\KMAI3\\EMB-DataWarehouse\\notebbooks\\..\\data\\photos\\lobelia4cosmetics_14725.jpg: 320x320 1 food-supliment, 1 formula-milk, 1 medicine, 44.6ms\n",
      "image 97/567 d:\\KMAI3\\EMB-DataWarehouse\\notebbooks\\..\\data\\photos\\lobelia4cosmetics_14726.jpg: 320x320 1 food-supliment, 1 formula-milk, 45.5ms\n",
      "image 98/567 d:\\KMAI3\\EMB-DataWarehouse\\notebbooks\\..\\data\\photos\\lobelia4cosmetics_14727.jpg: 320x320 1 food-supliment, 1 formula-milk, 44.0ms\n",
      "image 99/567 d:\\KMAI3\\EMB-DataWarehouse\\notebbooks\\..\\data\\photos\\lobelia4cosmetics_14728.jpg: 320x320 1 food-supliment, 1 formula-milk, 40.7ms\n",
      "image 100/567 d:\\KMAI3\\EMB-DataWarehouse\\notebbooks\\..\\data\\photos\\lobelia4cosmetics_14729.jpg: 320x320 1 food-supliment, 2 formula-milks, 49.9ms\n",
      "image 101/567 d:\\KMAI3\\EMB-DataWarehouse\\notebbooks\\..\\data\\photos\\lobelia4cosmetics_14730.jpg: 288x320 1 food-supliment, 3 formula-milks, 34.5ms\n",
      "image 102/567 d:\\KMAI3\\EMB-DataWarehouse\\notebbooks\\..\\data\\photos\\lobelia4cosmetics_14731.jpg: 320x320 2 formula-milks, 54.9ms\n",
      "image 103/567 d:\\KMAI3\\EMB-DataWarehouse\\notebbooks\\..\\data\\photos\\lobelia4cosmetics_14732.jpg: 320x320 1 food-supliment, 1 formula-milk, 54.0ms\n",
      "image 104/567 d:\\KMAI3\\EMB-DataWarehouse\\notebbooks\\..\\data\\photos\\lobelia4cosmetics_14733.jpg: 320x320 1 food-supliment, 1 formula-milk, 1 medicine, 47.1ms\n",
      "image 105/567 d:\\KMAI3\\EMB-DataWarehouse\\notebbooks\\..\\data\\photos\\lobelia4cosmetics_14734.jpg: 320x320 2 food-supliments, 46.2ms\n",
      "image 106/567 d:\\KMAI3\\EMB-DataWarehouse\\notebbooks\\..\\data\\photos\\lobelia4cosmetics_14735.jpg: 256x320 1 food-supliment, 1 formula-milk, 1 lotion-moisture, 1 medicine, 41.3ms\n",
      "image 107/567 d:\\KMAI3\\EMB-DataWarehouse\\notebbooks\\..\\data\\photos\\lobelia4cosmetics_14736.jpg: 320x320 1 food-package, 1 food-supliment, 39.3ms\n",
      "image 108/567 d:\\KMAI3\\EMB-DataWarehouse\\notebbooks\\..\\data\\photos\\lobelia4cosmetics_14737.jpg: 320x256 1 food-supliment, 1 formula-milk, 35.9ms\n",
      "image 109/567 d:\\KMAI3\\EMB-DataWarehouse\\notebbooks\\..\\data\\photos\\lobelia4cosmetics_14738.jpg: 320x320 1 cosmotic, 1 formula-milk, 45.0ms\n",
      "image 110/567 d:\\KMAI3\\EMB-DataWarehouse\\notebbooks\\..\\data\\photos\\lobelia4cosmetics_14739.jpg: 320x320 1 food-package, 57.1ms\n",
      "image 111/567 d:\\KMAI3\\EMB-DataWarehouse\\notebbooks\\..\\data\\photos\\lobelia4cosmetics_14740.jpg: 320x320 1 food-package, 54.7ms\n",
      "image 112/567 d:\\KMAI3\\EMB-DataWarehouse\\notebbooks\\..\\data\\photos\\lobelia4cosmetics_14741.jpg: 320x320 1 food-package, 44.1ms\n",
      "image 113/567 d:\\KMAI3\\EMB-DataWarehouse\\notebbooks\\..\\data\\photos\\lobelia4cosmetics_14742.jpg: 288x320 1 food-supliment, 33.8ms\n",
      "image 114/567 d:\\KMAI3\\EMB-DataWarehouse\\notebbooks\\..\\data\\photos\\lobelia4cosmetics_14743.jpg: 320x320 1 food-package, 1 formula-milk, 39.1ms\n",
      "image 115/567 d:\\KMAI3\\EMB-DataWarehouse\\notebbooks\\..\\data\\photos\\lobelia4cosmetics_14744.jpg: 320x320 1 food-package, 1 food-supliment, 38.6ms\n",
      "image 116/567 d:\\KMAI3\\EMB-DataWarehouse\\notebbooks\\..\\data\\photos\\lobelia4cosmetics_14745.jpg: 320x320 2 food-supliments, 58.0ms\n",
      "image 117/567 d:\\KMAI3\\EMB-DataWarehouse\\notebbooks\\..\\data\\photos\\lobelia4cosmetics_14746.jpg: 320x320 1 formula-milk, 55.4ms\n",
      "image 118/567 d:\\KMAI3\\EMB-DataWarehouse\\notebbooks\\..\\data\\photos\\lobelia4cosmetics_14747.jpg: 320x320 1 formula-milk, 1 mini-drop, 42.3ms\n",
      "image 119/567 d:\\KMAI3\\EMB-DataWarehouse\\notebbooks\\..\\data\\photos\\lobelia4cosmetics_14748.jpg: 320x320 1 food-supliment, 1 formula-milk, 85.6ms\n",
      "image 120/567 d:\\KMAI3\\EMB-DataWarehouse\\notebbooks\\..\\data\\photos\\lobelia4cosmetics_14749.jpg: 320x320 1 food-supliment, 1 medicine, 52.3ms\n",
      "image 121/567 d:\\KMAI3\\EMB-DataWarehouse\\notebbooks\\..\\data\\photos\\lobelia4cosmetics_14750.jpg: 320x320 1 food-supliment, 1 formula-milk, 42.4ms\n",
      "image 122/567 d:\\KMAI3\\EMB-DataWarehouse\\notebbooks\\..\\data\\photos\\lobelia4cosmetics_14751.jpg: 320x320 1 food-supliment, 1 formula-milk, 54.7ms\n",
      "image 123/567 d:\\KMAI3\\EMB-DataWarehouse\\notebbooks\\..\\data\\photos\\lobelia4cosmetics_14752.jpg: 288x320 3 formula-milks, 44.2ms\n",
      "image 124/567 d:\\KMAI3\\EMB-DataWarehouse\\notebbooks\\..\\data\\photos\\lobelia4cosmetics_14753.jpg: 320x320 1 formula-milk, 43.2ms\n",
      "image 125/567 d:\\KMAI3\\EMB-DataWarehouse\\notebbooks\\..\\data\\photos\\lobelia4cosmetics_14754.jpg: 288x320 3 formula-milks, 42.3ms\n",
      "image 126/567 d:\\KMAI3\\EMB-DataWarehouse\\notebbooks\\..\\data\\photos\\lobelia4cosmetics_14755.jpg: 320x320 1 food-supliment, 2 formula-milks, 47.4ms\n",
      "image 127/567 d:\\KMAI3\\EMB-DataWarehouse\\notebbooks\\..\\data\\photos\\lobelia4cosmetics_14756.jpg: 320x320 1 food-supliment, 1 formula-milk, 45.3ms\n",
      "image 128/567 d:\\KMAI3\\EMB-DataWarehouse\\notebbooks\\..\\data\\photos\\lobelia4cosmetics_14757.jpg: 320x320 1 food-supliment, 1 formula-milk, 52.5ms\n",
      "image 129/567 d:\\KMAI3\\EMB-DataWarehouse\\notebbooks\\..\\data\\photos\\lobelia4cosmetics_14758.jpg: 320x320 2 formula-milks, 56.2ms\n",
      "image 130/567 d:\\KMAI3\\EMB-DataWarehouse\\notebbooks\\..\\data\\photos\\lobelia4cosmetics_14759.jpg: 320x320 1 food-supliment, 1 formula-milk, 50.0ms\n",
      "image 131/567 d:\\KMAI3\\EMB-DataWarehouse\\notebbooks\\..\\data\\photos\\lobelia4cosmetics_14760.jpg: 320x320 1 food-supliment, 1 formula-milk, 1 medicine, 34.2ms\n",
      "image 132/567 d:\\KMAI3\\EMB-DataWarehouse\\notebbooks\\..\\data\\photos\\lobelia4cosmetics_14761.jpg: 320x320 1 food-supliment, 36.5ms\n",
      "image 133/567 d:\\KMAI3\\EMB-DataWarehouse\\notebbooks\\..\\data\\photos\\lobelia4cosmetics_14762.jpg: 320x256 1 food-supliment, 1 formula-milk, 34.4ms\n",
      "image 134/567 d:\\KMAI3\\EMB-DataWarehouse\\notebbooks\\..\\data\\photos\\lobelia4cosmetics_14763.jpg: 320x320 1 food-supliment, 1 formula-milk, 43.4ms\n",
      "image 135/567 d:\\KMAI3\\EMB-DataWarehouse\\notebbooks\\..\\data\\photos\\lobelia4cosmetics_14764.jpg: 320x320 1 food-supliment, 1 formula-milk, 45.2ms\n",
      "image 136/567 d:\\KMAI3\\EMB-DataWarehouse\\notebbooks\\..\\data\\photos\\lobelia4cosmetics_14765.jpg: 320x320 (no detections), 52.8ms\n",
      "image 137/567 d:\\KMAI3\\EMB-DataWarehouse\\notebbooks\\..\\data\\photos\\lobelia4cosmetics_14766.jpg: 320x288 2 formula-milks, 69.4ms\n",
      "image 138/567 d:\\KMAI3\\EMB-DataWarehouse\\notebbooks\\..\\data\\photos\\lobelia4cosmetics_14767.jpg: 320x320 1 formula-milk, 54.0ms\n",
      "image 139/567 d:\\KMAI3\\EMB-DataWarehouse\\notebbooks\\..\\data\\photos\\lobelia4cosmetics_14768.jpg: 320x320 1 food-supliment, 1 formula-milk, 43.5ms\n",
      "image 140/567 d:\\KMAI3\\EMB-DataWarehouse\\notebbooks\\..\\data\\photos\\lobelia4cosmetics_14769.jpg: 320x320 1 food-supliment, 56.6ms\n",
      "image 141/567 d:\\KMAI3\\EMB-DataWarehouse\\notebbooks\\..\\data\\photos\\lobelia4cosmetics_14770.jpg: 320x320 1 cosmotic, 1 food-supliment, 42.3ms\n",
      "image 142/567 d:\\KMAI3\\EMB-DataWarehouse\\notebbooks\\..\\data\\photos\\lobelia4cosmetics_14771.jpg: 320x320 2 food-supliments, 1 medicine, 57.9ms\n",
      "image 143/567 d:\\KMAI3\\EMB-DataWarehouse\\notebbooks\\..\\data\\photos\\lobelia4cosmetics_14772.jpg: 320x320 1 food-supliment, 45.8ms\n",
      "image 144/567 d:\\KMAI3\\EMB-DataWarehouse\\notebbooks\\..\\data\\photos\\lobelia4cosmetics_14773.jpg: 320x320 1 food-supliment, 54.4ms\n",
      "image 145/567 d:\\KMAI3\\EMB-DataWarehouse\\notebbooks\\..\\data\\photos\\lobelia4cosmetics_14774.jpg: 320x320 1 cosmotic, 1 food-supliment, 39.1ms\n",
      "image 146/567 d:\\KMAI3\\EMB-DataWarehouse\\notebbooks\\..\\data\\photos\\lobelia4cosmetics_14775.jpg: 320x320 1 food-supliment, 43.9ms\n",
      "image 147/567 d:\\KMAI3\\EMB-DataWarehouse\\notebbooks\\..\\data\\photos\\lobelia4cosmetics_14776.jpg: 320x320 1 food-supliment, 56.5ms\n",
      "image 148/567 d:\\KMAI3\\EMB-DataWarehouse\\notebbooks\\..\\data\\photos\\lobelia4cosmetics_14777.jpg: 288x320 3 formula-milks, 50.3ms\n",
      "image 149/567 d:\\KMAI3\\EMB-DataWarehouse\\notebbooks\\..\\data\\photos\\lobelia4cosmetics_14778.jpg: 320x320 1 formula-milk, 55.9ms\n",
      "image 150/567 d:\\KMAI3\\EMB-DataWarehouse\\notebbooks\\..\\data\\photos\\lobelia4cosmetics_14779.jpg: 288x320 3 formula-milks, 60.6ms\n",
      "image 151/567 d:\\KMAI3\\EMB-DataWarehouse\\notebbooks\\..\\data\\photos\\lobelia4cosmetics_14780.jpg: 320x320 1 food-supliment, 2 formula-milks, 68.5ms\n",
      "image 152/567 d:\\KMAI3\\EMB-DataWarehouse\\notebbooks\\..\\data\\photos\\lobelia4cosmetics_14781.jpg: 320x320 1 food-supliment, 1 formula-milk, 56.5ms\n",
      "image 153/567 d:\\KMAI3\\EMB-DataWarehouse\\notebbooks\\..\\data\\photos\\lobelia4cosmetics_14782.jpg: 320x320 1 food-supliment, 1 formula-milk, 53.6ms\n",
      "image 154/567 d:\\KMAI3\\EMB-DataWarehouse\\notebbooks\\..\\data\\photos\\lobelia4cosmetics_14783.jpg: 320x320 2 formula-milks, 53.5ms\n",
      "image 155/567 d:\\KMAI3\\EMB-DataWarehouse\\notebbooks\\..\\data\\photos\\lobelia4cosmetics_14784.jpg: 320x320 1 food-supliment, 1 formula-milk, 53.8ms\n",
      "image 156/567 d:\\KMAI3\\EMB-DataWarehouse\\notebbooks\\..\\data\\photos\\lobelia4cosmetics_14785.jpg: 320x320 1 food-supliment, 1 formula-milk, 1 medicine, 54.7ms\n",
      "image 157/567 d:\\KMAI3\\EMB-DataWarehouse\\notebbooks\\..\\data\\photos\\lobelia4cosmetics_14786.jpg: 320x320 1 food-supliment, 59.7ms\n",
      "image 158/567 d:\\KMAI3\\EMB-DataWarehouse\\notebbooks\\..\\data\\photos\\lobelia4cosmetics_14787.jpg: 320x256 1 food-supliment, 1 formula-milk, 56.0ms\n",
      "image 159/567 d:\\KMAI3\\EMB-DataWarehouse\\notebbooks\\..\\data\\photos\\lobelia4cosmetics_14788.jpg: 320x320 1 food-package, 62.3ms\n",
      "image 160/567 d:\\KMAI3\\EMB-DataWarehouse\\notebbooks\\..\\data\\photos\\lobelia4cosmetics_14789.jpg: 320x320 1 food-package, 1 food-supliment, 53.4ms\n",
      "image 161/567 d:\\KMAI3\\EMB-DataWarehouse\\notebbooks\\..\\data\\photos\\lobelia4cosmetics_14790.jpg: 320x320 2 food-supliments, 55.7ms\n",
      "image 162/567 d:\\KMAI3\\EMB-DataWarehouse\\notebbooks\\..\\data\\photos\\lobelia4cosmetics_14791.jpg: 320x320 1 food-supliment, 1 formula-milk, 55.9ms\n",
      "image 163/567 d:\\KMAI3\\EMB-DataWarehouse\\notebbooks\\..\\data\\photos\\lobelia4cosmetics_14792.jpg: 320x320 1 food-supliment, 1 medicine, 51.7ms\n",
      "image 164/567 d:\\KMAI3\\EMB-DataWarehouse\\notebbooks\\..\\data\\photos\\lobelia4cosmetics_14793.jpg: 320x320 1 food-supliment, 1 formula-milk, 55.8ms\n",
      "image 165/567 d:\\KMAI3\\EMB-DataWarehouse\\notebbooks\\..\\data\\photos\\lobelia4cosmetics_14794.jpg: 320x320 1 food-supliment, 1 formula-milk, 63.8ms\n",
      "image 166/567 d:\\KMAI3\\EMB-DataWarehouse\\notebbooks\\..\\data\\photos\\lobelia4cosmetics_14795.jpg: 320x256 1 food-supliment, 1 formula-milk, 51.8ms\n",
      "image 167/567 d:\\KMAI3\\EMB-DataWarehouse\\notebbooks\\..\\data\\photos\\lobelia4cosmetics_14796.jpg: 320x320 1 food-supliment, 1 formula-milk, 52.3ms\n",
      "image 168/567 d:\\KMAI3\\EMB-DataWarehouse\\notebbooks\\..\\data\\photos\\lobelia4cosmetics_14797.jpg: 320x320 1 food-supliment, 1 formula-milk, 63.3ms\n",
      "image 169/567 d:\\KMAI3\\EMB-DataWarehouse\\notebbooks\\..\\data\\photos\\lobelia4cosmetics_14798.jpg: 320x320 (no detections), 50.6ms\n",
      "image 170/567 d:\\KMAI3\\EMB-DataWarehouse\\notebbooks\\..\\data\\photos\\lobelia4cosmetics_14799.jpg: 320x288 2 formula-milks, 55.3ms\n",
      "image 171/567 d:\\KMAI3\\EMB-DataWarehouse\\notebbooks\\..\\data\\photos\\lobelia4cosmetics_14800.jpg: 320x320 1 formula-milk, 58.0ms\n",
      "image 172/567 d:\\KMAI3\\EMB-DataWarehouse\\notebbooks\\..\\data\\photos\\lobelia4cosmetics_14801.jpg: 320x320 1 food-supliment, 1 formula-milk, 57.5ms\n",
      "image 173/567 d:\\KMAI3\\EMB-DataWarehouse\\notebbooks\\..\\data\\photos\\lobelia4cosmetics_14802.jpg: 320x320 1 food-supliment, 68.9ms\n",
      "image 174/567 d:\\KMAI3\\EMB-DataWarehouse\\notebbooks\\..\\data\\photos\\lobelia4cosmetics_14803.jpg: 320x320 1 food-supliment, 56.8ms\n",
      "image 175/567 d:\\KMAI3\\EMB-DataWarehouse\\notebbooks\\..\\data\\photos\\lobelia4cosmetics_14804.jpg: 320x320 1 food-supliment, 57.6ms\n",
      "image 176/567 d:\\KMAI3\\EMB-DataWarehouse\\notebbooks\\..\\data\\photos\\lobelia4cosmetics_14805.jpg: 320x320 1 food-supliment, 67.0ms\n",
      "image 177/567 d:\\KMAI3\\EMB-DataWarehouse\\notebbooks\\..\\data\\photos\\lobelia4cosmetics_14806.jpg: 320x320 2 formula-milks, 62.5ms\n",
      "image 178/567 d:\\KMAI3\\EMB-DataWarehouse\\notebbooks\\..\\data\\photos\\lobelia4cosmetics_14807.jpg: 320x320 1 food-supliment, 1 formula-milk, 53.1ms\n",
      "image 179/567 d:\\KMAI3\\EMB-DataWarehouse\\notebbooks\\..\\data\\photos\\lobelia4cosmetics_14808.jpg: 256x320 1 food-supliment, 1 formula-milk, 1 lotion-moisture, 1 medicine, 71.1ms\n",
      "image 180/567 d:\\KMAI3\\EMB-DataWarehouse\\notebbooks\\..\\data\\photos\\lobelia4cosmetics_14809.jpg: 320x256 1 food-supliment, 1 formula-milk, 49.7ms\n",
      "image 181/567 d:\\KMAI3\\EMB-DataWarehouse\\notebbooks\\..\\data\\photos\\lobelia4cosmetics_14810.jpg: 320x320 1 cosmotic, 1 formula-milk, 58.4ms\n",
      "image 182/567 d:\\KMAI3\\EMB-DataWarehouse\\notebbooks\\..\\data\\photos\\lobelia4cosmetics_14811.jpg: 288x320 1 food-supliment, 59.9ms\n",
      "image 183/567 d:\\KMAI3\\EMB-DataWarehouse\\notebbooks\\..\\data\\photos\\lobelia4cosmetics_14812.jpg: 320x320 1 food-package, 1 formula-milk, 62.5ms\n",
      "image 184/567 d:\\KMAI3\\EMB-DataWarehouse\\notebbooks\\..\\data\\photos\\lobelia4cosmetics_14813.jpg: 320x320 1 food-package, 1 food-supliment, 77.4ms\n",
      "image 185/567 d:\\KMAI3\\EMB-DataWarehouse\\notebbooks\\..\\data\\photos\\lobelia4cosmetics_14814.jpg: 320x320 2 food-supliments, 52.9ms\n",
      "image 186/567 d:\\KMAI3\\EMB-DataWarehouse\\notebbooks\\..\\data\\photos\\lobelia4cosmetics_14815.jpg: 288x320 3 formula-milks, 53.9ms\n",
      "image 187/567 d:\\KMAI3\\EMB-DataWarehouse\\notebbooks\\..\\data\\photos\\lobelia4cosmetics_14816.jpg: 320x320 1 formula-milk, 71.2ms\n",
      "image 188/567 d:\\KMAI3\\EMB-DataWarehouse\\notebbooks\\..\\data\\photos\\lobelia4cosmetics_14817.jpg: 320x320 1 food-supliment, 1 formula-milk, 54.2ms\n",
      "image 189/567 d:\\KMAI3\\EMB-DataWarehouse\\notebbooks\\..\\data\\photos\\lobelia4cosmetics_14818.jpg: 320x320 1 food-supliment, 1 formula-milk, 58.5ms\n",
      "image 190/567 d:\\KMAI3\\EMB-DataWarehouse\\notebbooks\\..\\data\\photos\\lobelia4cosmetics_14819.jpg: 320x320 2 formula-milks, 66.3ms\n",
      "image 191/567 d:\\KMAI3\\EMB-DataWarehouse\\notebbooks\\..\\data\\photos\\lobelia4cosmetics_14820.jpg: 320x320 1 food-supliment, 1 formula-milk, 51.2ms\n",
      "image 192/567 d:\\KMAI3\\EMB-DataWarehouse\\notebbooks\\..\\data\\photos\\lobelia4cosmetics_14821.jpg: 320x320 1 food-supliment, 1 formula-milk, 1 medicine, 53.2ms\n",
      "image 193/567 d:\\KMAI3\\EMB-DataWarehouse\\notebbooks\\..\\data\\photos\\lobelia4cosmetics_14822.jpg: 320x320 1 food-supliment, 1 formula-milk, 55.5ms\n",
      "image 194/567 d:\\KMAI3\\EMB-DataWarehouse\\notebbooks\\..\\data\\photos\\lobelia4cosmetics_14823.jpg: 320x320 1 food-supliment, 1 medicine, 65.1ms\n",
      "image 195/567 d:\\KMAI3\\EMB-DataWarehouse\\notebbooks\\..\\data\\photos\\lobelia4cosmetics_14824.jpg: 320x256 1 food-supliment, 1 formula-milk, 53.8ms\n",
      "image 196/567 d:\\KMAI3\\EMB-DataWarehouse\\notebbooks\\..\\data\\photos\\lobelia4cosmetics_14825.jpg: 320x320 1 cosmotic, 1 formula-milk, 51.7ms\n",
      "image 197/567 d:\\KMAI3\\EMB-DataWarehouse\\notebbooks\\..\\data\\photos\\lobelia4cosmetics_14826.jpg: 320x320 1 food-supliment, 50.8ms\n",
      "image 198/567 d:\\KMAI3\\EMB-DataWarehouse\\notebbooks\\..\\data\\photos\\lobelia4cosmetics_14827.jpg: 320x320 1 food-supliment, 61.7ms\n",
      "image 199/567 d:\\KMAI3\\EMB-DataWarehouse\\notebbooks\\..\\data\\photos\\lobelia4cosmetics_14828.jpg: 320x320 1 food-supliment, 59.5ms\n",
      "image 200/567 d:\\KMAI3\\EMB-DataWarehouse\\notebbooks\\..\\data\\photos\\lobelia4cosmetics_14829.jpg: 320x320 1 food-supliment, 63.9ms\n",
      "image 201/567 d:\\KMAI3\\EMB-DataWarehouse\\notebbooks\\..\\data\\photos\\lobelia4cosmetics_14830.jpg: 320x320 1 food-supliment, 58.9ms\n",
      "image 202/567 d:\\KMAI3\\EMB-DataWarehouse\\notebbooks\\..\\data\\photos\\lobelia4cosmetics_14831.jpg: 320x320 1 medicine, 57.4ms\n",
      "image 203/567 d:\\KMAI3\\EMB-DataWarehouse\\notebbooks\\..\\data\\photos\\lobelia4cosmetics_14832.jpg: 320x320 1 medicine, 62.3ms\n",
      "image 204/567 d:\\KMAI3\\EMB-DataWarehouse\\notebbooks\\..\\data\\photos\\lobelia4cosmetics_14833.jpg: 320x320 1 medicine, 112.0ms\n",
      "image 205/567 d:\\KMAI3\\EMB-DataWarehouse\\notebbooks\\..\\data\\photos\\lobelia4cosmetics_14834.jpg: 320x320 1 food-supliment, 1 medicine, 73.5ms\n",
      "image 206/567 d:\\KMAI3\\EMB-DataWarehouse\\notebbooks\\..\\data\\photos\\lobelia4cosmetics_14835.jpg: 320x320 1 food-supliment, 1 formula-milk, 64.4ms\n",
      "image 207/567 d:\\KMAI3\\EMB-DataWarehouse\\notebbooks\\..\\data\\photos\\lobelia4cosmetics_14836.jpg: 320x320 2 cosmotics, 56.2ms\n",
      "image 208/567 d:\\KMAI3\\EMB-DataWarehouse\\notebbooks\\..\\data\\photos\\lobelia4cosmetics_14837.jpg: 256x320 1 food-supliment, 1 formula-milk, 1 lotion-moisture, 1 medicine, 54.4ms\n",
      "image 209/567 d:\\KMAI3\\EMB-DataWarehouse\\notebbooks\\..\\data\\photos\\lobelia4cosmetics_14838.jpg: 320x320 1 cosmotic, 1 food-supliment, 1 formula-milk, 52.7ms\n",
      "image 210/567 d:\\KMAI3\\EMB-DataWarehouse\\notebbooks\\..\\data\\photos\\lobelia4cosmetics_14839.jpg: 320x320 (no detections), 53.2ms\n",
      "image 211/567 d:\\KMAI3\\EMB-DataWarehouse\\notebbooks\\..\\data\\photos\\lobelia4cosmetics_14840.jpg: 320x320 2 cosmotics, 1 food-supliment, 49.8ms\n",
      "image 212/567 d:\\KMAI3\\EMB-DataWarehouse\\notebbooks\\..\\data\\photos\\lobelia4cosmetics_14841.jpg: 320x320 1 medicine, 1 mini-drop, 75.7ms\n",
      "image 213/567 d:\\KMAI3\\EMB-DataWarehouse\\notebbooks\\..\\data\\photos\\lobelia4cosmetics_14842.jpg: 320x224 1 mini-drop, 76.0ms\n",
      "image 214/567 d:\\KMAI3\\EMB-DataWarehouse\\notebbooks\\..\\data\\photos\\lobelia4cosmetics_14843.jpg: 320x320 1 food-supliment, 67.1ms\n",
      "image 215/567 d:\\KMAI3\\EMB-DataWarehouse\\notebbooks\\..\\data\\photos\\lobelia4cosmetics_14844.jpg: 320x320 1 cosmotic, 1 mini-drop, 55.0ms\n",
      "image 216/567 d:\\KMAI3\\EMB-DataWarehouse\\notebbooks\\..\\data\\photos\\lobelia4cosmetics_14845.jpg: 320x320 1 food-supliment, 1 mini-drop, 39.8ms\n",
      "image 217/567 d:\\KMAI3\\EMB-DataWarehouse\\notebbooks\\..\\data\\photos\\lobelia4cosmetics_14846.jpg: 320x320 1 cosmotic, 1 formula-milk, 46.5ms\n",
      "image 218/567 d:\\KMAI3\\EMB-DataWarehouse\\notebbooks\\..\\data\\photos\\lobelia4cosmetics_14847.jpg: 320x320 1 food-supliment, 2 medicines, 1 mini-drop, 48.8ms\n",
      "image 219/567 d:\\KMAI3\\EMB-DataWarehouse\\notebbooks\\..\\data\\photos\\lobelia4cosmetics_14848.jpg: 320x320 1 food-supliment, 1 formula-milk, 58.1ms\n",
      "image 220/567 d:\\KMAI3\\EMB-DataWarehouse\\notebbooks\\..\\data\\photos\\lobelia4cosmetics_14849.jpg: 288x320 3 formula-milks, 52.2ms\n",
      "image 221/567 d:\\KMAI3\\EMB-DataWarehouse\\notebbooks\\..\\data\\photos\\lobelia4cosmetics_14850.jpg: 288x320 3 formula-milks, 43.3ms\n",
      "image 222/567 d:\\KMAI3\\EMB-DataWarehouse\\notebbooks\\..\\data\\photos\\lobelia4cosmetics_14851.jpg: 320x320 1 food-supliment, 2 formula-milks, 48.2ms\n",
      "image 223/567 d:\\KMAI3\\EMB-DataWarehouse\\notebbooks\\..\\data\\photos\\lobelia4cosmetics_14852.jpg: 320x320 1 food-supliment, 1 formula-milk, 46.0ms\n",
      "image 224/567 d:\\KMAI3\\EMB-DataWarehouse\\notebbooks\\..\\data\\photos\\lobelia4cosmetics_14853.jpg: 320x320 2 cosmotics, 55.3ms\n",
      "image 225/567 d:\\KMAI3\\EMB-DataWarehouse\\notebbooks\\..\\data\\photos\\lobelia4cosmetics_14854.jpg: 320x320 1 food-supliment, 48.7ms\n",
      "image 226/567 d:\\KMAI3\\EMB-DataWarehouse\\notebbooks\\..\\data\\photos\\lobelia4cosmetics_14855.jpg: 320x320 1 food-supliment, 55.5ms\n",
      "image 227/567 d:\\KMAI3\\EMB-DataWarehouse\\notebbooks\\..\\data\\photos\\lobelia4cosmetics_14856.jpg: 320x320 1 food-supliment, 44.4ms\n",
      "image 228/567 d:\\KMAI3\\EMB-DataWarehouse\\notebbooks\\..\\data\\photos\\lobelia4cosmetics_14857.jpg: 320x320 1 food-supliment, 50.2ms\n",
      "image 229/567 d:\\KMAI3\\EMB-DataWarehouse\\notebbooks\\..\\data\\photos\\lobelia4cosmetics_14858.jpg: 320x320 1 food-supliment, 1 formula-milk, 41.5ms\n",
      "image 230/567 d:\\KMAI3\\EMB-DataWarehouse\\notebbooks\\..\\data\\photos\\lobelia4cosmetics_14859.jpg: 320x320 1 food-supliment, 41.2ms\n",
      "image 231/567 d:\\KMAI3\\EMB-DataWarehouse\\notebbooks\\..\\data\\photos\\lobelia4cosmetics_14860.jpg: 320x320 1 food-supliment, 1 formula-milk, 1 medicine, 57.7ms\n",
      "image 232/567 d:\\KMAI3\\EMB-DataWarehouse\\notebbooks\\..\\data\\photos\\lobelia4cosmetics_14861.jpg: 320x320 2 food-supliments, 42.6ms\n",
      "image 233/567 d:\\KMAI3\\EMB-DataWarehouse\\notebbooks\\..\\data\\photos\\lobelia4cosmetics_14862.jpg: 256x320 1 food-supliment, 1 formula-milk, 1 lotion-moisture, 1 medicine, 41.8ms\n",
      "image 234/567 d:\\KMAI3\\EMB-DataWarehouse\\notebbooks\\..\\data\\photos\\lobelia4cosmetics_14863.jpg: 320x320 1 food-package, 1 food-supliment, 36.8ms\n",
      "image 235/567 d:\\KMAI3\\EMB-DataWarehouse\\notebbooks\\..\\data\\photos\\lobelia4cosmetics_14864.jpg: 320x256 1 food-supliment, 1 formula-milk, 69.5ms\n",
      "image 236/567 d:\\KMAI3\\EMB-DataWarehouse\\notebbooks\\..\\data\\photos\\lobelia4cosmetics_14865.jpg: 320x320 1 cosmotic, 1 formula-milk, 44.4ms\n",
      "image 237/567 d:\\KMAI3\\EMB-DataWarehouse\\notebbooks\\..\\data\\photos\\lobelia4cosmetics_14866.jpg: 288x320 1 food-supliment, 52.8ms\n",
      "image 238/567 d:\\KMAI3\\EMB-DataWarehouse\\notebbooks\\..\\data\\photos\\lobelia4cosmetics_14867.jpg: 320x320 1 food-supliment, 1 formula-milk, 43.1ms\n",
      "image 239/567 d:\\KMAI3\\EMB-DataWarehouse\\notebbooks\\..\\data\\photos\\lobelia4cosmetics_14868.jpg: 320x320 2 formula-milks, 56.5ms\n",
      "image 240/567 d:\\KMAI3\\EMB-DataWarehouse\\notebbooks\\..\\data\\photos\\lobelia4cosmetics_14869.jpg: 320x320 1 food-supliment, 1 formula-milk, 55.2ms\n",
      "image 241/567 d:\\KMAI3\\EMB-DataWarehouse\\notebbooks\\..\\data\\photos\\lobelia4cosmetics_14870.jpg: 320x320 1 food-supliment, 1 formula-milk, 1 medicine, 36.8ms\n",
      "image 242/567 d:\\KMAI3\\EMB-DataWarehouse\\notebbooks\\..\\data\\photos\\lobelia4cosmetics_14871.jpg: 320x320 1 food-supliment, 51.5ms\n",
      "image 243/567 d:\\KMAI3\\EMB-DataWarehouse\\notebbooks\\..\\data\\photos\\lobelia4cosmetics_14872.jpg: 320x256 1 food-supliment, 1 formula-milk, 50.9ms\n",
      "image 244/567 d:\\KMAI3\\EMB-DataWarehouse\\notebbooks\\..\\data\\photos\\lobelia4cosmetics_14873.jpg: 320x320 1 food-supliment, 1 formula-milk, 42.5ms\n",
      "image 245/567 d:\\KMAI3\\EMB-DataWarehouse\\notebbooks\\..\\data\\photos\\lobelia4cosmetics_14874.jpg: 320x320 1 food-supliment, 1 formula-milk, 67.2ms\n",
      "image 246/567 d:\\KMAI3\\EMB-DataWarehouse\\notebbooks\\..\\data\\photos\\lobelia4cosmetics_14875.jpg: 320x320 (no detections), 53.7ms\n",
      "image 247/567 d:\\KMAI3\\EMB-DataWarehouse\\notebbooks\\..\\data\\photos\\lobelia4cosmetics_14876.jpg: 320x288 2 formula-milks, 42.1ms\n",
      "image 248/567 d:\\KMAI3\\EMB-DataWarehouse\\notebbooks\\..\\data\\photos\\lobelia4cosmetics_14877.jpg: 320x320 1 food-supliment, 1 formula-milk, 44.6ms\n",
      "image 249/567 d:\\KMAI3\\EMB-DataWarehouse\\notebbooks\\..\\data\\photos\\lobelia4cosmetics_14878.jpg: 320x320 1 food-supliment, 1 medicine, 56.6ms\n",
      "image 250/567 d:\\KMAI3\\EMB-DataWarehouse\\notebbooks\\..\\data\\photos\\lobelia4cosmetics_14879.jpg: 320x320 1 food-package, 1 formula-milk, 55.2ms\n",
      "image 251/567 d:\\KMAI3\\EMB-DataWarehouse\\notebbooks\\..\\data\\photos\\lobelia4cosmetics_14880.jpg: 320x320 1 food-supliment, 1 medicine, 44.8ms\n",
      "image 252/567 d:\\KMAI3\\EMB-DataWarehouse\\notebbooks\\..\\data\\photos\\lobelia4cosmetics_14881.jpg: 320x320 1 food-supliment, 43.7ms\n",
      "image 253/567 d:\\KMAI3\\EMB-DataWarehouse\\notebbooks\\..\\data\\photos\\lobelia4cosmetics_14882.jpg: 320x320 1 food-supliment, 43.4ms\n",
      "image 254/567 d:\\KMAI3\\EMB-DataWarehouse\\notebbooks\\..\\data\\photos\\lobelia4cosmetics_14883.jpg: 320x320 1 food-supliment, 50.3ms\n",
      "image 255/567 d:\\KMAI3\\EMB-DataWarehouse\\notebbooks\\..\\data\\photos\\lobelia4cosmetics_14884.jpg: 320x320 1 food-supliment, 39.0ms\n",
      "image 256/567 d:\\KMAI3\\EMB-DataWarehouse\\notebbooks\\..\\data\\photos\\lobelia4cosmetics_14885.jpg: 320x320 1 food-supliment, 34.2ms\n",
      "image 257/567 d:\\KMAI3\\EMB-DataWarehouse\\notebbooks\\..\\data\\photos\\lobelia4cosmetics_14886.jpg: 320x320 1 food-supliment, 44.0ms\n",
      "image 258/567 d:\\KMAI3\\EMB-DataWarehouse\\notebbooks\\..\\data\\photos\\lobelia4cosmetics_14887.jpg: 320x320 2 food-supliments, 1 medicine, 51.9ms\n",
      "image 259/567 d:\\KMAI3\\EMB-DataWarehouse\\notebbooks\\..\\data\\photos\\lobelia4cosmetics_14888.jpg: 320x320 1 food-supliment, 39.1ms\n",
      "image 260/567 d:\\KMAI3\\EMB-DataWarehouse\\notebbooks\\..\\data\\photos\\lobelia4cosmetics_14889.jpg: 320x320 1 food-supliment, 50.9ms\n",
      "image 261/567 d:\\KMAI3\\EMB-DataWarehouse\\notebbooks\\..\\data\\photos\\lobelia4cosmetics_14890.jpg: 320x320 1 food-supliment, 52.6ms\n",
      "image 262/567 d:\\KMAI3\\EMB-DataWarehouse\\notebbooks\\..\\data\\photos\\lobelia4cosmetics_14891.jpg: 320x320 1 food-supliment, 1 medicine, 42.6ms\n",
      "image 263/567 d:\\KMAI3\\EMB-DataWarehouse\\notebbooks\\..\\data\\photos\\lobelia4cosmetics_14892.jpg: 320x320 1 food-supliment, 1 formula-milk, 54.0ms\n",
      "image 264/567 d:\\KMAI3\\EMB-DataWarehouse\\notebbooks\\..\\data\\photos\\lobelia4cosmetics_14893.jpg: 320x320 2 food-supliments, 52.7ms\n",
      "image 265/567 d:\\KMAI3\\EMB-DataWarehouse\\notebbooks\\..\\data\\photos\\lobelia4cosmetics_14894.jpg: 320x320 1 cosmotic, 2 food-supliments, 1 medicine, 47.9ms\n",
      "image 266/567 d:\\KMAI3\\EMB-DataWarehouse\\notebbooks\\..\\data\\photos\\lobelia4cosmetics_14895.jpg: 320x320 1 food-package, 1 formula-milk, 47.0ms\n",
      "image 267/567 d:\\KMAI3\\EMB-DataWarehouse\\notebbooks\\..\\data\\photos\\lobelia4cosmetics_14896.jpg: 320x320 1 cosmotic, 1 food-supliment, 1 formula-milk, 38.8ms\n",
      "image 268/567 d:\\KMAI3\\EMB-DataWarehouse\\notebbooks\\..\\data\\photos\\lobelia4cosmetics_14897.jpg: 320x320 1 food-supliment, 56.7ms\n",
      "image 269/567 d:\\KMAI3\\EMB-DataWarehouse\\notebbooks\\..\\data\\photos\\lobelia4cosmetics_14898.jpg: 320x320 1 food-supliment, 1 formula-milk, 53.9ms\n",
      "image 270/567 d:\\KMAI3\\EMB-DataWarehouse\\notebbooks\\..\\data\\photos\\lobelia4cosmetics_14899.jpg: 320x320 1 food-package, 1 food-supliment, 52.9ms\n",
      "image 271/567 d:\\KMAI3\\EMB-DataWarehouse\\notebbooks\\..\\data\\photos\\lobelia4cosmetics_14900.jpg: 320x320 2 food-supliments, 40.5ms\n",
      "image 272/567 d:\\KMAI3\\EMB-DataWarehouse\\notebbooks\\..\\data\\photos\\lobelia4cosmetics_14901.jpg: 320x320 1 formula-milk, 56.9ms\n",
      "image 273/567 d:\\KMAI3\\EMB-DataWarehouse\\notebbooks\\..\\data\\photos\\lobelia4cosmetics_14902.jpg: 320x320 1 formula-milk, 1 mini-drop, 52.6ms\n",
      "image 274/567 d:\\KMAI3\\EMB-DataWarehouse\\notebbooks\\..\\data\\photos\\lobelia4cosmetics_14903.jpg: 320x320 1 food-supliment, 1 formula-milk, 40.2ms\n",
      "image 275/567 d:\\KMAI3\\EMB-DataWarehouse\\notebbooks\\..\\data\\photos\\lobelia4cosmetics_14904.jpg: 320x320 1 food-supliment, 1 formula-milk, 53.6ms\n",
      "image 276/567 d:\\KMAI3\\EMB-DataWarehouse\\notebbooks\\..\\data\\photos\\lobelia4cosmetics_14905.jpg: 320x320 1 food-supliment, 1 formula-milk, 44.4ms\n",
      "image 277/567 d:\\KMAI3\\EMB-DataWarehouse\\notebbooks\\..\\data\\photos\\lobelia4cosmetics_14906.jpg: 320x320 (no detections), 40.1ms\n",
      "image 278/567 d:\\KMAI3\\EMB-DataWarehouse\\notebbooks\\..\\data\\photos\\lobelia4cosmetics_14907.jpg: 320x320 2 food-supliments, 1 medicine, 43.9ms\n",
      "image 279/567 d:\\KMAI3\\EMB-DataWarehouse\\notebbooks\\..\\data\\photos\\lobelia4cosmetics_14908.jpg: 320x320 1 food-supliment, 49.9ms\n",
      "image 280/567 d:\\KMAI3\\EMB-DataWarehouse\\notebbooks\\..\\data\\photos\\lobelia4cosmetics_14909.jpg: 320x320 1 food-supliment, 52.4ms\n",
      "image 281/567 d:\\KMAI3\\EMB-DataWarehouse\\notebbooks\\..\\data\\photos\\lobelia4cosmetics_14910.jpg: 320x320 1 food-package, 1 formula-milk, 54.6ms\n",
      "image 282/567 d:\\KMAI3\\EMB-DataWarehouse\\notebbooks\\..\\data\\photos\\lobelia4cosmetics_14911.jpg: 320x320 1 food-package, 1 medicine, 45.5ms\n",
      "image 283/567 d:\\KMAI3\\EMB-DataWarehouse\\notebbooks\\..\\data\\photos\\lobelia4cosmetics_14912.jpg: 320x320 1 food-supliment, 50.7ms\n",
      "image 284/567 d:\\KMAI3\\EMB-DataWarehouse\\notebbooks\\..\\data\\photos\\lobelia4cosmetics_14913.jpg: 320x320 1 food-supliment, 1 formula-milk, 51.8ms\n",
      "image 285/567 d:\\KMAI3\\EMB-DataWarehouse\\notebbooks\\..\\data\\photos\\lobelia4cosmetics_14914.jpg: 320x320 1 cosmotic, 1 food-supliment, 1 medicine, 40.6ms\n",
      "image 286/567 d:\\KMAI3\\EMB-DataWarehouse\\notebbooks\\..\\data\\photos\\lobelia4cosmetics_14915.jpg: 256x320 2 medicines, 53.3ms\n",
      "image 287/567 d:\\KMAI3\\EMB-DataWarehouse\\notebbooks\\..\\data\\photos\\lobelia4cosmetics_14916.jpg: 320x320 1 food-supliment, 1 medicine, 59.5ms\n",
      "image 288/567 d:\\KMAI3\\EMB-DataWarehouse\\notebbooks\\..\\data\\photos\\lobelia4cosmetics_14917.jpg: 320x224 1 food-supliment, 1 formula-milk, 33.6ms\n",
      "image 289/567 d:\\KMAI3\\EMB-DataWarehouse\\notebbooks\\..\\data\\photos\\lobelia4cosmetics_14918.jpg: 320x320 1 food-supliment, 1 medicine, 58.8ms\n",
      "image 290/567 d:\\KMAI3\\EMB-DataWarehouse\\notebbooks\\..\\data\\photos\\lobelia4cosmetics_14919.jpg: 320x320 1 food-supliment, 1 medicine, 48.2ms\n",
      "image 291/567 d:\\KMAI3\\EMB-DataWarehouse\\notebbooks\\..\\data\\photos\\lobelia4cosmetics_14920.jpg: 320x320 1 cosmotic, 1 food-supliment, 44.8ms\n",
      "image 292/567 d:\\KMAI3\\EMB-DataWarehouse\\notebbooks\\..\\data\\photos\\lobelia4cosmetics_14921.jpg: 320x320 1 medicine, 52.8ms\n",
      "image 293/567 d:\\KMAI3\\EMB-DataWarehouse\\notebbooks\\..\\data\\photos\\lobelia4cosmetics_14922.jpg: 320x224 1 formula-milk, 39.3ms\n",
      "image 294/567 d:\\KMAI3\\EMB-DataWarehouse\\notebbooks\\..\\data\\photos\\lobelia4cosmetics_14923.jpg: 288x320 1 food-supliment, 37.6ms\n",
      "image 295/567 d:\\KMAI3\\EMB-DataWarehouse\\notebbooks\\..\\data\\photos\\lobelia4cosmetics_14924.jpg: 320x320 1 cosmotic, 1 formula-milk, 44.4ms\n",
      "image 296/567 d:\\KMAI3\\EMB-DataWarehouse\\notebbooks\\..\\data\\photos\\lobelia4cosmetics_14925.jpg: 320x320 1 food-supliment, 1 formula-milk, 42.5ms\n",
      "image 297/567 d:\\KMAI3\\EMB-DataWarehouse\\notebbooks\\..\\data\\photos\\lobelia4cosmetics_14926.jpg: 320x320 2 food-supliments, 52.7ms\n",
      "image 298/567 d:\\KMAI3\\EMB-DataWarehouse\\notebbooks\\..\\data\\photos\\lobelia4cosmetics_14927.jpg: 320x320 1 cosmotic, 1 food-supliment, 1 formula-milk, 46.0ms\n",
      "image 299/567 d:\\KMAI3\\EMB-DataWarehouse\\notebbooks\\..\\data\\photos\\lobelia4cosmetics_14928.jpg: 320x320 1 food-supliment, 47.6ms\n",
      "image 300/567 d:\\KMAI3\\EMB-DataWarehouse\\notebbooks\\..\\data\\photos\\lobelia4cosmetics_14929.jpg: 320x320 1 food-supliment, 1 medicine, 1 mini-drop, 44.8ms\n",
      "image 301/567 d:\\KMAI3\\EMB-DataWarehouse\\notebbooks\\..\\data\\photos\\lobelia4cosmetics_14930.jpg: 320x320 1 food-supliment, 40.7ms\n",
      "image 302/567 d:\\KMAI3\\EMB-DataWarehouse\\notebbooks\\..\\data\\photos\\lobelia4cosmetics_14931.jpg: 320x320 1 food-supliment, 1 formula-milk, 1 medicine, 54.2ms\n",
      "image 303/567 d:\\KMAI3\\EMB-DataWarehouse\\notebbooks\\..\\data\\photos\\lobelia4cosmetics_14932.jpg: 320x320 1 food-supliment, 1 medicine, 40.5ms\n",
      "image 304/567 d:\\KMAI3\\EMB-DataWarehouse\\notebbooks\\..\\data\\photos\\lobelia4cosmetics_14933.jpg: 320x320 1 food-supliment, 40.3ms\n",
      "image 305/567 d:\\KMAI3\\EMB-DataWarehouse\\notebbooks\\..\\data\\photos\\lobelia4cosmetics_14934.jpg: 320x320 1 food-supliment, 1 formula-milk, 43.0ms\n",
      "image 306/567 d:\\KMAI3\\EMB-DataWarehouse\\notebbooks\\..\\data\\photos\\lobelia4cosmetics_14935.jpg: 320x320 2 cosmotics, 43.6ms\n",
      "image 307/567 d:\\KMAI3\\EMB-DataWarehouse\\notebbooks\\..\\data\\photos\\lobelia4cosmetics_14936.jpg: 320x320 2 food-supliments, 1 medicine, 54.7ms\n",
      "image 308/567 d:\\KMAI3\\EMB-DataWarehouse\\notebbooks\\..\\data\\photos\\lobelia4cosmetics_14937.jpg: 320x320 1 food-supliment, 51.1ms\n",
      "image 309/567 d:\\KMAI3\\EMB-DataWarehouse\\notebbooks\\..\\data\\photos\\lobelia4cosmetics_14938.jpg: 320x256 1 food-supliment, 1 formula-milk, 34.1ms\n",
      "image 310/567 d:\\KMAI3\\EMB-DataWarehouse\\notebbooks\\..\\data\\photos\\lobelia4cosmetics_14939.jpg: 320x320 1 food-supliment, 1 formula-milk, 57.4ms\n",
      "image 311/567 d:\\KMAI3\\EMB-DataWarehouse\\notebbooks\\..\\data\\photos\\lobelia4cosmetics_14940.jpg: 320x320 1 food-supliment, 1 formula-milk, 49.6ms\n",
      "image 312/567 d:\\KMAI3\\EMB-DataWarehouse\\notebbooks\\..\\data\\photos\\lobelia4cosmetics_14941.jpg: 256x320 1 food-supliment, 1 medicine, 35.8ms\n",
      "image 313/567 d:\\KMAI3\\EMB-DataWarehouse\\notebbooks\\..\\data\\photos\\lobelia4cosmetics_14942.jpg: 320x320 1 medicine, 1 mini-drop, 46.4ms\n",
      "image 314/567 d:\\KMAI3\\EMB-DataWarehouse\\notebbooks\\..\\data\\photos\\lobelia4cosmetics_14943.jpg: 320x320 1 food-supliment, 1 mini-drop, 52.5ms\n",
      "image 315/567 d:\\KMAI3\\EMB-DataWarehouse\\notebbooks\\..\\data\\photos\\lobelia4cosmetics_14944.jpg: 320x320 1 food-supliment, 1 formula-milk, 56.4ms\n",
      "image 316/567 d:\\KMAI3\\EMB-DataWarehouse\\notebbooks\\..\\data\\photos\\lobelia4cosmetics_14945.jpg: 320x320 (no detections), 49.3ms\n",
      "image 317/567 d:\\KMAI3\\EMB-DataWarehouse\\notebbooks\\..\\data\\photos\\lobelia4cosmetics_14946.jpg: 320x320 1 food-supliment, 56.9ms\n",
      "image 318/567 d:\\KMAI3\\EMB-DataWarehouse\\notebbooks\\..\\data\\photos\\lobelia4cosmetics_14947.jpg: 320x320 1 food-supliment, 1 formula-milk, 45.1ms\n",
      "image 319/567 d:\\KMAI3\\EMB-DataWarehouse\\notebbooks\\..\\data\\photos\\lobelia4cosmetics_14948.jpg: 320x320 2 formula-milks, 38.1ms\n",
      "image 320/567 d:\\KMAI3\\EMB-DataWarehouse\\notebbooks\\..\\data\\photos\\lobelia4cosmetics_14949.jpg: 320x320 1 food-supliment, 1 formula-milk, 54.8ms\n",
      "image 321/567 d:\\KMAI3\\EMB-DataWarehouse\\notebbooks\\..\\data\\photos\\lobelia4cosmetics_14950.jpg: 320x320 1 food-supliment, 1 formula-milk, 44.1ms\n",
      "image 322/567 d:\\KMAI3\\EMB-DataWarehouse\\notebbooks\\..\\data\\photos\\lobelia4cosmetics_14951.jpg: 320x320 1 food-supliment, 1 formula-milk, 69.9ms\n",
      "image 323/567 d:\\KMAI3\\EMB-DataWarehouse\\notebbooks\\..\\data\\photos\\lobelia4cosmetics_14952.jpg: 320x320 1 food-supliment, 1 formula-milk, 68.8ms\n",
      "image 324/567 d:\\KMAI3\\EMB-DataWarehouse\\notebbooks\\..\\data\\photos\\lobelia4cosmetics_14953.jpg: 320x320 1 food-supliment, 45.0ms\n",
      "image 325/567 d:\\KMAI3\\EMB-DataWarehouse\\notebbooks\\..\\data\\photos\\lobelia4cosmetics_14954.jpg: 320x320 1 food-supliment, 1 formula-milk, 51.0ms\n",
      "image 326/567 d:\\KMAI3\\EMB-DataWarehouse\\notebbooks\\..\\data\\photos\\lobelia4cosmetics_14955.jpg: 320x320 2 food-supliments, 1 medicine, 40.7ms\n",
      "image 327/567 d:\\KMAI3\\EMB-DataWarehouse\\notebbooks\\..\\data\\photos\\lobelia4cosmetics_14956.jpg: 320x320 1 food-supliment, 61.5ms\n",
      "image 328/567 d:\\KMAI3\\EMB-DataWarehouse\\notebbooks\\..\\data\\photos\\lobelia4cosmetics_14957.jpg: 256x320 1 food-supliment, 1 medicine, 42.0ms\n",
      "image 329/567 d:\\KMAI3\\EMB-DataWarehouse\\notebbooks\\..\\data\\photos\\lobelia4cosmetics_14958.jpg: 320x320 1 food-supliment, 1 medicine, 42.7ms\n",
      "image 330/567 d:\\KMAI3\\EMB-DataWarehouse\\notebbooks\\..\\data\\photos\\lobelia4cosmetics_14959.jpg: 320x256 1 food-supliment, 1 formula-milk, 38.7ms\n",
      "image 331/567 d:\\KMAI3\\EMB-DataWarehouse\\notebbooks\\..\\data\\photos\\lobelia4cosmetics_14960.jpg: 320x320 1 cosmotic, 1 formula-milk, 38.4ms\n",
      "image 332/567 d:\\KMAI3\\EMB-DataWarehouse\\notebbooks\\..\\data\\photos\\lobelia4cosmetics_14961.jpg: 320x320 1 food-supliment, 62.8ms\n",
      "image 333/567 d:\\KMAI3\\EMB-DataWarehouse\\notebbooks\\..\\data\\photos\\lobelia4cosmetics_14962.jpg: 320x320 1 food-supliment, 43.4ms\n",
      "image 334/567 d:\\KMAI3\\EMB-DataWarehouse\\notebbooks\\..\\data\\photos\\lobelia4cosmetics_14963.jpg: 320x320 1 food-supliment, 66.6ms\n",
      "image 335/567 d:\\KMAI3\\EMB-DataWarehouse\\notebbooks\\..\\data\\photos\\lobelia4cosmetics_14964.jpg: 320x320 1 food-supliment, 43.6ms\n",
      "image 336/567 d:\\KMAI3\\EMB-DataWarehouse\\notebbooks\\..\\data\\photos\\lobelia4cosmetics_14965.jpg: 320x320 1 food-supliment, 52.4ms\n",
      "image 337/567 d:\\KMAI3\\EMB-DataWarehouse\\notebbooks\\..\\data\\photos\\lobelia4cosmetics_14966.jpg: 320x320 1 food-supliment, 1 medicine, 57.3ms\n",
      "image 338/567 d:\\KMAI3\\EMB-DataWarehouse\\notebbooks\\..\\data\\photos\\lobelia4cosmetics_14967.jpg: 320x320 1 food-supliment, 1 formula-milk, 49.2ms\n",
      "image 339/567 d:\\KMAI3\\EMB-DataWarehouse\\notebbooks\\..\\data\\photos\\lobelia4cosmetics_14968.jpg: 320x320 1 medicine, 1 mini-drop, 46.4ms\n",
      "image 340/567 d:\\KMAI3\\EMB-DataWarehouse\\notebbooks\\..\\data\\photos\\lobelia4cosmetics_14969.jpg: 320x224 1 mini-drop, 40.9ms\n",
      "image 341/567 d:\\KMAI3\\EMB-DataWarehouse\\notebbooks\\..\\data\\photos\\lobelia4cosmetics_14970.jpg: 320x320 1 food-supliment, 54.6ms\n",
      "image 342/567 d:\\KMAI3\\EMB-DataWarehouse\\notebbooks\\..\\data\\photos\\lobelia4cosmetics_14971.jpg: 320x320 1 cosmotic, 1 mini-drop, 116.2ms\n",
      "image 343/567 d:\\KMAI3\\EMB-DataWarehouse\\notebbooks\\..\\data\\photos\\lobelia4cosmetics_14972.jpg: 320x320 1 food-supliment, 1 mini-drop, 48.6ms\n",
      "image 344/567 d:\\KMAI3\\EMB-DataWarehouse\\notebbooks\\..\\data\\photos\\lobelia4cosmetics_14973.jpg: 320x320 1 cosmotic, 1 formula-milk, 65.5ms\n",
      "image 345/567 d:\\KMAI3\\EMB-DataWarehouse\\notebbooks\\..\\data\\photos\\lobelia4cosmetics_14974.jpg: 320x320 1 food-supliment, 2 medicines, 1 mini-drop, 54.3ms\n",
      "image 346/567 d:\\KMAI3\\EMB-DataWarehouse\\notebbooks\\..\\data\\photos\\lobelia4cosmetics_14975.jpg: 320x320 1 food-supliment, 1 formula-milk, 51.1ms\n",
      "image 347/567 d:\\KMAI3\\EMB-DataWarehouse\\notebbooks\\..\\data\\photos\\lobelia4cosmetics_14976.jpg: 320x320 1 food-package, 58.3ms\n",
      "image 348/567 d:\\KMAI3\\EMB-DataWarehouse\\notebbooks\\..\\data\\photos\\lobelia4cosmetics_14977.jpg: 320x320 1 food-package, 1 food-supliment, 40.5ms\n",
      "image 349/567 d:\\KMAI3\\EMB-DataWarehouse\\notebbooks\\..\\data\\photos\\lobelia4cosmetics_14978.jpg: 320x320 2 food-supliments, 52.5ms\n",
      "image 350/567 d:\\KMAI3\\EMB-DataWarehouse\\notebbooks\\..\\data\\photos\\lobelia4cosmetics_14979.jpg: 320x320 1 food-supliment, 1 formula-milk, 48.4ms\n",
      "image 351/567 d:\\KMAI3\\EMB-DataWarehouse\\notebbooks\\..\\data\\photos\\lobelia4cosmetics_14980.jpg: 320x320 1 food-supliment, 1 formula-milk, 1 medicine, 52.1ms\n",
      "image 352/567 d:\\KMAI3\\EMB-DataWarehouse\\notebbooks\\..\\data\\photos\\lobelia4cosmetics_14981.jpg: 320x320 1 food-supliment, 44.4ms\n",
      "image 353/567 d:\\KMAI3\\EMB-DataWarehouse\\notebbooks\\..\\data\\photos\\lobelia4cosmetics_14982.jpg: 320x320 1 food-supliment, 56.6ms\n",
      "image 354/567 d:\\KMAI3\\EMB-DataWarehouse\\notebbooks\\..\\data\\photos\\lobelia4cosmetics_14983.jpg: 320x320 1 food-supliment, 48.3ms\n",
      "image 355/567 d:\\KMAI3\\EMB-DataWarehouse\\notebbooks\\..\\data\\photos\\lobelia4cosmetics_14984.jpg: 320x320 1 food-supliment, 38.0ms\n",
      "image 356/567 d:\\KMAI3\\EMB-DataWarehouse\\notebbooks\\..\\data\\photos\\lobelia4cosmetics_14985.jpg: 320x320 1 food-supliment, 69.1ms\n",
      "image 357/567 d:\\KMAI3\\EMB-DataWarehouse\\notebbooks\\..\\data\\photos\\lobelia4cosmetics_14986.jpg: 320x320 1 cosmotic, 1 food-supliment, 42.7ms\n",
      "image 358/567 d:\\KMAI3\\EMB-DataWarehouse\\notebbooks\\..\\data\\photos\\lobelia4cosmetics_14987.jpg: 320x320 1 food-supliment, 44.0ms\n",
      "image 359/567 d:\\KMAI3\\EMB-DataWarehouse\\notebbooks\\..\\data\\photos\\lobelia4cosmetics_14988.jpg: 320x320 1 cosmotic, 1 food-supliment, 55.4ms\n",
      "image 360/567 d:\\KMAI3\\EMB-DataWarehouse\\notebbooks\\..\\data\\photos\\lobelia4cosmetics_14989.jpg: 320x320 1 food-supliment, 41.8ms\n",
      "image 361/567 d:\\KMAI3\\EMB-DataWarehouse\\notebbooks\\..\\data\\photos\\lobelia4cosmetics_14990.jpg: 320x320 1 food-supliment, 43.2ms\n",
      "image 362/567 d:\\KMAI3\\EMB-DataWarehouse\\notebbooks\\..\\data\\photos\\lobelia4cosmetics_14991.jpg: 288x320 3 formula-milks, 51.3ms\n",
      "image 363/567 d:\\KMAI3\\EMB-DataWarehouse\\notebbooks\\..\\data\\photos\\lobelia4cosmetics_14992.jpg: 320x320 1 food-supliment, 2 formula-milks, 40.9ms\n",
      "image 364/567 d:\\KMAI3\\EMB-DataWarehouse\\notebbooks\\..\\data\\photos\\lobelia4cosmetics_14993.jpg: 320x320 1 cosmotic, 1 food-supliment, 1 formula-milk, 43.6ms\n",
      "image 365/567 d:\\KMAI3\\EMB-DataWarehouse\\notebbooks\\..\\data\\photos\\lobelia4cosmetics_14994.jpg: 320x320 1 formula-milk, 41.1ms\n",
      "image 366/567 d:\\KMAI3\\EMB-DataWarehouse\\notebbooks\\..\\data\\photos\\lobelia4cosmetics_14995.jpg: 320x320 1 food-supliment, 1 formula-milk, 1 lotion-moisture, 47.0ms\n",
      "image 367/567 d:\\KMAI3\\EMB-DataWarehouse\\notebbooks\\..\\data\\photos\\lobelia4cosmetics_14996.jpg: 320x320 2 food-supliments, 47.8ms\n",
      "image 368/567 d:\\KMAI3\\EMB-DataWarehouse\\notebbooks\\..\\data\\photos\\lobelia4cosmetics_14997.jpg: 320x320 1 food-supliment, 41.4ms\n",
      "image 369/567 d:\\KMAI3\\EMB-DataWarehouse\\notebbooks\\..\\data\\photos\\lobelia4cosmetics_14998.jpg: 320x320 1 cosmotic, 1 food-supliment, 47.8ms\n",
      "image 370/567 d:\\KMAI3\\EMB-DataWarehouse\\notebbooks\\..\\data\\photos\\lobelia4cosmetics_14999.jpg: 320x320 1 food-supliment, 44.6ms\n",
      "image 371/567 d:\\KMAI3\\EMB-DataWarehouse\\notebbooks\\..\\data\\photos\\lobelia4cosmetics_15000.jpg: 320x320 1 cosmotic, 41.6ms\n",
      "image 372/567 d:\\KMAI3\\EMB-DataWarehouse\\notebbooks\\..\\data\\photos\\lobelia4cosmetics_15001.jpg: 320x320 1 food-package, 1 formula-milk, 40.2ms\n",
      "image 373/567 d:\\KMAI3\\EMB-DataWarehouse\\notebbooks\\..\\data\\photos\\lobelia4cosmetics_15002.jpg: 320x320 1 food-supliment, 1 medicine, 47.5ms\n",
      "image 374/567 d:\\KMAI3\\EMB-DataWarehouse\\notebbooks\\..\\data\\photos\\lobelia4cosmetics_15003.jpg: 320x320 1 food-supliment, 50.2ms\n",
      "image 375/567 d:\\KMAI3\\EMB-DataWarehouse\\notebbooks\\..\\data\\photos\\lobelia4cosmetics_15004.jpg: 320x320 1 food-supliment, 40.1ms\n",
      "image 376/567 d:\\KMAI3\\EMB-DataWarehouse\\notebbooks\\..\\data\\photos\\lobelia4cosmetics_15005.jpg: 320x320 1 food-supliment, 48.7ms\n",
      "image 377/567 d:\\KMAI3\\EMB-DataWarehouse\\notebbooks\\..\\data\\photos\\lobelia4cosmetics_15006.jpg: 320x320 1 food-supliment, 43.1ms\n",
      "image 378/567 d:\\KMAI3\\EMB-DataWarehouse\\notebbooks\\..\\data\\photos\\lobelia4cosmetics_15007.jpg: 320x320 1 food-supliment, 72.3ms\n",
      "image 379/567 d:\\KMAI3\\EMB-DataWarehouse\\notebbooks\\..\\data\\photos\\lobelia4cosmetics_15008.jpg: 320x320 1 food-supliment, 52.9ms\n",
      "image 380/567 d:\\KMAI3\\EMB-DataWarehouse\\notebbooks\\..\\data\\photos\\lobelia4cosmetics_15009.jpg: 320x320 2 food-supliments, 1 medicine, 106.7ms\n",
      "image 381/567 d:\\KMAI3\\EMB-DataWarehouse\\notebbooks\\..\\data\\photos\\lobelia4cosmetics_15010.jpg: 320x320 1 food-supliment, 44.8ms\n",
      "image 382/567 d:\\KMAI3\\EMB-DataWarehouse\\notebbooks\\..\\data\\photos\\lobelia4cosmetics_15011.jpg: 320x320 1 food-supliment, 49.0ms\n",
      "image 383/567 d:\\KMAI3\\EMB-DataWarehouse\\notebbooks\\..\\data\\photos\\lobelia4cosmetics_15012.jpg: 320x320 1 food-supliment, 50.9ms\n",
      "image 384/567 d:\\KMAI3\\EMB-DataWarehouse\\notebbooks\\..\\data\\photos\\lobelia4cosmetics_15013.jpg: 320x320 1 food-supliment, 1 formula-milk, 44.3ms\n",
      "image 385/567 d:\\KMAI3\\EMB-DataWarehouse\\notebbooks\\..\\data\\photos\\lobelia4cosmetics_15014.jpg: 320x320 1 food-supliment, 1 formula-milk, 51.7ms\n",
      "image 386/567 d:\\KMAI3\\EMB-DataWarehouse\\notebbooks\\..\\data\\photos\\lobelia4cosmetics_15015.jpg: 320x320 (no detections), 73.1ms\n",
      "image 387/567 d:\\KMAI3\\EMB-DataWarehouse\\notebbooks\\..\\data\\photos\\lobelia4cosmetics_15016.jpg: 320x320 1 food-supliment, 56.9ms\n",
      "image 388/567 d:\\KMAI3\\EMB-DataWarehouse\\notebbooks\\..\\data\\photos\\lobelia4cosmetics_15017.jpg: 320x320 1 food-supliment, 1 formula-milk, 55.4ms\n",
      "image 389/567 d:\\KMAI3\\EMB-DataWarehouse\\notebbooks\\..\\data\\photos\\lobelia4cosmetics_15018.jpg: 256x320 1 food-supliment, 1 medicine, 36.4ms\n",
      "image 390/567 d:\\KMAI3\\EMB-DataWarehouse\\notebbooks\\..\\data\\photos\\lobelia4cosmetics_15019.jpg: 320x320 1 food-supliment, 1 medicine, 55.3ms\n",
      "image 391/567 d:\\KMAI3\\EMB-DataWarehouse\\notebbooks\\..\\data\\photos\\lobelia4cosmetics_15020.jpg: 320x320 1 food-supliment, 1 formula-milk, 48.1ms\n",
      "image 392/567 d:\\KMAI3\\EMB-DataWarehouse\\notebbooks\\..\\data\\photos\\lobelia4cosmetics_15021.jpg: 320x320 1 food-supliment, 1 formula-milk, 80.1ms\n",
      "image 393/567 d:\\KMAI3\\EMB-DataWarehouse\\notebbooks\\..\\data\\photos\\lobelia4cosmetics_15022.jpg: 320x320 2 food-supliments, 41.7ms\n",
      "image 394/567 d:\\KMAI3\\EMB-DataWarehouse\\notebbooks\\..\\data\\photos\\lobelia4cosmetics_15023.jpg: 320x320 1 food-supliment, 1 formula-milk, 49.5ms\n",
      "image 395/567 d:\\KMAI3\\EMB-DataWarehouse\\notebbooks\\..\\data\\photos\\lobelia4cosmetics_15024.jpg: 320x320 1 food-supliment, 1 formula-milk, 51.5ms\n",
      "image 396/567 d:\\KMAI3\\EMB-DataWarehouse\\notebbooks\\..\\data\\photos\\lobelia4cosmetics_15025.jpg: 320x320 1 food-supliment, 1 formula-milk, 74.1ms\n",
      "image 397/567 d:\\KMAI3\\EMB-DataWarehouse\\notebbooks\\..\\data\\photos\\lobelia4cosmetics_15026.jpg: 288x320 3 formula-milks, 46.1ms\n",
      "image 398/567 d:\\KMAI3\\EMB-DataWarehouse\\notebbooks\\..\\data\\photos\\lobelia4cosmetics_15027.jpg: 320x320 1 food-supliment, 2 formula-milks, 53.9ms\n",
      "image 399/567 d:\\KMAI3\\EMB-DataWarehouse\\notebbooks\\..\\data\\photos\\lobelia4cosmetics_15029.jpg: 320x320 2 cosmotics, 46.6ms\n",
      "image 400/567 d:\\KMAI3\\EMB-DataWarehouse\\notebbooks\\..\\data\\photos\\lobelia4cosmetics_15030.jpg: 320x320 1 food-supliment, 52.9ms\n",
      "image 401/567 d:\\KMAI3\\EMB-DataWarehouse\\notebbooks\\..\\data\\photos\\lobelia4cosmetics_15031.jpg: 320x320 1 cosmotic, 1 food-supliment, 1 formula-milk, 40.1ms\n",
      "image 402/567 d:\\KMAI3\\EMB-DataWarehouse\\notebbooks\\..\\data\\photos\\lobelia4cosmetics_15032.jpg: 320x320 1 food-supliment, 49.2ms\n",
      "image 403/567 d:\\KMAI3\\EMB-DataWarehouse\\notebbooks\\..\\data\\photos\\lobelia4cosmetics_15033.jpg: 320x320 1 food-supliment, 49.3ms\n",
      "image 404/567 d:\\KMAI3\\EMB-DataWarehouse\\notebbooks\\..\\data\\photos\\lobelia4cosmetics_15034.jpg: 320x256 1 food-supliment, 1 medicine, 36.3ms\n",
      "image 405/567 d:\\KMAI3\\EMB-DataWarehouse\\notebbooks\\..\\data\\photos\\lobelia4cosmetics_15035.jpg: 320x320 1 food-supliment, 1 medicine, 50.9ms\n",
      "image 406/567 d:\\KMAI3\\EMB-DataWarehouse\\notebbooks\\..\\data\\photos\\lobelia4cosmetics_15036.jpg: 320x320 1 cosmotic, 1 food-supliment, 49.0ms\n",
      "image 407/567 d:\\KMAI3\\EMB-DataWarehouse\\notebbooks\\..\\data\\photos\\lobelia4cosmetics_15037.jpg: 320x320 2 food-supliments, 1 medicine, 52.3ms\n",
      "image 408/567 d:\\KMAI3\\EMB-DataWarehouse\\notebbooks\\..\\data\\photos\\lobelia4cosmetics_15038.jpg: 320x320 1 food-supliment, 53.8ms\n",
      "image 409/567 d:\\KMAI3\\EMB-DataWarehouse\\notebbooks\\..\\data\\photos\\lobelia4cosmetics_15039.jpg: 320x320 1 food-supliment, 44.7ms\n",
      "image 410/567 d:\\KMAI3\\EMB-DataWarehouse\\notebbooks\\..\\data\\photos\\lobelia4cosmetics_15040.jpg: 320x256 1 food-supliment, 1 formula-milk, 50.7ms\n",
      "image 411/567 d:\\KMAI3\\EMB-DataWarehouse\\notebbooks\\..\\data\\photos\\lobelia4cosmetics_15041.jpg: 320x320 1 food-supliment, 1 medicine, 56.1ms\n",
      "image 412/567 d:\\KMAI3\\EMB-DataWarehouse\\notebbooks\\..\\data\\photos\\lobelia4cosmetics_15042.jpg: 320x320 1 food-supliment, 47.4ms\n",
      "image 413/567 d:\\KMAI3\\EMB-DataWarehouse\\notebbooks\\..\\data\\photos\\lobelia4cosmetics_15043.jpg: 320x320 1 food-supliment, 55.1ms\n",
      "image 414/567 d:\\KMAI3\\EMB-DataWarehouse\\notebbooks\\..\\data\\photos\\lobelia4cosmetics_15044.jpg: 320x320 1 food-supliment, 49.0ms\n",
      "image 415/567 d:\\KMAI3\\EMB-DataWarehouse\\notebbooks\\..\\data\\photos\\lobelia4cosmetics_15045.jpg: 320x320 1 food-supliment, 42.5ms\n",
      "image 416/567 d:\\KMAI3\\EMB-DataWarehouse\\notebbooks\\..\\data\\photos\\lobelia4cosmetics_15046.jpg: 320x320 1 food-supliment, 44.0ms\n",
      "image 417/567 d:\\KMAI3\\EMB-DataWarehouse\\notebbooks\\..\\data\\photos\\lobelia4cosmetics_15047.jpg: 320x320 1 food-supliment, 44.1ms\n",
      "image 418/567 d:\\KMAI3\\EMB-DataWarehouse\\notebbooks\\..\\data\\photos\\lobelia4cosmetics_15048.jpg: 320x320 1 food-supliment, 1 formula-milk, 80.5ms\n",
      "image 419/567 d:\\KMAI3\\EMB-DataWarehouse\\notebbooks\\..\\data\\photos\\lobelia4cosmetics_15049.jpg: 320x320 1 food-supliment, 54.3ms\n",
      "image 420/567 d:\\KMAI3\\EMB-DataWarehouse\\notebbooks\\..\\data\\photos\\lobelia4cosmetics_15050.jpg: 256x320 1 food-supliment, 1 medicine, 37.9ms\n",
      "image 421/567 d:\\KMAI3\\EMB-DataWarehouse\\notebbooks\\..\\data\\photos\\lobelia4cosmetics_15051.jpg: 320x320 1 cosmotic, 2 food-supliments, 1 medicine, 47.7ms\n",
      "image 422/567 d:\\KMAI3\\EMB-DataWarehouse\\notebbooks\\..\\data\\photos\\lobelia4cosmetics_15052.jpg: 320x320 1 food-supliment, 98.3ms\n",
      "image 423/567 d:\\KMAI3\\EMB-DataWarehouse\\notebbooks\\..\\data\\photos\\lobelia4cosmetics_15053.jpg: 320x320 1 food-supliment, 50.9ms\n",
      "image 424/567 d:\\KMAI3\\EMB-DataWarehouse\\notebbooks\\..\\data\\photos\\lobelia4cosmetics_15054.jpg: 320x320 1 food-supliment, 1 formula-milk, 45.1ms\n",
      "image 425/567 d:\\KMAI3\\EMB-DataWarehouse\\notebbooks\\..\\data\\photos\\lobelia4cosmetics_15055.jpg: 320x320 1 food-supliment, 46.0ms\n",
      "image 426/567 d:\\KMAI3\\EMB-DataWarehouse\\notebbooks\\..\\data\\photos\\lobelia4cosmetics_15056.jpg: 320x320 1 food-supliment, 1 formula-milk, 1 medicine, 65.6ms\n",
      "image 427/567 d:\\KMAI3\\EMB-DataWarehouse\\notebbooks\\..\\data\\photos\\lobelia4cosmetics_15057.jpg: 320x320 (no detections), 48.8ms\n",
      "image 428/567 d:\\KMAI3\\EMB-DataWarehouse\\notebbooks\\..\\data\\photos\\lobelia4cosmetics_15058.jpg: 288x320 1 food-supliment, 41.2ms\n",
      "image 429/567 d:\\KMAI3\\EMB-DataWarehouse\\notebbooks\\..\\data\\photos\\lobelia4cosmetics_15059.jpg: 320x320 1 food-package, 1 formula-milk, 46.7ms\n",
      "image 430/567 d:\\KMAI3\\EMB-DataWarehouse\\notebbooks\\..\\data\\photos\\lobelia4cosmetics_15060.jpg: 320x320 1 food-package, 1 food-supliment, 54.3ms\n",
      "image 431/567 d:\\KMAI3\\EMB-DataWarehouse\\notebbooks\\..\\data\\photos\\lobelia4cosmetics_15061.jpg: 320x320 2 food-supliments, 40.5ms\n",
      "image 432/567 d:\\KMAI3\\EMB-DataWarehouse\\notebbooks\\..\\data\\photos\\lobelia4cosmetics_15062.jpg: 320x320 1 food-supliment, 1 medicine, 45.7ms\n",
      "image 433/567 d:\\KMAI3\\EMB-DataWarehouse\\notebbooks\\..\\data\\photos\\lobelia4cosmetics_15063.jpg: 320x256 1 food-supliment, 1 formula-milk, 45.5ms\n",
      "image 434/567 d:\\KMAI3\\EMB-DataWarehouse\\notebbooks\\..\\data\\photos\\lobelia4cosmetics_15064.jpg: 320x320 1 cosmotic, 1 formula-milk, 57.1ms\n",
      "image 435/567 d:\\KMAI3\\EMB-DataWarehouse\\notebbooks\\..\\data\\photos\\lobelia4cosmetics_15065.jpg: 320x320 1 food-supliment, 1 formula-milk, 46.3ms\n",
      "image 436/567 d:\\KMAI3\\EMB-DataWarehouse\\notebbooks\\..\\data\\photos\\lobelia4cosmetics_15067.jpg: 288x320 3 formula-milks, 56.2ms\n",
      "image 437/567 d:\\KMAI3\\EMB-DataWarehouse\\notebbooks\\..\\data\\photos\\lobelia4cosmetics_15068.jpg: 320x320 1 food-supliment, 2 formula-milks, 51.0ms\n",
      "image 438/567 d:\\KMAI3\\EMB-DataWarehouse\\notebbooks\\..\\data\\photos\\lobelia4cosmetics_15071.jpg: 320x320 (no detections), 57.8ms\n",
      "image 439/567 d:\\KMAI3\\EMB-DataWarehouse\\notebbooks\\..\\data\\photos\\lobelia4cosmetics_15072.jpg: 320x320 1 food-supliment, 1 medicine, 47.2ms\n",
      "image 440/567 d:\\KMAI3\\EMB-DataWarehouse\\notebbooks\\..\\data\\photos\\lobelia4cosmetics_15073.jpg: 320x320 1 food-supliment, 1 formula-milk, 46.6ms\n",
      "image 441/567 d:\\KMAI3\\EMB-DataWarehouse\\notebbooks\\..\\data\\photos\\lobelia4cosmetics_15074.jpg: 320x320 1 food-supliment, 1 formula-milk, 44.8ms\n",
      "image 442/567 d:\\KMAI3\\EMB-DataWarehouse\\notebbooks\\..\\data\\photos\\lobelia4cosmetics_15075.jpg: 320x320 2 food-supliments, 81.1ms\n",
      "image 443/567 d:\\KMAI3\\EMB-DataWarehouse\\notebbooks\\..\\data\\photos\\lobelia4cosmetics_15076.jpg: 320x320 1 food-supliment, 1 formula-milk, 45.9ms\n",
      "image 444/567 d:\\KMAI3\\EMB-DataWarehouse\\notebbooks\\..\\data\\photos\\lobelia4cosmetics_15077.jpg: 320x320 1 food-supliment, 1 formula-milk, 53.4ms\n",
      "image 445/567 d:\\KMAI3\\EMB-DataWarehouse\\notebbooks\\..\\data\\photos\\lobelia4cosmetics_15078.jpg: 320x320 1 food-supliment, 1 formula-milk, 49.3ms\n",
      "image 446/567 d:\\KMAI3\\EMB-DataWarehouse\\notebbooks\\..\\data\\photos\\lobelia4cosmetics_15079.jpg: 320x320 1 food-supliment, 1 formula-milk, 64.4ms\n",
      "image 447/567 d:\\KMAI3\\EMB-DataWarehouse\\notebbooks\\..\\data\\photos\\lobelia4cosmetics_15080.jpg: 320x320 1 food-supliment, 71.2ms\n",
      "image 448/567 d:\\KMAI3\\EMB-DataWarehouse\\notebbooks\\..\\data\\photos\\lobelia4cosmetics_15081.jpg: 256x320 1 food-supliment, 1 medicine, 47.9ms\n",
      "image 449/567 d:\\KMAI3\\EMB-DataWarehouse\\notebbooks\\..\\data\\photos\\lobelia4cosmetics_15082.jpg: 320x320 1 food-supliment, 1 formula-milk, 74.8ms\n",
      "image 450/567 d:\\KMAI3\\EMB-DataWarehouse\\notebbooks\\..\\data\\photos\\lobelia4cosmetics_15083.jpg: 320x320 1 food-supliment, 1 formula-milk, 55.5ms\n",
      "image 451/567 d:\\KMAI3\\EMB-DataWarehouse\\notebbooks\\..\\data\\photos\\lobelia4cosmetics_15084.jpg: 256x320 1 food-supliment, 1 medicine, 35.6ms\n",
      "image 452/567 d:\\KMAI3\\EMB-DataWarehouse\\notebbooks\\..\\data\\photos\\lobelia4cosmetics_15085.jpg: 320x320 1 food-supliment, 1 formula-milk, 43.4ms\n",
      "image 453/567 d:\\KMAI3\\EMB-DataWarehouse\\notebbooks\\..\\data\\photos\\lobelia4cosmetics_15086.jpg: 320x320 (no detections), 42.5ms\n",
      "image 454/567 d:\\KMAI3\\EMB-DataWarehouse\\notebbooks\\..\\data\\photos\\lobelia4cosmetics_15087.jpg: 320x320 1 food-supliment, 40.3ms\n",
      "image 455/567 d:\\KMAI3\\EMB-DataWarehouse\\notebbooks\\..\\data\\photos\\lobelia4cosmetics_15088.jpg: 320x320 1 food-supliment, 1 formula-milk, 47.9ms\n",
      "image 456/567 d:\\KMAI3\\EMB-DataWarehouse\\notebbooks\\..\\data\\photos\\lobelia4cosmetics_15089.jpg: 320x320 1 food-supliment, 1 medicine, 46.5ms\n",
      "image 457/567 d:\\KMAI3\\EMB-DataWarehouse\\notebbooks\\..\\data\\photos\\lobelia4cosmetics_15090.jpg: 320x256 1 food-supliment, 1 formula-milk, 45.1ms\n",
      "image 458/567 d:\\KMAI3\\EMB-DataWarehouse\\notebbooks\\..\\data\\photos\\lobelia4cosmetics_15091.jpg: 320x320 1 cosmotic, 1 formula-milk, 114.0ms\n",
      "image 459/567 d:\\KMAI3\\EMB-DataWarehouse\\notebbooks\\..\\data\\photos\\lobelia4cosmetics_15092.jpg: 320x320 1 food-supliment, 42.7ms\n",
      "image 460/567 d:\\KMAI3\\EMB-DataWarehouse\\notebbooks\\..\\data\\photos\\lobelia4cosmetics_15093.jpg: 320x320 1 food-supliment, 44.7ms\n",
      "image 461/567 d:\\KMAI3\\EMB-DataWarehouse\\notebbooks\\..\\data\\photos\\lobelia4cosmetics_15094.jpg: 320x320 1 food-supliment, 52.2ms\n",
      "image 462/567 d:\\KMAI3\\EMB-DataWarehouse\\notebbooks\\..\\data\\photos\\lobelia4cosmetics_15095.jpg: 320x320 1 food-supliment, 41.2ms\n",
      "image 463/567 d:\\KMAI3\\EMB-DataWarehouse\\notebbooks\\..\\data\\photos\\lobelia4cosmetics_15096.jpg: 320x320 1 food-supliment, 44.3ms\n",
      "image 464/567 d:\\KMAI3\\EMB-DataWarehouse\\notebbooks\\..\\data\\photos\\lobelia4cosmetics_15097.jpg: 320x320 3 cosmotics, 1 lotion-moisture, 39.7ms\n",
      "image 465/567 d:\\KMAI3\\EMB-DataWarehouse\\notebbooks\\..\\data\\photos\\lobelia4cosmetics_15098.jpg: 320x320 1 formula-milk, 41.8ms\n",
      "image 466/567 d:\\KMAI3\\EMB-DataWarehouse\\notebbooks\\..\\data\\photos\\lobelia4cosmetics_15099.jpg: 320x320 1 formula-milk, 1 mini-drop, 54.3ms\n",
      "image 467/567 d:\\KMAI3\\EMB-DataWarehouse\\notebbooks\\..\\data\\photos\\lobelia4cosmetics_15100.jpg: 320x320 1 food-supliment, 1 formula-milk, 46.5ms\n",
      "image 468/567 d:\\KMAI3\\EMB-DataWarehouse\\notebbooks\\..\\data\\photos\\lobelia4cosmetics_15101.jpg: 320x320 1 formula-milk, 43.2ms\n",
      "image 469/567 d:\\KMAI3\\EMB-DataWarehouse\\notebbooks\\..\\data\\photos\\lobelia4cosmetics_15102.jpg: 320x320 1 food-supliment, 1 formula-milk, 1 lotion-moisture, 43.7ms\n",
      "image 470/567 d:\\KMAI3\\EMB-DataWarehouse\\notebbooks\\..\\data\\photos\\lobelia4cosmetics_15103.jpg: 320x320 1 medicine, 1 mini-drop, 55.6ms\n",
      "image 471/567 d:\\KMAI3\\EMB-DataWarehouse\\notebbooks\\..\\data\\photos\\lobelia4cosmetics_15104.jpg: 320x320 1 food-supliment, 2 medicines, 1 mini-drop, 53.6ms\n",
      "image 472/567 d:\\KMAI3\\EMB-DataWarehouse\\notebbooks\\..\\data\\photos\\lobelia4cosmetics_15105.jpg: 320x224 1 mini-drop, 42.8ms\n",
      "image 473/567 d:\\KMAI3\\EMB-DataWarehouse\\notebbooks\\..\\data\\photos\\lobelia4cosmetics_15106.jpg: 320x320 1 food-supliment, 40.7ms\n",
      "image 474/567 d:\\KMAI3\\EMB-DataWarehouse\\notebbooks\\..\\data\\photos\\lobelia4cosmetics_15107.jpg: 320x320 1 cosmotic, 1 mini-drop, 57.1ms\n",
      "image 475/567 d:\\KMAI3\\EMB-DataWarehouse\\notebbooks\\..\\data\\photos\\lobelia4cosmetics_15108.jpg: 320x320 1 food-supliment, 1 mini-drop, 54.0ms\n",
      "image 476/567 d:\\KMAI3\\EMB-DataWarehouse\\notebbooks\\..\\data\\photos\\lobelia4cosmetics_15109.jpg: 320x320 1 food-supliment, 1 mini-drop, 41.5ms\n",
      "image 477/567 d:\\KMAI3\\EMB-DataWarehouse\\notebbooks\\..\\data\\photos\\lobelia4cosmetics_15110.jpg: 256x320 1 food-supliment, 1 formula-milk, 1 lotion-moisture, 1 medicine, 37.5ms\n",
      "image 478/567 d:\\KMAI3\\EMB-DataWarehouse\\notebbooks\\..\\data\\photos\\lobelia4cosmetics_15111.jpg: 320x320 1 food-supliment, 62.1ms\n",
      "image 479/567 d:\\KMAI3\\EMB-DataWarehouse\\notebbooks\\..\\data\\photos\\lobelia4cosmetics_15112.jpg: 320x320 1 cosmotic, 1 food-supliment, 49.8ms\n",
      "image 480/567 d:\\KMAI3\\EMB-DataWarehouse\\notebbooks\\..\\data\\photos\\lobelia4cosmetics_15113.jpg: 320x320 1 food-supliment, 1 medicine, 40.5ms\n",
      "image 481/567 d:\\KMAI3\\EMB-DataWarehouse\\notebbooks\\..\\data\\photos\\lobelia4cosmetics_15114.jpg: 320x320 1 food-supliment, 1 formula-milk, 56.9ms\n",
      "image 482/567 d:\\KMAI3\\EMB-DataWarehouse\\notebbooks\\..\\data\\photos\\lobelia4cosmetics_15115.jpg: 320x288 2 formula-milks, 40.8ms\n",
      "image 483/567 d:\\KMAI3\\EMB-DataWarehouse\\notebbooks\\..\\data\\photos\\lobelia4cosmetics_15116.jpg: 320x320 1 food-supliment, 53.0ms\n",
      "image 484/567 d:\\KMAI3\\EMB-DataWarehouse\\notebbooks\\..\\data\\photos\\lobelia4cosmetics_15117.jpg: 320x320 2 food-supliments, 1 medicine, 42.5ms\n",
      "image 485/567 d:\\KMAI3\\EMB-DataWarehouse\\notebbooks\\..\\data\\photos\\lobelia4cosmetics_15118.jpg: 320x320 1 food-supliment, 42.3ms\n",
      "image 486/567 d:\\KMAI3\\EMB-DataWarehouse\\notebbooks\\..\\data\\photos\\lobelia4cosmetics_15119.jpg: 320x320 1 food-supliment, 46.1ms\n",
      "image 487/567 d:\\KMAI3\\EMB-DataWarehouse\\notebbooks\\..\\data\\photos\\lobelia4cosmetics_15120.jpg: 320x320 1 food-supliment, 45.3ms\n",
      "image 488/567 d:\\KMAI3\\EMB-DataWarehouse\\notebbooks\\..\\data\\photos\\lobelia4cosmetics_15121.jpg: 320x320 1 cosmotic, 2 food-supliments, 1 medicine, 59.2ms\n",
      "image 489/567 d:\\KMAI3\\EMB-DataWarehouse\\notebbooks\\..\\data\\photos\\lobelia4cosmetics_15122.jpg: 320x320 1 food-supliment, 40.6ms\n",
      "image 490/567 d:\\KMAI3\\EMB-DataWarehouse\\notebbooks\\..\\data\\photos\\lobelia4cosmetics_15123.jpg: 320x320 1 food-supliment, 1 formula-milk, 39.1ms\n",
      "image 491/567 d:\\KMAI3\\EMB-DataWarehouse\\notebbooks\\..\\data\\photos\\lobelia4cosmetics_15124.jpg: 320x320 1 food-supliment, 54.8ms\n",
      "image 492/567 d:\\KMAI3\\EMB-DataWarehouse\\notebbooks\\..\\data\\photos\\lobelia4cosmetics_15125.jpg: 320x320 1 food-supliment, 1 formula-milk, 1 medicine, 57.7ms\n",
      "image 493/567 d:\\KMAI3\\EMB-DataWarehouse\\notebbooks\\..\\data\\photos\\lobelia4cosmetics_15126.jpg: 320x320 1 food-supliment, 55.8ms\n",
      "image 494/567 d:\\KMAI3\\EMB-DataWarehouse\\notebbooks\\..\\data\\photos\\lobelia4cosmetics_15127.jpg: 320x320 1 food-supliment, 1 formula-milk, 46.4ms\n",
      "image 495/567 d:\\KMAI3\\EMB-DataWarehouse\\notebbooks\\..\\data\\photos\\lobelia4cosmetics_15128.jpg: 320x320 1 food-supliment, 1 formula-milk, 56.0ms\n",
      "image 496/567 d:\\KMAI3\\EMB-DataWarehouse\\notebbooks\\..\\data\\photos\\lobelia4cosmetics_15129.jpg: 320x320 1 food-supliment, 1 formula-milk, 52.6ms\n",
      "image 497/567 d:\\KMAI3\\EMB-DataWarehouse\\notebbooks\\..\\data\\photos\\lobelia4cosmetics_15130.jpg: 320x320 1 food-supliment, 1 formula-milk, 58.6ms\n",
      "image 498/567 d:\\KMAI3\\EMB-DataWarehouse\\notebbooks\\..\\data\\photos\\lobelia4cosmetics_15131.jpg: 256x320 1 food-supliment, 1 medicine, 35.7ms\n",
      "image 499/567 d:\\KMAI3\\EMB-DataWarehouse\\notebbooks\\..\\data\\photos\\lobelia4cosmetics_15132.jpg: 320x320 1 food-supliment, 43.5ms\n",
      "image 500/567 d:\\KMAI3\\EMB-DataWarehouse\\notebbooks\\..\\data\\photos\\lobelia4cosmetics_15133.jpg: 320x320 1 food-package, 1 medicine, 45.1ms\n",
      "image 501/567 d:\\KMAI3\\EMB-DataWarehouse\\notebbooks\\..\\data\\photos\\lobelia4cosmetics_15134.jpg: 320x320 1 food-supliment, 46.0ms\n",
      "image 502/567 d:\\KMAI3\\EMB-DataWarehouse\\notebbooks\\..\\data\\photos\\lobelia4cosmetics_15135.jpg: 320x320 1 food-supliment, 1 formula-milk, 41.2ms\n",
      "image 503/567 d:\\KMAI3\\EMB-DataWarehouse\\notebbooks\\..\\data\\photos\\lobelia4cosmetics_15136.jpg: 320x320 1 cosmotic, 1 food-supliment, 1 medicine, 50.0ms\n",
      "image 504/567 d:\\KMAI3\\EMB-DataWarehouse\\notebbooks\\..\\data\\photos\\lobelia4cosmetics_15137.jpg: 256x320 2 medicines, 52.1ms\n",
      "image 505/567 d:\\KMAI3\\EMB-DataWarehouse\\notebbooks\\..\\data\\photos\\lobelia4cosmetics_15138.jpg: 320x320 1 food-supliment, 1 medicine, 46.7ms\n",
      "image 506/567 d:\\KMAI3\\EMB-DataWarehouse\\notebbooks\\..\\data\\photos\\lobelia4cosmetics_15139.jpg: 320x224 1 food-supliment, 1 formula-milk, 42.6ms\n",
      "image 507/567 d:\\KMAI3\\EMB-DataWarehouse\\notebbooks\\..\\data\\photos\\lobelia4cosmetics_15140.jpg: 320x320 1 food-supliment, 1 medicine, 46.7ms\n",
      "image 508/567 d:\\KMAI3\\EMB-DataWarehouse\\notebbooks\\..\\data\\photos\\lobelia4cosmetics_15141.jpg: 320x320 1 food-supliment, 1 medicine, 44.9ms\n",
      "image 509/567 d:\\KMAI3\\EMB-DataWarehouse\\notebbooks\\..\\data\\photos\\lobelia4cosmetics_15142.jpg: 320x320 1 cosmotic, 1 food-supliment, 49.4ms\n",
      "image 510/567 d:\\KMAI3\\EMB-DataWarehouse\\notebbooks\\..\\data\\photos\\lobelia4cosmetics_15143.jpg: 320x320 1 medicine, 53.7ms\n",
      "image 511/567 d:\\KMAI3\\EMB-DataWarehouse\\notebbooks\\..\\data\\photos\\lobelia4cosmetics_15144.jpg: 320x224 1 formula-milk, 118.6ms\n",
      "image 512/567 d:\\KMAI3\\EMB-DataWarehouse\\notebbooks\\..\\data\\photos\\lobelia4cosmetics_15145.jpg: 288x320 1 food-supliment, 45.6ms\n",
      "image 513/567 d:\\KMAI3\\EMB-DataWarehouse\\notebbooks\\..\\data\\photos\\lobelia4cosmetics_15146.jpg: 320x256 2 food-supliments, 54.4ms\n",
      "image 514/567 d:\\KMAI3\\EMB-DataWarehouse\\notebbooks\\..\\data\\photos\\lobelia4cosmetics_15147.jpg: 320x320 1 cosmotic, 1 food-supliment, 54.5ms\n",
      "image 515/567 d:\\KMAI3\\EMB-DataWarehouse\\notebbooks\\..\\data\\photos\\lobelia4cosmetics_15148.jpg: 320x320 2 cosmotics, 1 food-supliment, 56.7ms\n",
      "image 516/567 d:\\KMAI3\\EMB-DataWarehouse\\notebbooks\\..\\data\\photos\\lobelia4cosmetics_15149.jpg: 320x256 2 food-supliments, 110.8ms\n",
      "image 517/567 d:\\KMAI3\\EMB-DataWarehouse\\notebbooks\\..\\data\\photos\\lobelia4cosmetics_15150.jpg: 320x320 1 food-supliment, 1 formula-milk, 59.5ms\n",
      "image 518/567 d:\\KMAI3\\EMB-DataWarehouse\\notebbooks\\..\\data\\photos\\lobelia4cosmetics_15151.jpg: 320x320 1 medicine, 59.7ms\n",
      "image 519/567 d:\\KMAI3\\EMB-DataWarehouse\\notebbooks\\..\\data\\photos\\lobelia4cosmetics_15152.jpg: 320x320 1 medicine, 45.2ms\n",
      "image 520/567 d:\\KMAI3\\EMB-DataWarehouse\\notebbooks\\..\\data\\photos\\lobelia4cosmetics_15153.jpg: 320x320 1 cosmotic, 1 food-supliment, 45.1ms\n",
      "image 521/567 d:\\KMAI3\\EMB-DataWarehouse\\notebbooks\\..\\data\\photos\\lobelia4cosmetics_15154.jpg: 320x320 2 formula-milks, 44.7ms\n",
      "image 522/567 d:\\KMAI3\\EMB-DataWarehouse\\notebbooks\\..\\data\\photos\\lobelia4cosmetics_15155.jpg: 320x320 1 food-supliment, 47.5ms\n",
      "image 523/567 d:\\KMAI3\\EMB-DataWarehouse\\notebbooks\\..\\data\\photos\\lobelia4cosmetics_15156.jpg: 320x320 1 food-package, 45.1ms\n",
      "image 524/567 d:\\KMAI3\\EMB-DataWarehouse\\notebbooks\\..\\data\\photos\\lobelia4cosmetics_15157.jpg: 320x320 1 food-package, 43.4ms\n",
      "image 525/567 d:\\KMAI3\\EMB-DataWarehouse\\notebbooks\\..\\data\\photos\\lobelia4cosmetics_15158.jpg: 320x320 1 medicine, 46.6ms\n",
      "image 526/567 d:\\KMAI3\\EMB-DataWarehouse\\notebbooks\\..\\data\\photos\\lobelia4cosmetics_15159.jpg: 320x320 1 medicine, 44.3ms\n",
      "image 527/567 d:\\KMAI3\\EMB-DataWarehouse\\notebbooks\\..\\data\\photos\\lobelia4cosmetics_15160.jpg: 320x320 1 medicine, 50.3ms\n",
      "image 528/567 d:\\KMAI3\\EMB-DataWarehouse\\notebbooks\\..\\data\\photos\\lobelia4cosmetics_15161.jpg: 256x320 1 food-supliment, 1 formula-milk, 1 lotion-moisture, 1 medicine, 40.4ms\n",
      "image 529/567 d:\\KMAI3\\EMB-DataWarehouse\\notebbooks\\..\\data\\photos\\lobelia4cosmetics_15162.jpg: 320x320 1 food-supliment, 1 formula-milk, 43.0ms\n",
      "image 530/567 d:\\KMAI3\\EMB-DataWarehouse\\notebbooks\\..\\data\\photos\\lobelia4cosmetics_15163.jpg: 320x320 1 food-supliment, 1 formula-milk, 45.6ms\n",
      "image 531/567 d:\\KMAI3\\EMB-DataWarehouse\\notebbooks\\..\\data\\photos\\lobelia4cosmetics_15164.jpg: 320x320 1 food-supliment, 1 formula-milk, 55.4ms\n",
      "image 532/567 d:\\KMAI3\\EMB-DataWarehouse\\notebbooks\\..\\data\\photos\\lobelia4cosmetics_15165.jpg: 320x320 1 cosmotic, 48.0ms\n",
      "image 533/567 d:\\KMAI3\\EMB-DataWarehouse\\notebbooks\\..\\data\\photos\\lobelia4cosmetics_15166.jpg: 320x320 1 food-supliment, 2 medicines, 1 mini-drop, 53.4ms\n",
      "image 534/567 d:\\KMAI3\\EMB-DataWarehouse\\notebbooks\\..\\data\\photos\\lobelia4cosmetics_15167.jpg: 320x320 1 food-supliment, 1 mini-drop, 83.4ms\n",
      "image 535/567 d:\\KMAI3\\EMB-DataWarehouse\\notebbooks\\..\\data\\photos\\lobelia4cosmetics_15168.jpg: 320x320 1 cosmotic, 1 formula-milk, 51.9ms\n",
      "image 536/567 d:\\KMAI3\\EMB-DataWarehouse\\notebbooks\\..\\data\\photos\\lobelia4cosmetics_15169.jpg: 320x320 1 food-supliment, 41.2ms\n",
      "image 537/567 d:\\KMAI3\\EMB-DataWarehouse\\notebbooks\\..\\data\\photos\\lobelia4cosmetics_15170.jpg: 320x224 1 mini-drop, 40.4ms\n",
      "image 538/567 d:\\KMAI3\\EMB-DataWarehouse\\notebbooks\\..\\data\\photos\\lobelia4cosmetics_15171.jpg: 320x320 1 cosmotic, 1 mini-drop, 42.4ms\n",
      "image 539/567 d:\\KMAI3\\EMB-DataWarehouse\\notebbooks\\..\\data\\photos\\lobelia4cosmetics_15172.jpg: 320x320 1 food-supliment, 45.4ms\n",
      "image 540/567 d:\\KMAI3\\EMB-DataWarehouse\\notebbooks\\..\\data\\photos\\lobelia4cosmetics_15173.jpg: 320x320 1 food-supliment, 43.7ms\n",
      "image 541/567 d:\\KMAI3\\EMB-DataWarehouse\\notebbooks\\..\\data\\photos\\lobelia4cosmetics_15174.jpg: 320x256 1 food-supliment, 1 formula-milk, 40.3ms\n",
      "image 542/567 d:\\KMAI3\\EMB-DataWarehouse\\notebbooks\\..\\data\\photos\\lobelia4cosmetics_15175.jpg: 320x320 1 cosmotic, 1 formula-milk, 42.1ms\n",
      "image 543/567 d:\\KMAI3\\EMB-DataWarehouse\\notebbooks\\..\\data\\photos\\lobelia4cosmetics_15176.jpg: 320x320 1 food-supliment, 49.5ms\n",
      "image 544/567 d:\\KMAI3\\EMB-DataWarehouse\\notebbooks\\..\\data\\photos\\lobelia4cosmetics_15177.jpg: 320x320 1 food-supliment, 42.7ms\n",
      "image 545/567 d:\\KMAI3\\EMB-DataWarehouse\\notebbooks\\..\\data\\photos\\lobelia4cosmetics_15178.jpg: 320x320 1 cosmotic, 1 food-supliment, 52.4ms\n",
      "image 546/567 d:\\KMAI3\\EMB-DataWarehouse\\notebbooks\\..\\data\\photos\\lobelia4cosmetics_15179.jpg: 320x320 2 food-supliments, 1 medicine, 45.4ms\n",
      "image 547/567 d:\\KMAI3\\EMB-DataWarehouse\\notebbooks\\..\\data\\photos\\lobelia4cosmetics_15180.jpg: 320x320 1 food-supliment, 40.3ms\n",
      "image 548/567 d:\\KMAI3\\EMB-DataWarehouse\\notebbooks\\..\\data\\photos\\lobelia4cosmetics_15181.jpg: 320x320 1 food-supliment, 46.0ms\n",
      "image 549/567 d:\\KMAI3\\EMB-DataWarehouse\\notebbooks\\..\\data\\photos\\lobelia4cosmetics_15182.jpg: 320x320 1 cosmotic, 1 food-supliment, 45.2ms\n",
      "image 550/567 d:\\KMAI3\\EMB-DataWarehouse\\notebbooks\\..\\data\\photos\\lobelia4cosmetics_15183.jpg: 320x320 1 food-supliment, 48.8ms\n",
      "image 551/567 d:\\KMAI3\\EMB-DataWarehouse\\notebbooks\\..\\data\\photos\\lobelia4cosmetics_15184.jpg: 320x320 1 food-supliment, 42.5ms\n",
      "image 552/567 d:\\KMAI3\\EMB-DataWarehouse\\notebbooks\\..\\data\\photos\\lobelia4cosmetics_15185.jpg: 320x320 1 food-supliment, 1 mini-drop, 51.8ms\n",
      "image 553/567 d:\\KMAI3\\EMB-DataWarehouse\\notebbooks\\..\\data\\photos\\lobelia4cosmetics_15186.jpg: 320x320 1 food-supliment, 44.4ms\n",
      "image 554/567 d:\\KMAI3\\EMB-DataWarehouse\\notebbooks\\..\\data\\photos\\lobelia4cosmetics_15187.jpg: 320x320 1 formula-milk, 42.8ms\n",
      "image 555/567 d:\\KMAI3\\EMB-DataWarehouse\\notebbooks\\..\\data\\photos\\lobelia4cosmetics_15188.jpg: 320x320 1 food-supliment, 1 formula-milk, 51.3ms\n",
      "image 556/567 d:\\KMAI3\\EMB-DataWarehouse\\notebbooks\\..\\data\\photos\\lobelia4cosmetics_15189.jpg: 320x320 1 food-supliment, 1 formula-milk, 53.0ms\n",
      "image 557/567 d:\\KMAI3\\EMB-DataWarehouse\\notebbooks\\..\\data\\photos\\lobelia4cosmetics_15190.jpg: 320x320 1 food-supliment, 1 formula-milk, 41.4ms\n",
      "image 558/567 d:\\KMAI3\\EMB-DataWarehouse\\notebbooks\\..\\data\\photos\\lobelia4cosmetics_15191.jpg: 256x320 1 food-supliment, 1 medicine, 55.0ms\n",
      "image 559/567 d:\\KMAI3\\EMB-DataWarehouse\\notebbooks\\..\\data\\photos\\lobelia4cosmetics_15192.jpg: 320x320 1 food-supliment, 47.0ms\n",
      "image 560/567 d:\\KMAI3\\EMB-DataWarehouse\\notebbooks\\..\\data\\photos\\lobelia4cosmetics_15193.jpg: 320x320 1 food-supliment, 1 formula-milk, 1 medicine, 46.7ms\n",
      "image 561/567 d:\\KMAI3\\EMB-DataWarehouse\\notebbooks\\..\\data\\photos\\lobelia4cosmetics_15194.jpg: 320x320 1 food-supliment, 48.0ms\n",
      "image 562/567 d:\\KMAI3\\EMB-DataWarehouse\\notebbooks\\..\\data\\photos\\lobelia4cosmetics_15195.jpg: 320x320 1 food-supliment, 41.6ms\n",
      "image 563/567 d:\\KMAI3\\EMB-DataWarehouse\\notebbooks\\..\\data\\photos\\lobelia4cosmetics_15196.jpg: 320x320 1 cosmotic, 1 food-supliment, 58.8ms\n",
      "image 564/567 d:\\KMAI3\\EMB-DataWarehouse\\notebbooks\\..\\data\\photos\\lobelia4cosmetics_15197.jpg: 320x320 1 food-supliment, 1 medicine, 47.3ms\n",
      "image 565/567 d:\\KMAI3\\EMB-DataWarehouse\\notebbooks\\..\\data\\photos\\lobelia4cosmetics_15198.jpg: 320x320 1 food-supliment, 43.0ms\n",
      "image 566/567 d:\\KMAI3\\EMB-DataWarehouse\\notebbooks\\..\\data\\photos\\lobelia4cosmetics_15199.jpg: 320x320 2 food-supliments, 1 medicine, 48.3ms\n",
      "image 567/567 d:\\KMAI3\\EMB-DataWarehouse\\notebbooks\\..\\data\\photos\\lobelia4cosmetics_15200.jpg: 320x320 1 food-supliment, 39.4ms\n",
      "Speed: 1.2ms preprocess, 50.5ms inference, 0.8ms postprocess per image at shape (1, 3, 320, 320)\n",
      "Results saved to \u001b[1mD:\\KMAI3\\EMB-DataWarehouse\\runs\\detect\\predictions\u001b[0m\n",
      "548 labels saved to D:\\KMAI3\\EMB-DataWarehouse\\runs\\detect\\predictions\\labels\n"
     ]
    }
   ],
   "source": [
    "# Detection with best model\n",
    "best_model = YOLO(\"medical-detection/fine_tuned_model/weights/best.pt\")\n",
    "results = best_model.predict(\n",
    "    source=\"../data/photos\",\n",
    "    conf=0.25,\n",
    "    save=True,\n",
    "    save_txt=True,\n",
    "    save_conf=True,\n",
    "    imgsz=320,\n",
    "    name=\"predictions\"\n",
    ")\n"
   ]
  },
  {
   "cell_type": "code",
   "execution_count": 10,
   "metadata": {},
   "outputs": [
    {
     "name": "stdout",
     "output_type": "stream",
     "text": [
      "\n",
      "image 1/567 d:\\KMAI3\\EMB-DataWarehouse\\notebbooks\\..\\data\\photos\\CheMed123_10.jpg: 640x640 1 food-supliment, 157.4ms\n",
      "image 2/567 d:\\KMAI3\\EMB-DataWarehouse\\notebbooks\\..\\data\\photos\\CheMed123_11.jpg: 640x640 (no detections), 179.1ms\n",
      "image 3/567 d:\\KMAI3\\EMB-DataWarehouse\\notebbooks\\..\\data\\photos\\CheMed123_13.jpg: 640x640 (no detections), 130.8ms\n",
      "image 4/567 d:\\KMAI3\\EMB-DataWarehouse\\notebbooks\\..\\data\\photos\\CheMed123_14.jpg: 640x480 1 formula-milk, 118.3ms\n",
      "image 5/567 d:\\KMAI3\\EMB-DataWarehouse\\notebbooks\\..\\data\\photos\\CheMed123_15.jpg: 640x640 1 food-supliment, 1 pregnancy, 105.5ms\n",
      "image 6/567 d:\\KMAI3\\EMB-DataWarehouse\\notebbooks\\..\\data\\photos\\CheMed123_17.jpg: 640x480 1 formula-milk, 80.4ms\n",
      "image 7/567 d:\\KMAI3\\EMB-DataWarehouse\\notebbooks\\..\\data\\photos\\CheMed123_18.jpg: 544x640 3 formula-milks, 132.7ms\n",
      "image 8/567 d:\\KMAI3\\EMB-DataWarehouse\\notebbooks\\..\\data\\photos\\CheMed123_19.jpg: 480x640 1 food-supliment, 1 pregnancy, 119.3ms\n",
      "image 9/567 d:\\KMAI3\\EMB-DataWarehouse\\notebbooks\\..\\data\\photos\\CheMed123_2.jpg: 544x640 (no detections), 100.6ms\n",
      "image 10/567 d:\\KMAI3\\EMB-DataWarehouse\\notebbooks\\..\\data\\photos\\CheMed123_20.jpg: 480x640 1 food-supliment, 1 pregnancy, 96.1ms\n",
      "image 11/567 d:\\KMAI3\\EMB-DataWarehouse\\notebbooks\\..\\data\\photos\\CheMed123_21.jpg: 640x640 2 formula-milks, 117.1ms\n",
      "image 12/567 d:\\KMAI3\\EMB-DataWarehouse\\notebbooks\\..\\data\\photos\\CheMed123_22.jpg: 544x640 (no detections), 99.7ms\n",
      "image 13/567 d:\\KMAI3\\EMB-DataWarehouse\\notebbooks\\..\\data\\photos\\CheMed123_23.jpg: 544x640 1 formula-milk, 111.8ms\n",
      "image 14/567 d:\\KMAI3\\EMB-DataWarehouse\\notebbooks\\..\\data\\photos\\CheMed123_25.jpg: 544x640 (no detections), 101.4ms\n",
      "image 15/567 d:\\KMAI3\\EMB-DataWarehouse\\notebbooks\\..\\data\\photos\\CheMed123_26.jpg: 544x640 1 food-package, 105.0ms\n",
      "image 16/567 d:\\KMAI3\\EMB-DataWarehouse\\notebbooks\\..\\data\\photos\\CheMed123_27.jpg: 544x640 1 formula-milk, 103.0ms\n",
      "image 17/567 d:\\KMAI3\\EMB-DataWarehouse\\notebbooks\\..\\data\\photos\\CheMed123_29.jpg: 640x480 (no detections), 98.0ms\n",
      "image 18/567 d:\\KMAI3\\EMB-DataWarehouse\\notebbooks\\..\\data\\photos\\CheMed123_3.jpg: 640x640 1 formula-milk, 114.4ms\n",
      "image 19/567 d:\\KMAI3\\EMB-DataWarehouse\\notebbooks\\..\\data\\photos\\CheMed123_30.jpg: 544x640 (no detections), 101.9ms\n",
      "image 20/567 d:\\KMAI3\\EMB-DataWarehouse\\notebbooks\\..\\data\\photos\\CheMed123_31.jpg: 640x480 1 formula-milk, 99.1ms\n",
      "image 21/567 d:\\KMAI3\\EMB-DataWarehouse\\notebbooks\\..\\data\\photos\\CheMed123_32.jpg: 544x640 1 medicine, 1 pregnancy, 101.7ms\n",
      "image 22/567 d:\\KMAI3\\EMB-DataWarehouse\\notebbooks\\..\\data\\photos\\CheMed123_33.jpg: 544x640 1 cosmotic, 1 food-supliment, 90.1ms\n",
      "image 23/567 d:\\KMAI3\\EMB-DataWarehouse\\notebbooks\\..\\data\\photos\\CheMed123_34.jpg: 544x640 (no detections), 100.7ms\n",
      "image 24/567 d:\\KMAI3\\EMB-DataWarehouse\\notebbooks\\..\\data\\photos\\CheMed123_38.jpg: 544x640 (no detections), 107.7ms\n",
      "image 25/567 d:\\KMAI3\\EMB-DataWarehouse\\notebbooks\\..\\data\\photos\\CheMed123_39.jpg: 320x640 (no detections), 98.6ms\n",
      "image 26/567 d:\\KMAI3\\EMB-DataWarehouse\\notebbooks\\..\\data\\photos\\CheMed123_40.jpg: 352x640 (no detections), 121.7ms\n",
      "image 27/567 d:\\KMAI3\\EMB-DataWarehouse\\notebbooks\\..\\data\\photos\\CheMed123_41.jpg: 640x640 (no detections), 114.2ms\n",
      "image 28/567 d:\\KMAI3\\EMB-DataWarehouse\\notebbooks\\..\\data\\photos\\CheMed123_43.jpg: 640x640 (no detections), 167.4ms\n",
      "image 29/567 d:\\KMAI3\\EMB-DataWarehouse\\notebbooks\\..\\data\\photos\\CheMed123_44.jpg: 384x640 (no detections), 105.9ms\n",
      "image 30/567 d:\\KMAI3\\EMB-DataWarehouse\\notebbooks\\..\\data\\photos\\CheMed123_45.jpg: 640x640 (no detections), 139.9ms\n",
      "image 31/567 d:\\KMAI3\\EMB-DataWarehouse\\notebbooks\\..\\data\\photos\\CheMed123_46.jpg: 640x640 1 food-supliment, 1 pregnancy, 121.6ms\n",
      "image 32/567 d:\\KMAI3\\EMB-DataWarehouse\\notebbooks\\..\\data\\photos\\CheMed123_48.jpg: 640x640 (no detections), 129.0ms\n",
      "image 33/567 d:\\KMAI3\\EMB-DataWarehouse\\notebbooks\\..\\data\\photos\\CheMed123_49.jpg: 640x640 1 food-supliment, 1 formula-milk, 126.0ms\n",
      "image 34/567 d:\\KMAI3\\EMB-DataWarehouse\\notebbooks\\..\\data\\photos\\CheMed123_50.jpg: 640x640 1 formula-milk, 117.8ms\n",
      "image 35/567 d:\\KMAI3\\EMB-DataWarehouse\\notebbooks\\..\\data\\photos\\CheMed123_52.jpg: 640x640 (no detections), 117.5ms\n",
      "image 36/567 d:\\KMAI3\\EMB-DataWarehouse\\notebbooks\\..\\data\\photos\\CheMed123_53.jpg: 544x640 1 medicine, 1 pregnancy, 97.3ms\n",
      "image 37/567 d:\\KMAI3\\EMB-DataWarehouse\\notebbooks\\..\\data\\photos\\CheMed123_55.jpg: 640x640 1 food-supliment, 1 formula-milk, 127.1ms\n",
      "image 38/567 d:\\KMAI3\\EMB-DataWarehouse\\notebbooks\\..\\data\\photos\\CheMed123_56.jpg: 640x640 1 formula-milk, 1 medicine, 105.4ms\n",
      "image 39/567 d:\\KMAI3\\EMB-DataWarehouse\\notebbooks\\..\\data\\photos\\CheMed123_58.jpg: 544x640 (no detections), 99.1ms\n",
      "image 40/567 d:\\KMAI3\\EMB-DataWarehouse\\notebbooks\\..\\data\\photos\\CheMed123_59.jpg: 640x640 1 cosmotic, 3 food-supliments, 1 pregnancy, 116.1ms\n",
      "image 41/567 d:\\KMAI3\\EMB-DataWarehouse\\notebbooks\\..\\data\\photos\\CheMed123_60.jpg: 640x640 1 formula-milk, 113.0ms\n",
      "image 42/567 d:\\KMAI3\\EMB-DataWarehouse\\notebbooks\\..\\data\\photos\\CheMed123_64.jpg: 640x640 1 food-supliment, 1 formula-milk, 1 pregnancy, 115.7ms\n",
      "image 43/567 d:\\KMAI3\\EMB-DataWarehouse\\notebbooks\\..\\data\\photos\\CheMed123_67.jpg: 640x640 2 food-supliments, 1 formula-milk, 113.2ms\n",
      "image 44/567 d:\\KMAI3\\EMB-DataWarehouse\\notebbooks\\..\\data\\photos\\CheMed123_70.jpg: 640x384 (no detections), 100.0ms\n",
      "image 45/567 d:\\KMAI3\\EMB-DataWarehouse\\notebbooks\\..\\data\\photos\\CheMed123_71.jpg: 640x288 (no detections), 86.0ms\n",
      "image 46/567 d:\\KMAI3\\EMB-DataWarehouse\\notebbooks\\..\\data\\photos\\CheMed123_74.jpg: 640x640 1 lotion-moisture, 113.7ms\n",
      "image 47/567 d:\\KMAI3\\EMB-DataWarehouse\\notebbooks\\..\\data\\photos\\CheMed123_75.jpg: 640x640 1 food-supliment, 3 formula-milks, 112.4ms\n",
      "image 48/567 d:\\KMAI3\\EMB-DataWarehouse\\notebbooks\\..\\data\\photos\\CheMed123_76.jpg: 640x352 (no detections), 131.6ms\n",
      "image 49/567 d:\\KMAI3\\EMB-DataWarehouse\\notebbooks\\..\\data\\photos\\CheMed123_77.jpg: 640x640 3 food-supliments, 1 formula-milk, 2 medicines, 1 pregnancy, 106.7ms\n",
      "image 50/567 d:\\KMAI3\\EMB-DataWarehouse\\notebbooks\\..\\data\\photos\\CheMed123_78.jpg: 640x480 1 food-package, 1 food-supliment, 1 formula-milk, 101.3ms\n",
      "image 51/567 d:\\KMAI3\\EMB-DataWarehouse\\notebbooks\\..\\data\\photos\\CheMed123_79.jpg: 640x640 1 food-supliment, 1 formula-milk, 117.1ms\n",
      "image 52/567 d:\\KMAI3\\EMB-DataWarehouse\\notebbooks\\..\\data\\photos\\CheMed123_80.jpg: 640x480 (no detections), 81.5ms\n",
      "image 53/567 d:\\KMAI3\\EMB-DataWarehouse\\notebbooks\\..\\data\\photos\\CheMed123_81.jpg: 640x640 1 cosmotic, 4 food-supliments, 136.3ms\n",
      "image 54/567 d:\\KMAI3\\EMB-DataWarehouse\\notebbooks\\..\\data\\photos\\CheMed123_82.jpg: 640x640 1 cosmotic, 3 food-supliments, 110.3ms\n",
      "image 55/567 d:\\KMAI3\\EMB-DataWarehouse\\notebbooks\\..\\data\\photos\\CheMed123_85.jpg: 640x640 1 formula-milk, 117.0ms\n",
      "image 56/567 d:\\KMAI3\\EMB-DataWarehouse\\notebbooks\\..\\data\\photos\\CheMed123_86.jpg: 640x640 1 food-supliment, 135.4ms\n",
      "image 57/567 d:\\KMAI3\\EMB-DataWarehouse\\notebbooks\\..\\data\\photos\\CheMed123_87.jpg: 640x640 2 food-supliments, 130.0ms\n",
      "image 58/567 d:\\KMAI3\\EMB-DataWarehouse\\notebbooks\\..\\data\\photos\\CheMed123_88.jpg: 640x640 1 food-package, 1 food-supliment, 1 formula-milk, 118.7ms\n",
      "image 59/567 d:\\KMAI3\\EMB-DataWarehouse\\notebbooks\\..\\data\\photos\\CheMed123_9.jpg: 544x640 (no detections), 108.3ms\n",
      "image 60/567 d:\\KMAI3\\EMB-DataWarehouse\\notebbooks\\..\\data\\photos\\CheMed123_90.jpg: 640x640 1 food-supliment, 2 formula-milks, 2 medicines, 143.9ms\n",
      "image 61/567 d:\\KMAI3\\EMB-DataWarehouse\\notebbooks\\..\\data\\photos\\CheMed123_91.jpg: 640x640 (no detections), 120.1ms\n",
      "image 62/567 d:\\KMAI3\\EMB-DataWarehouse\\notebbooks\\..\\data\\photos\\CheMed123_92.jpg: 640x640 1 formula-milk, 147.1ms\n",
      "image 63/567 d:\\KMAI3\\EMB-DataWarehouse\\notebbooks\\..\\data\\photos\\CheMed123_93.jpg: 640x640 1 food-package, 114.5ms\n",
      "image 64/567 d:\\KMAI3\\EMB-DataWarehouse\\notebbooks\\..\\data\\photos\\CheMed123_94.jpg: 640x640 (no detections), 163.7ms\n",
      "image 65/567 d:\\KMAI3\\EMB-DataWarehouse\\notebbooks\\..\\data\\photos\\CheMed123_95.jpg: 640x640 1 formula-milk, 119.1ms\n",
      "image 66/567 d:\\KMAI3\\EMB-DataWarehouse\\notebbooks\\..\\data\\photos\\CheMed123_96.jpg: 640x640 1 food-package, 1 food-supliment, 1 formula-milk, 129.5ms\n",
      "image 67/567 d:\\KMAI3\\EMB-DataWarehouse\\notebbooks\\..\\data\\photos\\CheMed123_97.jpg: 640x640 1 formula-milk, 133.7ms\n",
      "image 68/567 d:\\KMAI3\\EMB-DataWarehouse\\notebbooks\\..\\data\\photos\\lobelia4cosmetics_14697.jpg: 640x640 1 cosmotic, 1 food-supliment, 1 formula-milk, 114.6ms\n",
      "image 69/567 d:\\KMAI3\\EMB-DataWarehouse\\notebbooks\\..\\data\\photos\\lobelia4cosmetics_14698.jpg: 640x640 1 food-supliment, 115.7ms\n",
      "image 70/567 d:\\KMAI3\\EMB-DataWarehouse\\notebbooks\\..\\data\\photos\\lobelia4cosmetics_14699.jpg: 640x640 3 food-supliments, 1 pregnancy, 129.7ms\n",
      "image 71/567 d:\\KMAI3\\EMB-DataWarehouse\\notebbooks\\..\\data\\photos\\lobelia4cosmetics_14700.jpg: 640x640 1 food-supliment, 1 formula-milk, 113.3ms\n",
      "image 72/567 d:\\KMAI3\\EMB-DataWarehouse\\notebbooks\\..\\data\\photos\\lobelia4cosmetics_14701.jpg: 640x640 1 food-supliment, 133.8ms\n",
      "image 73/567 d:\\KMAI3\\EMB-DataWarehouse\\notebbooks\\..\\data\\photos\\lobelia4cosmetics_14702.jpg: 640x640 1 cosmotic, 1 food-supliment, 1 pregnancy, 108.2ms\n",
      "image 74/567 d:\\KMAI3\\EMB-DataWarehouse\\notebbooks\\..\\data\\photos\\lobelia4cosmetics_14703.jpg: 640x640 1 food-supliment, 1 formula-milk, 117.0ms\n",
      "image 75/567 d:\\KMAI3\\EMB-DataWarehouse\\notebbooks\\..\\data\\photos\\lobelia4cosmetics_14704.jpg: 640x640 1 food-package, 1 food-supliment, 1 pregnancy, 126.8ms\n",
      "image 76/567 d:\\KMAI3\\EMB-DataWarehouse\\notebbooks\\..\\data\\photos\\lobelia4cosmetics_14705.jpg: 640x640 1 food-supliment, 1 formula-milk, 113.7ms\n",
      "image 77/567 d:\\KMAI3\\EMB-DataWarehouse\\notebbooks\\..\\data\\photos\\lobelia4cosmetics_14706.jpg: 640x640 3 food-supliments, 1 pregnancy, 116.7ms\n",
      "image 78/567 d:\\KMAI3\\EMB-DataWarehouse\\notebbooks\\..\\data\\photos\\lobelia4cosmetics_14707.jpg: 640x640 1 food-supliment, 2 formula-milks, 2 pregnancys, 111.0ms\n",
      "image 79/567 d:\\KMAI3\\EMB-DataWarehouse\\notebbooks\\..\\data\\photos\\lobelia4cosmetics_14708.jpg: 640x640 1 food-supliment, 1 formula-milk, 116.1ms\n",
      "image 80/567 d:\\KMAI3\\EMB-DataWarehouse\\notebbooks\\..\\data\\photos\\lobelia4cosmetics_14709.jpg: 640x640 1 food-supliment, 1 formula-milk, 117.1ms\n",
      "image 81/567 d:\\KMAI3\\EMB-DataWarehouse\\notebbooks\\..\\data\\photos\\lobelia4cosmetics_14710.jpg: 640x640 1 food-supliment, 1 formula-milk, 1 medicine, 118.9ms\n",
      "image 82/567 d:\\KMAI3\\EMB-DataWarehouse\\notebbooks\\..\\data\\photos\\lobelia4cosmetics_14711.jpg: 640x640 1 food-supliment, 107.5ms\n",
      "image 83/567 d:\\KMAI3\\EMB-DataWarehouse\\notebbooks\\..\\data\\photos\\lobelia4cosmetics_14712.jpg: 640x640 1 cosmotic, 2 food-supliments, 1 formula-milk, 130.6ms\n",
      "image 84/567 d:\\KMAI3\\EMB-DataWarehouse\\notebbooks\\..\\data\\photos\\lobelia4cosmetics_14713.jpg: 640x640 1 cosmotic, 1 food-supliment, 1 pregnancy, 118.2ms\n",
      "image 85/567 d:\\KMAI3\\EMB-DataWarehouse\\notebbooks\\..\\data\\photos\\lobelia4cosmetics_14714.jpg: 640x640 1 food-supliment, 1 formula-milk, 130.0ms\n",
      "image 86/567 d:\\KMAI3\\EMB-DataWarehouse\\notebbooks\\..\\data\\photos\\lobelia4cosmetics_14715.jpg: 640x640 1 food-supliment, 1 pregnancy, 117.7ms\n",
      "image 87/567 d:\\KMAI3\\EMB-DataWarehouse\\notebbooks\\..\\data\\photos\\lobelia4cosmetics_14716.jpg: 640x640 3 cosmotics, 1 formula-milk, 116.6ms\n",
      "image 88/567 d:\\KMAI3\\EMB-DataWarehouse\\notebbooks\\..\\data\\photos\\lobelia4cosmetics_14717.jpg: 480x640 1 food-supliment, 1 formula-milk, 1 lotion-moisture, 97.8ms\n",
      "image 89/567 d:\\KMAI3\\EMB-DataWarehouse\\notebbooks\\..\\data\\photos\\lobelia4cosmetics_14718.jpg: 640x640 1 food-supliment, 2 formula-milks, 114.6ms\n",
      "image 90/567 d:\\KMAI3\\EMB-DataWarehouse\\notebbooks\\..\\data\\photos\\lobelia4cosmetics_14719.jpg: 640x640 1 food-supliment, 1 formula-milk, 1 medicine, 136.7ms\n",
      "image 91/567 d:\\KMAI3\\EMB-DataWarehouse\\notebbooks\\..\\data\\photos\\lobelia4cosmetics_14720.jpg: 640x640 1 food-supliment, 112.2ms\n",
      "image 92/567 d:\\KMAI3\\EMB-DataWarehouse\\notebbooks\\..\\data\\photos\\lobelia4cosmetics_14721.jpg: 640x640 1 food-supliment, 1 formula-milk, 1 medicine, 132.7ms\n",
      "image 93/567 d:\\KMAI3\\EMB-DataWarehouse\\notebbooks\\..\\data\\photos\\lobelia4cosmetics_14722.jpg: 640x640 3 food-supliments, 1 pregnancy, 122.3ms\n",
      "image 94/567 d:\\KMAI3\\EMB-DataWarehouse\\notebbooks\\..\\data\\photos\\lobelia4cosmetics_14723.jpg: 640x640 1 food-supliment, 1 formula-milk, 117.7ms\n",
      "image 95/567 d:\\KMAI3\\EMB-DataWarehouse\\notebbooks\\..\\data\\photos\\lobelia4cosmetics_14724.jpg: 640x640 1 food-supliment, 137.5ms\n",
      "image 96/567 d:\\KMAI3\\EMB-DataWarehouse\\notebbooks\\..\\data\\photos\\lobelia4cosmetics_14725.jpg: 640x640 1 food-supliment, 1 formula-milk, 121.5ms\n",
      "image 97/567 d:\\KMAI3\\EMB-DataWarehouse\\notebbooks\\..\\data\\photos\\lobelia4cosmetics_14726.jpg: 640x640 1 food-supliment, 1 formula-milk, 1 pregnancy, 118.8ms\n",
      "image 98/567 d:\\KMAI3\\EMB-DataWarehouse\\notebbooks\\..\\data\\photos\\lobelia4cosmetics_14727.jpg: 640x640 1 food-supliment, 1 formula-milk, 118.9ms\n",
      "image 99/567 d:\\KMAI3\\EMB-DataWarehouse\\notebbooks\\..\\data\\photos\\lobelia4cosmetics_14728.jpg: 640x640 1 food-supliment, 1 formula-milk, 118.8ms\n",
      "image 100/567 d:\\KMAI3\\EMB-DataWarehouse\\notebbooks\\..\\data\\photos\\lobelia4cosmetics_14729.jpg: 640x640 2 formula-milks, 114.5ms\n",
      "image 101/567 d:\\KMAI3\\EMB-DataWarehouse\\notebbooks\\..\\data\\photos\\lobelia4cosmetics_14730.jpg: 576x640 1 food-supliment, 2 formula-milks, 145.7ms\n",
      "image 102/567 d:\\KMAI3\\EMB-DataWarehouse\\notebbooks\\..\\data\\photos\\lobelia4cosmetics_14731.jpg: 640x640 1 food-supliment, 2 formula-milks, 128.1ms\n",
      "image 103/567 d:\\KMAI3\\EMB-DataWarehouse\\notebbooks\\..\\data\\photos\\lobelia4cosmetics_14732.jpg: 640x640 1 food-supliment, 1 formula-milk, 1 pregnancy, 126.5ms\n",
      "image 104/567 d:\\KMAI3\\EMB-DataWarehouse\\notebbooks\\..\\data\\photos\\lobelia4cosmetics_14733.jpg: 640x640 1 food-supliment, 1 pregnancy, 118.0ms\n",
      "image 105/567 d:\\KMAI3\\EMB-DataWarehouse\\notebbooks\\..\\data\\photos\\lobelia4cosmetics_14734.jpg: 640x640 1 food-supliment, 130.2ms\n",
      "image 106/567 d:\\KMAI3\\EMB-DataWarehouse\\notebbooks\\..\\data\\photos\\lobelia4cosmetics_14735.jpg: 480x640 1 food-supliment, 1 formula-milk, 1 lotion-moisture, 101.9ms\n",
      "image 107/567 d:\\KMAI3\\EMB-DataWarehouse\\notebbooks\\..\\data\\photos\\lobelia4cosmetics_14736.jpg: 640x640 (no detections), 129.7ms\n",
      "image 108/567 d:\\KMAI3\\EMB-DataWarehouse\\notebbooks\\..\\data\\photos\\lobelia4cosmetics_14737.jpg: 640x480 1 food-supliment, 1 formula-milk, 98.2ms\n",
      "image 109/567 d:\\KMAI3\\EMB-DataWarehouse\\notebbooks\\..\\data\\photos\\lobelia4cosmetics_14738.jpg: 640x640 (no detections), 136.2ms\n",
      "image 110/567 d:\\KMAI3\\EMB-DataWarehouse\\notebbooks\\..\\data\\photos\\lobelia4cosmetics_14739.jpg: 640x640 1 food-package, 1 food-supliment, 1 formula-milk, 129.7ms\n",
      "image 111/567 d:\\KMAI3\\EMB-DataWarehouse\\notebbooks\\..\\data\\photos\\lobelia4cosmetics_14740.jpg: 640x640 1 food-package, 1 food-supliment, 127.8ms\n",
      "image 112/567 d:\\KMAI3\\EMB-DataWarehouse\\notebbooks\\..\\data\\photos\\lobelia4cosmetics_14741.jpg: 640x640 (no detections), 119.8ms\n",
      "image 113/567 d:\\KMAI3\\EMB-DataWarehouse\\notebbooks\\..\\data\\photos\\lobelia4cosmetics_14742.jpg: 544x640 3 food-supliments, 114.6ms\n",
      "image 114/567 d:\\KMAI3\\EMB-DataWarehouse\\notebbooks\\..\\data\\photos\\lobelia4cosmetics_14743.jpg: 640x640 1 food-package, 1 food-supliment, 120.5ms\n",
      "image 115/567 d:\\KMAI3\\EMB-DataWarehouse\\notebbooks\\..\\data\\photos\\lobelia4cosmetics_14744.jpg: 640x640 (no detections), 109.8ms\n",
      "image 116/567 d:\\KMAI3\\EMB-DataWarehouse\\notebbooks\\..\\data\\photos\\lobelia4cosmetics_14745.jpg: 640x640 1 food-supliment, 137.5ms\n",
      "image 117/567 d:\\KMAI3\\EMB-DataWarehouse\\notebbooks\\..\\data\\photos\\lobelia4cosmetics_14746.jpg: 640x640 1 food-package, 1 food-supliment, 117.7ms\n",
      "image 118/567 d:\\KMAI3\\EMB-DataWarehouse\\notebbooks\\..\\data\\photos\\lobelia4cosmetics_14747.jpg: 640x640 1 food-package, 1 food-supliment, 1 formula-milk, 114.2ms\n",
      "image 119/567 d:\\KMAI3\\EMB-DataWarehouse\\notebbooks\\..\\data\\photos\\lobelia4cosmetics_14748.jpg: 640x640 1 food-supliment, 1 formula-milk, 122.8ms\n",
      "image 120/567 d:\\KMAI3\\EMB-DataWarehouse\\notebbooks\\..\\data\\photos\\lobelia4cosmetics_14749.jpg: 640x640 3 food-supliments, 1 pregnancy, 125.1ms\n",
      "image 121/567 d:\\KMAI3\\EMB-DataWarehouse\\notebbooks\\..\\data\\photos\\lobelia4cosmetics_14750.jpg: 640x640 1 food-supliment, 2 formula-milks, 2 pregnancys, 117.0ms\n",
      "image 122/567 d:\\KMAI3\\EMB-DataWarehouse\\notebbooks\\..\\data\\photos\\lobelia4cosmetics_14751.jpg: 640x640 1 food-supliment, 124.6ms\n",
      "image 123/567 d:\\KMAI3\\EMB-DataWarehouse\\notebbooks\\..\\data\\photos\\lobelia4cosmetics_14752.jpg: 576x640 1 food-supliment, 2 formula-milks, 117.6ms\n",
      "image 124/567 d:\\KMAI3\\EMB-DataWarehouse\\notebbooks\\..\\data\\photos\\lobelia4cosmetics_14753.jpg: 640x640 1 food-supliment, 1 formula-milk, 134.2ms\n",
      "image 125/567 d:\\KMAI3\\EMB-DataWarehouse\\notebbooks\\..\\data\\photos\\lobelia4cosmetics_14754.jpg: 576x640 1 food-supliment, 2 formula-milks, 139.4ms\n",
      "image 126/567 d:\\KMAI3\\EMB-DataWarehouse\\notebbooks\\..\\data\\photos\\lobelia4cosmetics_14755.jpg: 640x640 2 formula-milks, 139.1ms\n",
      "image 127/567 d:\\KMAI3\\EMB-DataWarehouse\\notebbooks\\..\\data\\photos\\lobelia4cosmetics_14756.jpg: 640x640 1 food-supliment, 1 formula-milk, 1 pregnancy, 127.4ms\n",
      "image 128/567 d:\\KMAI3\\EMB-DataWarehouse\\notebbooks\\..\\data\\photos\\lobelia4cosmetics_14757.jpg: 640x640 1 food-supliment, 1 formula-milk, 151.4ms\n",
      "image 129/567 d:\\KMAI3\\EMB-DataWarehouse\\notebbooks\\..\\data\\photos\\lobelia4cosmetics_14758.jpg: 640x640 1 food-supliment, 2 formula-milks, 121.3ms\n",
      "image 130/567 d:\\KMAI3\\EMB-DataWarehouse\\notebbooks\\..\\data\\photos\\lobelia4cosmetics_14759.jpg: 640x640 1 food-supliment, 1 formula-milk, 1 pregnancy, 132.3ms\n",
      "image 131/567 d:\\KMAI3\\EMB-DataWarehouse\\notebbooks\\..\\data\\photos\\lobelia4cosmetics_14760.jpg: 640x640 1 food-supliment, 1 pregnancy, 124.3ms\n",
      "image 132/567 d:\\KMAI3\\EMB-DataWarehouse\\notebbooks\\..\\data\\photos\\lobelia4cosmetics_14761.jpg: 640x640 1 food-supliment, 133.8ms\n",
      "image 133/567 d:\\KMAI3\\EMB-DataWarehouse\\notebbooks\\..\\data\\photos\\lobelia4cosmetics_14762.jpg: 640x512 1 food-supliment, 122.5ms\n",
      "image 134/567 d:\\KMAI3\\EMB-DataWarehouse\\notebbooks\\..\\data\\photos\\lobelia4cosmetics_14763.jpg: 640x640 1 food-supliment, 1 formula-milk, 1 pregnancy, 110.6ms\n",
      "image 135/567 d:\\KMAI3\\EMB-DataWarehouse\\notebbooks\\..\\data\\photos\\lobelia4cosmetics_14764.jpg: 640x640 1 food-supliment, 1 formula-milk, 111.2ms\n",
      "image 136/567 d:\\KMAI3\\EMB-DataWarehouse\\notebbooks\\..\\data\\photos\\lobelia4cosmetics_14765.jpg: 640x640 1 food-supliment, 1 formula-milk, 121.8ms\n",
      "image 137/567 d:\\KMAI3\\EMB-DataWarehouse\\notebbooks\\..\\data\\photos\\lobelia4cosmetics_14766.jpg: 640x544 1 formula-milk, 180.1ms\n",
      "image 138/567 d:\\KMAI3\\EMB-DataWarehouse\\notebbooks\\..\\data\\photos\\lobelia4cosmetics_14767.jpg: 640x640 1 food-supliment, 1 formula-milk, 115.7ms\n",
      "image 139/567 d:\\KMAI3\\EMB-DataWarehouse\\notebbooks\\..\\data\\photos\\lobelia4cosmetics_14768.jpg: 640x640 1 food-supliment, 1 formula-milk, 132.2ms\n",
      "image 140/567 d:\\KMAI3\\EMB-DataWarehouse\\notebbooks\\..\\data\\photos\\lobelia4cosmetics_14769.jpg: 640x640 1 food-supliment, 1 formula-milk, 1 medicine, 113.7ms\n",
      "image 141/567 d:\\KMAI3\\EMB-DataWarehouse\\notebbooks\\..\\data\\photos\\lobelia4cosmetics_14770.jpg: 640x640 1 cosmotic, 1 food-supliment, 1 formula-milk, 115.3ms\n",
      "image 142/567 d:\\KMAI3\\EMB-DataWarehouse\\notebbooks\\..\\data\\photos\\lobelia4cosmetics_14771.jpg: 640x640 1 cosmotic, 2 food-supliments, 1 formula-milk, 130.3ms\n",
      "image 143/567 d:\\KMAI3\\EMB-DataWarehouse\\notebbooks\\..\\data\\photos\\lobelia4cosmetics_14772.jpg: 640x640 1 cosmotic, 1 food-supliment, 1 pregnancy, 127.8ms\n",
      "image 144/567 d:\\KMAI3\\EMB-DataWarehouse\\notebbooks\\..\\data\\photos\\lobelia4cosmetics_14773.jpg: 640x640 1 food-supliment, 123.1ms\n",
      "image 145/567 d:\\KMAI3\\EMB-DataWarehouse\\notebbooks\\..\\data\\photos\\lobelia4cosmetics_14774.jpg: 640x640 1 food-supliment, 129.1ms\n",
      "image 146/567 d:\\KMAI3\\EMB-DataWarehouse\\notebbooks\\..\\data\\photos\\lobelia4cosmetics_14775.jpg: 640x640 1 food-supliment, 117.6ms\n",
      "image 147/567 d:\\KMAI3\\EMB-DataWarehouse\\notebbooks\\..\\data\\photos\\lobelia4cosmetics_14776.jpg: 640x640 1 food-supliment, 110.0ms\n",
      "image 148/567 d:\\KMAI3\\EMB-DataWarehouse\\notebbooks\\..\\data\\photos\\lobelia4cosmetics_14777.jpg: 576x640 1 food-supliment, 2 formula-milks, 121.1ms\n",
      "image 149/567 d:\\KMAI3\\EMB-DataWarehouse\\notebbooks\\..\\data\\photos\\lobelia4cosmetics_14778.jpg: 640x640 1 food-supliment, 1 formula-milk, 131.9ms\n",
      "image 150/567 d:\\KMAI3\\EMB-DataWarehouse\\notebbooks\\..\\data\\photos\\lobelia4cosmetics_14779.jpg: 576x640 1 food-supliment, 2 formula-milks, 119.9ms\n",
      "image 151/567 d:\\KMAI3\\EMB-DataWarehouse\\notebbooks\\..\\data\\photos\\lobelia4cosmetics_14780.jpg: 640x640 2 formula-milks, 121.3ms\n",
      "image 152/567 d:\\KMAI3\\EMB-DataWarehouse\\notebbooks\\..\\data\\photos\\lobelia4cosmetics_14781.jpg: 640x640 1 food-supliment, 1 formula-milk, 1 pregnancy, 118.7ms\n",
      "image 153/567 d:\\KMAI3\\EMB-DataWarehouse\\notebbooks\\..\\data\\photos\\lobelia4cosmetics_14782.jpg: 640x640 1 food-supliment, 1 formula-milk, 115.4ms\n",
      "image 154/567 d:\\KMAI3\\EMB-DataWarehouse\\notebbooks\\..\\data\\photos\\lobelia4cosmetics_14783.jpg: 640x640 1 food-supliment, 2 formula-milks, 111.7ms\n",
      "image 155/567 d:\\KMAI3\\EMB-DataWarehouse\\notebbooks\\..\\data\\photos\\lobelia4cosmetics_14784.jpg: 640x640 1 food-supliment, 1 formula-milk, 1 pregnancy, 116.0ms\n",
      "image 156/567 d:\\KMAI3\\EMB-DataWarehouse\\notebbooks\\..\\data\\photos\\lobelia4cosmetics_14785.jpg: 640x640 1 food-supliment, 1 pregnancy, 117.8ms\n",
      "image 157/567 d:\\KMAI3\\EMB-DataWarehouse\\notebbooks\\..\\data\\photos\\lobelia4cosmetics_14786.jpg: 640x640 1 food-supliment, 109.6ms\n",
      "image 158/567 d:\\KMAI3\\EMB-DataWarehouse\\notebbooks\\..\\data\\photos\\lobelia4cosmetics_14787.jpg: 640x512 1 food-supliment, 96.8ms\n",
      "image 159/567 d:\\KMAI3\\EMB-DataWarehouse\\notebbooks\\..\\data\\photos\\lobelia4cosmetics_14788.jpg: 640x640 1 food-package, 1 food-supliment, 1 formula-milk, 129.6ms\n",
      "image 160/567 d:\\KMAI3\\EMB-DataWarehouse\\notebbooks\\..\\data\\photos\\lobelia4cosmetics_14789.jpg: 640x640 (no detections), 119.7ms\n",
      "image 161/567 d:\\KMAI3\\EMB-DataWarehouse\\notebbooks\\..\\data\\photos\\lobelia4cosmetics_14790.jpg: 640x640 1 food-supliment, 135.1ms\n",
      "image 162/567 d:\\KMAI3\\EMB-DataWarehouse\\notebbooks\\..\\data\\photos\\lobelia4cosmetics_14791.jpg: 640x640 1 food-supliment, 1 formula-milk, 136.6ms\n",
      "image 163/567 d:\\KMAI3\\EMB-DataWarehouse\\notebbooks\\..\\data\\photos\\lobelia4cosmetics_14792.jpg: 640x640 3 food-supliments, 1 pregnancy, 127.9ms\n",
      "image 164/567 d:\\KMAI3\\EMB-DataWarehouse\\notebbooks\\..\\data\\photos\\lobelia4cosmetics_14793.jpg: 640x640 1 food-supliment, 2 formula-milks, 2 pregnancys, 128.5ms\n",
      "image 165/567 d:\\KMAI3\\EMB-DataWarehouse\\notebbooks\\..\\data\\photos\\lobelia4cosmetics_14794.jpg: 640x640 1 food-supliment, 1 formula-milk, 115.8ms\n",
      "image 166/567 d:\\KMAI3\\EMB-DataWarehouse\\notebbooks\\..\\data\\photos\\lobelia4cosmetics_14795.jpg: 640x512 1 food-supliment, 113.3ms\n",
      "image 167/567 d:\\KMAI3\\EMB-DataWarehouse\\notebbooks\\..\\data\\photos\\lobelia4cosmetics_14796.jpg: 640x640 1 food-supliment, 1 formula-milk, 1 pregnancy, 116.8ms\n",
      "image 168/567 d:\\KMAI3\\EMB-DataWarehouse\\notebbooks\\..\\data\\photos\\lobelia4cosmetics_14797.jpg: 640x640 1 food-supliment, 1 formula-milk, 127.4ms\n",
      "image 169/567 d:\\KMAI3\\EMB-DataWarehouse\\notebbooks\\..\\data\\photos\\lobelia4cosmetics_14798.jpg: 640x640 1 food-supliment, 1 formula-milk, 129.1ms\n",
      "image 170/567 d:\\KMAI3\\EMB-DataWarehouse\\notebbooks\\..\\data\\photos\\lobelia4cosmetics_14799.jpg: 640x544 1 formula-milk, 97.0ms\n",
      "image 171/567 d:\\KMAI3\\EMB-DataWarehouse\\notebbooks\\..\\data\\photos\\lobelia4cosmetics_14800.jpg: 640x640 1 food-supliment, 1 formula-milk, 129.9ms\n",
      "image 172/567 d:\\KMAI3\\EMB-DataWarehouse\\notebbooks\\..\\data\\photos\\lobelia4cosmetics_14801.jpg: 640x640 1 food-supliment, 1 formula-milk, 124.4ms\n",
      "image 173/567 d:\\KMAI3\\EMB-DataWarehouse\\notebbooks\\..\\data\\photos\\lobelia4cosmetics_14802.jpg: 640x640 1 cosmotic, 1 food-supliment, 132.9ms\n",
      "image 174/567 d:\\KMAI3\\EMB-DataWarehouse\\notebbooks\\..\\data\\photos\\lobelia4cosmetics_14803.jpg: 640x640 1 food-supliment, 113.8ms\n",
      "image 175/567 d:\\KMAI3\\EMB-DataWarehouse\\notebbooks\\..\\data\\photos\\lobelia4cosmetics_14804.jpg: 640x640 1 food-supliment, 175.1ms\n",
      "image 176/567 d:\\KMAI3\\EMB-DataWarehouse\\notebbooks\\..\\data\\photos\\lobelia4cosmetics_14805.jpg: 640x608 1 food-supliment, 148.8ms\n",
      "image 177/567 d:\\KMAI3\\EMB-DataWarehouse\\notebbooks\\..\\data\\photos\\lobelia4cosmetics_14806.jpg: 640x640 1 food-supliment, 2 formula-milks, 112.8ms\n",
      "image 178/567 d:\\KMAI3\\EMB-DataWarehouse\\notebbooks\\..\\data\\photos\\lobelia4cosmetics_14807.jpg: 640x640 1 food-supliment, 1 formula-milk, 1 pregnancy, 131.8ms\n",
      "image 179/567 d:\\KMAI3\\EMB-DataWarehouse\\notebbooks\\..\\data\\photos\\lobelia4cosmetics_14808.jpg: 480x640 1 food-supliment, 1 formula-milk, 1 lotion-moisture, 81.8ms\n",
      "image 180/567 d:\\KMAI3\\EMB-DataWarehouse\\notebbooks\\..\\data\\photos\\lobelia4cosmetics_14809.jpg: 640x480 1 food-supliment, 1 formula-milk, 102.6ms\n",
      "image 181/567 d:\\KMAI3\\EMB-DataWarehouse\\notebbooks\\..\\data\\photos\\lobelia4cosmetics_14810.jpg: 640x640 (no detections), 140.8ms\n",
      "image 182/567 d:\\KMAI3\\EMB-DataWarehouse\\notebbooks\\..\\data\\photos\\lobelia4cosmetics_14811.jpg: 544x640 3 food-supliments, 108.9ms\n",
      "image 183/567 d:\\KMAI3\\EMB-DataWarehouse\\notebbooks\\..\\data\\photos\\lobelia4cosmetics_14812.jpg: 640x640 1 food-package, 1 food-supliment, 129.4ms\n",
      "image 184/567 d:\\KMAI3\\EMB-DataWarehouse\\notebbooks\\..\\data\\photos\\lobelia4cosmetics_14813.jpg: 640x640 (no detections), 119.8ms\n",
      "image 185/567 d:\\KMAI3\\EMB-DataWarehouse\\notebbooks\\..\\data\\photos\\lobelia4cosmetics_14814.jpg: 640x640 1 food-supliment, 139.6ms\n",
      "image 186/567 d:\\KMAI3\\EMB-DataWarehouse\\notebbooks\\..\\data\\photos\\lobelia4cosmetics_14815.jpg: 576x640 1 food-supliment, 2 formula-milks, 116.5ms\n",
      "image 187/567 d:\\KMAI3\\EMB-DataWarehouse\\notebbooks\\..\\data\\photos\\lobelia4cosmetics_14816.jpg: 640x640 1 food-supliment, 1 formula-milk, 137.8ms\n",
      "image 188/567 d:\\KMAI3\\EMB-DataWarehouse\\notebbooks\\..\\data\\photos\\lobelia4cosmetics_14817.jpg: 640x640 1 food-supliment, 1 formula-milk, 1 pregnancy, 117.5ms\n",
      "image 189/567 d:\\KMAI3\\EMB-DataWarehouse\\notebbooks\\..\\data\\photos\\lobelia4cosmetics_14818.jpg: 640x640 1 food-supliment, 1 formula-milk, 130.2ms\n",
      "image 190/567 d:\\KMAI3\\EMB-DataWarehouse\\notebbooks\\..\\data\\photos\\lobelia4cosmetics_14819.jpg: 640x640 1 food-supliment, 2 formula-milks, 117.9ms\n",
      "image 191/567 d:\\KMAI3\\EMB-DataWarehouse\\notebbooks\\..\\data\\photos\\lobelia4cosmetics_14820.jpg: 640x640 1 food-supliment, 1 formula-milk, 1 pregnancy, 112.4ms\n",
      "image 192/567 d:\\KMAI3\\EMB-DataWarehouse\\notebbooks\\..\\data\\photos\\lobelia4cosmetics_14821.jpg: 640x640 1 food-supliment, 1 pregnancy, 110.6ms\n",
      "image 193/567 d:\\KMAI3\\EMB-DataWarehouse\\notebbooks\\..\\data\\photos\\lobelia4cosmetics_14822.jpg: 640x640 1 food-supliment, 1 formula-milk, 141.9ms\n",
      "image 194/567 d:\\KMAI3\\EMB-DataWarehouse\\notebbooks\\..\\data\\photos\\lobelia4cosmetics_14823.jpg: 640x640 1 food-supliment, 1 formula-milk, 118.3ms\n",
      "image 195/567 d:\\KMAI3\\EMB-DataWarehouse\\notebbooks\\..\\data\\photos\\lobelia4cosmetics_14824.jpg: 640x480 1 food-supliment, 1 formula-milk, 102.6ms\n",
      "image 196/567 d:\\KMAI3\\EMB-DataWarehouse\\notebbooks\\..\\data\\photos\\lobelia4cosmetics_14825.jpg: 640x640 (no detections), 130.3ms\n",
      "image 197/567 d:\\KMAI3\\EMB-DataWarehouse\\notebbooks\\..\\data\\photos\\lobelia4cosmetics_14826.jpg: 640x640 1 food-supliment, 134.2ms\n",
      "image 198/567 d:\\KMAI3\\EMB-DataWarehouse\\notebbooks\\..\\data\\photos\\lobelia4cosmetics_14827.jpg: 640x640 1 cosmotic, 1 food-supliment, 130.0ms\n",
      "image 199/567 d:\\KMAI3\\EMB-DataWarehouse\\notebbooks\\..\\data\\photos\\lobelia4cosmetics_14828.jpg: 640x640 1 food-supliment, 132.1ms\n",
      "image 200/567 d:\\KMAI3\\EMB-DataWarehouse\\notebbooks\\..\\data\\photos\\lobelia4cosmetics_14829.jpg: 640x640 1 food-supliment, 133.3ms\n",
      "image 201/567 d:\\KMAI3\\EMB-DataWarehouse\\notebbooks\\..\\data\\photos\\lobelia4cosmetics_14830.jpg: 640x608 1 food-supliment, 133.4ms\n",
      "image 202/567 d:\\KMAI3\\EMB-DataWarehouse\\notebbooks\\..\\data\\photos\\lobelia4cosmetics_14831.jpg: 640x640 1 formula-milk, 132.2ms\n",
      "image 203/567 d:\\KMAI3\\EMB-DataWarehouse\\notebbooks\\..\\data\\photos\\lobelia4cosmetics_14832.jpg: 640x640 1 formula-milk, 136.2ms\n",
      "image 204/567 d:\\KMAI3\\EMB-DataWarehouse\\notebbooks\\..\\data\\photos\\lobelia4cosmetics_14833.jpg: 640x640 1 formula-milk, 122.7ms\n",
      "image 205/567 d:\\KMAI3\\EMB-DataWarehouse\\notebbooks\\..\\data\\photos\\lobelia4cosmetics_14834.jpg: 640x640 3 food-supliments, 1 pregnancy, 133.0ms\n",
      "image 206/567 d:\\KMAI3\\EMB-DataWarehouse\\notebbooks\\..\\data\\photos\\lobelia4cosmetics_14835.jpg: 640x640 1 food-supliment, 2 formula-milks, 2 pregnancys, 130.6ms\n",
      "image 207/567 d:\\KMAI3\\EMB-DataWarehouse\\notebbooks\\..\\data\\photos\\lobelia4cosmetics_14836.jpg: 640x640 3 cosmotics, 1 formula-milk, 117.1ms\n",
      "image 208/567 d:\\KMAI3\\EMB-DataWarehouse\\notebbooks\\..\\data\\photos\\lobelia4cosmetics_14837.jpg: 480x640 1 food-supliment, 1 formula-milk, 1 lotion-moisture, 104.0ms\n",
      "image 209/567 d:\\KMAI3\\EMB-DataWarehouse\\notebbooks\\..\\data\\photos\\lobelia4cosmetics_14838.jpg: 640x640 1 cosmotic, 1 food-supliment, 133.0ms\n",
      "image 210/567 d:\\KMAI3\\EMB-DataWarehouse\\notebbooks\\..\\data\\photos\\lobelia4cosmetics_14839.jpg: 640x640 1 cosmotic, 1 food-supliment, 1 formula-milk, 114.8ms\n",
      "image 211/567 d:\\KMAI3\\EMB-DataWarehouse\\notebbooks\\..\\data\\photos\\lobelia4cosmetics_14840.jpg: 640x640 1 cosmotic, 1 food-supliment, 115.9ms\n",
      "image 212/567 d:\\KMAI3\\EMB-DataWarehouse\\notebbooks\\..\\data\\photos\\lobelia4cosmetics_14841.jpg: 640x640 1 food-supliment, 1 mini-drop, 1 pregnancy, 116.3ms\n",
      "image 213/567 d:\\KMAI3\\EMB-DataWarehouse\\notebbooks\\..\\data\\photos\\lobelia4cosmetics_14842.jpg: 640x448 1 food-supliment, 1 mini-drop, 106.0ms\n",
      "image 214/567 d:\\KMAI3\\EMB-DataWarehouse\\notebbooks\\..\\data\\photos\\lobelia4cosmetics_14843.jpg: 640x640 1 cosmotic, 1 formula-milk, 1 medicine, 1 mini-drop, 130.4ms\n",
      "image 215/567 d:\\KMAI3\\EMB-DataWarehouse\\notebbooks\\..\\data\\photos\\lobelia4cosmetics_14844.jpg: 640x640 1 food-supliment, 1 formula-milk, 1 medicine, 1 mini-drop, 123.7ms\n",
      "image 216/567 d:\\KMAI3\\EMB-DataWarehouse\\notebbooks\\..\\data\\photos\\lobelia4cosmetics_14845.jpg: 640x640 1 food-supliment, 1 formula-milk, 1 pregnancy, 130.0ms\n",
      "image 217/567 d:\\KMAI3\\EMB-DataWarehouse\\notebbooks\\..\\data\\photos\\lobelia4cosmetics_14846.jpg: 640x640 2 food-supliments, 1 formula-milk, 1 medicine, 1 pregnancy, 135.0ms\n",
      "image 218/567 d:\\KMAI3\\EMB-DataWarehouse\\notebbooks\\..\\data\\photos\\lobelia4cosmetics_14847.jpg: 640x640 1 cosmotic, 1 food-supliment, 1 medicine, 1 mini-drop, 121.7ms\n",
      "image 219/567 d:\\KMAI3\\EMB-DataWarehouse\\notebbooks\\..\\data\\photos\\lobelia4cosmetics_14848.jpg: 640x640 1 food-supliment, 1 formula-milk, 136.6ms\n",
      "image 220/567 d:\\KMAI3\\EMB-DataWarehouse\\notebbooks\\..\\data\\photos\\lobelia4cosmetics_14849.jpg: 576x640 1 food-supliment, 2 formula-milks, 114.0ms\n",
      "image 221/567 d:\\KMAI3\\EMB-DataWarehouse\\notebbooks\\..\\data\\photos\\lobelia4cosmetics_14850.jpg: 576x640 1 food-supliment, 2 formula-milks, 114.2ms\n",
      "image 222/567 d:\\KMAI3\\EMB-DataWarehouse\\notebbooks\\..\\data\\photos\\lobelia4cosmetics_14851.jpg: 640x640 2 formula-milks, 133.4ms\n",
      "image 223/567 d:\\KMAI3\\EMB-DataWarehouse\\notebbooks\\..\\data\\photos\\lobelia4cosmetics_14852.jpg: 640x640 1 food-supliment, 1 formula-milk, 109.1ms\n",
      "image 224/567 d:\\KMAI3\\EMB-DataWarehouse\\notebbooks\\..\\data\\photos\\lobelia4cosmetics_14853.jpg: 640x640 3 cosmotics, 1 formula-milk, 133.5ms\n",
      "image 225/567 d:\\KMAI3\\EMB-DataWarehouse\\notebbooks\\..\\data\\photos\\lobelia4cosmetics_14854.jpg: 640x640 1 food-supliment, 2 formula-milks, 127.3ms\n",
      "image 226/567 d:\\KMAI3\\EMB-DataWarehouse\\notebbooks\\..\\data\\photos\\lobelia4cosmetics_14855.jpg: 640x640 1 food-supliment, 1 formula-milk, 1 medicine, 133.4ms\n",
      "image 227/567 d:\\KMAI3\\EMB-DataWarehouse\\notebbooks\\..\\data\\photos\\lobelia4cosmetics_14856.jpg: 640x640 1 food-supliment, 112.1ms\n",
      "image 228/567 d:\\KMAI3\\EMB-DataWarehouse\\notebbooks\\..\\data\\photos\\lobelia4cosmetics_14857.jpg: 640x640 1 food-supliment, 1 formula-milk, 1 medicine, 152.1ms\n",
      "image 229/567 d:\\KMAI3\\EMB-DataWarehouse\\notebbooks\\..\\data\\photos\\lobelia4cosmetics_14858.jpg: 640x640 1 food-supliment, 1 formula-milk, 116.0ms\n",
      "image 230/567 d:\\KMAI3\\EMB-DataWarehouse\\notebbooks\\..\\data\\photos\\lobelia4cosmetics_14859.jpg: 640x640 1 food-supliment, 116.8ms\n",
      "image 231/567 d:\\KMAI3\\EMB-DataWarehouse\\notebbooks\\..\\data\\photos\\lobelia4cosmetics_14860.jpg: 640x640 1 food-supliment, 1 formula-milk, 141.5ms\n",
      "image 232/567 d:\\KMAI3\\EMB-DataWarehouse\\notebbooks\\..\\data\\photos\\lobelia4cosmetics_14861.jpg: 640x640 1 food-supliment, 116.5ms\n",
      "image 233/567 d:\\KMAI3\\EMB-DataWarehouse\\notebbooks\\..\\data\\photos\\lobelia4cosmetics_14862.jpg: 480x640 1 food-supliment, 1 formula-milk, 1 lotion-moisture, 129.1ms\n",
      "image 234/567 d:\\KMAI3\\EMB-DataWarehouse\\notebbooks\\..\\data\\photos\\lobelia4cosmetics_14863.jpg: 640x640 (no detections), 110.6ms\n",
      "image 235/567 d:\\KMAI3\\EMB-DataWarehouse\\notebbooks\\..\\data\\photos\\lobelia4cosmetics_14864.jpg: 640x480 1 food-supliment, 1 formula-milk, 98.5ms\n",
      "image 236/567 d:\\KMAI3\\EMB-DataWarehouse\\notebbooks\\..\\data\\photos\\lobelia4cosmetics_14865.jpg: 640x640 (no detections), 123.8ms\n",
      "image 237/567 d:\\KMAI3\\EMB-DataWarehouse\\notebbooks\\..\\data\\photos\\lobelia4cosmetics_14866.jpg: 544x640 3 food-supliments, 100.0ms\n",
      "image 238/567 d:\\KMAI3\\EMB-DataWarehouse\\notebbooks\\..\\data\\photos\\lobelia4cosmetics_14867.jpg: 640x640 1 food-supliment, 1 formula-milk, 139.7ms\n",
      "image 239/567 d:\\KMAI3\\EMB-DataWarehouse\\notebbooks\\..\\data\\photos\\lobelia4cosmetics_14868.jpg: 640x640 1 food-supliment, 2 formula-milks, 121.3ms\n",
      "image 240/567 d:\\KMAI3\\EMB-DataWarehouse\\notebbooks\\..\\data\\photos\\lobelia4cosmetics_14869.jpg: 640x640 1 food-supliment, 1 formula-milk, 1 pregnancy, 114.4ms\n",
      "image 241/567 d:\\KMAI3\\EMB-DataWarehouse\\notebbooks\\..\\data\\photos\\lobelia4cosmetics_14870.jpg: 640x640 1 food-supliment, 1 pregnancy, 116.8ms\n",
      "image 242/567 d:\\KMAI3\\EMB-DataWarehouse\\notebbooks\\..\\data\\photos\\lobelia4cosmetics_14871.jpg: 640x640 1 food-supliment, 117.7ms\n",
      "image 243/567 d:\\KMAI3\\EMB-DataWarehouse\\notebbooks\\..\\data\\photos\\lobelia4cosmetics_14872.jpg: 640x512 1 food-supliment, 110.0ms\n",
      "image 244/567 d:\\KMAI3\\EMB-DataWarehouse\\notebbooks\\..\\data\\photos\\lobelia4cosmetics_14873.jpg: 640x640 1 food-supliment, 1 formula-milk, 1 pregnancy, 116.1ms\n",
      "image 245/567 d:\\KMAI3\\EMB-DataWarehouse\\notebbooks\\..\\data\\photos\\lobelia4cosmetics_14874.jpg: 640x640 1 food-supliment, 1 formula-milk, 143.6ms\n",
      "image 246/567 d:\\KMAI3\\EMB-DataWarehouse\\notebbooks\\..\\data\\photos\\lobelia4cosmetics_14875.jpg: 640x640 1 food-supliment, 1 formula-milk, 118.0ms\n",
      "image 247/567 d:\\KMAI3\\EMB-DataWarehouse\\notebbooks\\..\\data\\photos\\lobelia4cosmetics_14876.jpg: 640x544 1 formula-milk, 117.6ms\n",
      "image 248/567 d:\\KMAI3\\EMB-DataWarehouse\\notebbooks\\..\\data\\photos\\lobelia4cosmetics_14877.jpg: 640x640 1 food-supliment, 1 formula-milk, 133.5ms\n",
      "image 249/567 d:\\KMAI3\\EMB-DataWarehouse\\notebbooks\\..\\data\\photos\\lobelia4cosmetics_14878.jpg: 640x640 1 food-supliment, 1 formula-milk, 1 medicine, 112.3ms\n",
      "image 250/567 d:\\KMAI3\\EMB-DataWarehouse\\notebbooks\\..\\data\\photos\\lobelia4cosmetics_14879.jpg: 640x640 1 formula-milk, 116.9ms\n",
      "image 251/567 d:\\KMAI3\\EMB-DataWarehouse\\notebbooks\\..\\data\\photos\\lobelia4cosmetics_14880.jpg: 640x640 1 food-supliment, 1 formula-milk, 121.3ms\n",
      "image 252/567 d:\\KMAI3\\EMB-DataWarehouse\\notebbooks\\..\\data\\photos\\lobelia4cosmetics_14881.jpg: 640x640 1 food-supliment, 133.3ms\n",
      "image 253/567 d:\\KMAI3\\EMB-DataWarehouse\\notebbooks\\..\\data\\photos\\lobelia4cosmetics_14882.jpg: 640x640 1 cosmotic, 1 food-supliment, 123.8ms\n",
      "image 254/567 d:\\KMAI3\\EMB-DataWarehouse\\notebbooks\\..\\data\\photos\\lobelia4cosmetics_14883.jpg: 640x640 1 food-supliment, 175.9ms\n",
      "image 255/567 d:\\KMAI3\\EMB-DataWarehouse\\notebbooks\\..\\data\\photos\\lobelia4cosmetics_14884.jpg: 640x640 1 food-supliment, 116.9ms\n",
      "image 256/567 d:\\KMAI3\\EMB-DataWarehouse\\notebbooks\\..\\data\\photos\\lobelia4cosmetics_14885.jpg: 640x608 1 food-supliment, 111.0ms\n",
      "image 257/567 d:\\KMAI3\\EMB-DataWarehouse\\notebbooks\\..\\data\\photos\\lobelia4cosmetics_14886.jpg: 640x640 1 food-supliment, 117.1ms\n",
      "image 258/567 d:\\KMAI3\\EMB-DataWarehouse\\notebbooks\\..\\data\\photos\\lobelia4cosmetics_14887.jpg: 640x640 1 cosmotic, 2 food-supliments, 1 formula-milk, 132.6ms\n",
      "image 259/567 d:\\KMAI3\\EMB-DataWarehouse\\notebbooks\\..\\data\\photos\\lobelia4cosmetics_14888.jpg: 640x640 1 cosmotic, 1 food-supliment, 1 pregnancy, 147.1ms\n",
      "image 260/567 d:\\KMAI3\\EMB-DataWarehouse\\notebbooks\\..\\data\\photos\\lobelia4cosmetics_14889.jpg: 640x640 1 food-supliment, 125.8ms\n",
      "image 261/567 d:\\KMAI3\\EMB-DataWarehouse\\notebbooks\\..\\data\\photos\\lobelia4cosmetics_14890.jpg: 640x640 1 food-supliment, 1 formula-milk, 119.2ms\n",
      "image 262/567 d:\\KMAI3\\EMB-DataWarehouse\\notebbooks\\..\\data\\photos\\lobelia4cosmetics_14891.jpg: 640x640 3 food-supliments, 1 pregnancy, 126.2ms\n",
      "image 263/567 d:\\KMAI3\\EMB-DataWarehouse\\notebbooks\\..\\data\\photos\\lobelia4cosmetics_14892.jpg: 640x640 1 food-supliment, 2 formula-milks, 2 pregnancys, 124.0ms\n",
      "image 264/567 d:\\KMAI3\\EMB-DataWarehouse\\notebbooks\\..\\data\\photos\\lobelia4cosmetics_14893.jpg: 640x640 1 food-supliment, 129.8ms\n",
      "image 265/567 d:\\KMAI3\\EMB-DataWarehouse\\notebbooks\\..\\data\\photos\\lobelia4cosmetics_14894.jpg: 640x640 (no detections), 133.5ms\n",
      "image 266/567 d:\\KMAI3\\EMB-DataWarehouse\\notebbooks\\..\\data\\photos\\lobelia4cosmetics_14895.jpg: 640x640 1 food-package, 1 food-supliment, 116.8ms\n",
      "image 267/567 d:\\KMAI3\\EMB-DataWarehouse\\notebbooks\\..\\data\\photos\\lobelia4cosmetics_14896.jpg: 640x640 1 food-package, 1 food-supliment, 1 pregnancy, 133.3ms\n",
      "image 268/567 d:\\KMAI3\\EMB-DataWarehouse\\notebbooks\\..\\data\\photos\\lobelia4cosmetics_14897.jpg: 640x640 1 formula-milk, 1 medicine, 123.5ms\n",
      "image 269/567 d:\\KMAI3\\EMB-DataWarehouse\\notebbooks\\..\\data\\photos\\lobelia4cosmetics_14898.jpg: 640x640 1 food-supliment, 1 formula-milk, 113.0ms\n",
      "image 270/567 d:\\KMAI3\\EMB-DataWarehouse\\notebbooks\\..\\data\\photos\\lobelia4cosmetics_14899.jpg: 640x640 (no detections), 127.9ms\n",
      "image 271/567 d:\\KMAI3\\EMB-DataWarehouse\\notebbooks\\..\\data\\photos\\lobelia4cosmetics_14900.jpg: 640x640 1 food-supliment, 153.4ms\n",
      "image 272/567 d:\\KMAI3\\EMB-DataWarehouse\\notebbooks\\..\\data\\photos\\lobelia4cosmetics_14901.jpg: 640x640 1 food-package, 1 food-supliment, 133.3ms\n",
      "image 273/567 d:\\KMAI3\\EMB-DataWarehouse\\notebbooks\\..\\data\\photos\\lobelia4cosmetics_14902.jpg: 640x640 1 food-package, 1 food-supliment, 1 formula-milk, 137.2ms\n",
      "image 274/567 d:\\KMAI3\\EMB-DataWarehouse\\notebbooks\\..\\data\\photos\\lobelia4cosmetics_14903.jpg: 640x640 1 food-supliment, 1 formula-milk, 123.8ms\n",
      "image 275/567 d:\\KMAI3\\EMB-DataWarehouse\\notebbooks\\..\\data\\photos\\lobelia4cosmetics_14904.jpg: 640x640 1 food-supliment, 1 formula-milk, 1 pregnancy, 116.9ms\n",
      "image 276/567 d:\\KMAI3\\EMB-DataWarehouse\\notebbooks\\..\\data\\photos\\lobelia4cosmetics_14905.jpg: 640x640 1 food-supliment, 1 formula-milk, 112.1ms\n",
      "image 277/567 d:\\KMAI3\\EMB-DataWarehouse\\notebbooks\\..\\data\\photos\\lobelia4cosmetics_14906.jpg: 640x640 1 food-supliment, 1 formula-milk, 133.4ms\n",
      "image 278/567 d:\\KMAI3\\EMB-DataWarehouse\\notebbooks\\..\\data\\photos\\lobelia4cosmetics_14907.jpg: 640x640 1 cosmotic, 2 food-supliments, 1 formula-milk, 116.7ms\n",
      "image 279/567 d:\\KMAI3\\EMB-DataWarehouse\\notebbooks\\..\\data\\photos\\lobelia4cosmetics_14908.jpg: 640x640 1 cosmotic, 1 food-supliment, 1 pregnancy, 132.1ms\n",
      "image 280/567 d:\\KMAI3\\EMB-DataWarehouse\\notebbooks\\..\\data\\photos\\lobelia4cosmetics_14909.jpg: 640x640 1 food-supliment, 1 formula-milk, 116.8ms\n",
      "image 281/567 d:\\KMAI3\\EMB-DataWarehouse\\notebbooks\\..\\data\\photos\\lobelia4cosmetics_14910.jpg: 640x608 1 pregnancy, 115.9ms\n",
      "image 282/567 d:\\KMAI3\\EMB-DataWarehouse\\notebbooks\\..\\data\\photos\\lobelia4cosmetics_14911.jpg: 640x640 2 formula-milks, 117.1ms\n",
      "image 283/567 d:\\KMAI3\\EMB-DataWarehouse\\notebbooks\\..\\data\\photos\\lobelia4cosmetics_14912.jpg: 640x640 1 cosmotic, 1 food-supliment, 154.5ms\n",
      "image 284/567 d:\\KMAI3\\EMB-DataWarehouse\\notebbooks\\..\\data\\photos\\lobelia4cosmetics_14913.jpg: 640x640 1 food-supliment, 119.3ms\n",
      "image 285/567 d:\\KMAI3\\EMB-DataWarehouse\\notebbooks\\..\\data\\photos\\lobelia4cosmetics_14914.jpg: 640x640 1 food-supliment, 115.1ms\n",
      "image 286/567 d:\\KMAI3\\EMB-DataWarehouse\\notebbooks\\..\\data\\photos\\lobelia4cosmetics_14915.jpg: 512x640 2 food-packages, 133.4ms\n",
      "image 287/567 d:\\KMAI3\\EMB-DataWarehouse\\notebbooks\\..\\data\\photos\\lobelia4cosmetics_14916.jpg: 640x640 3 food-supliments, 121.9ms\n",
      "image 288/567 d:\\KMAI3\\EMB-DataWarehouse\\notebbooks\\..\\data\\photos\\lobelia4cosmetics_14917.jpg: 640x448 2 food-supliments, 1 pregnancy, 93.2ms\n",
      "image 289/567 d:\\KMAI3\\EMB-DataWarehouse\\notebbooks\\..\\data\\photos\\lobelia4cosmetics_14918.jpg: 640x640 3 food-supliments, 1 formula-milk, 1 pregnancy, 131.4ms\n",
      "image 290/567 d:\\KMAI3\\EMB-DataWarehouse\\notebbooks\\..\\data\\photos\\lobelia4cosmetics_14919.jpg: 640x640 3 food-supliments, 1 formula-milk, 116.9ms\n",
      "image 291/567 d:\\KMAI3\\EMB-DataWarehouse\\notebbooks\\..\\data\\photos\\lobelia4cosmetics_14920.jpg: 640x640 1 food-package, 3 food-supliments, 123.6ms\n",
      "image 292/567 d:\\KMAI3\\EMB-DataWarehouse\\notebbooks\\..\\data\\photos\\lobelia4cosmetics_14921.jpg: 640x640 1 food-package, 1 food-supliment, 1 formula-milk, 1 medicine, 1 pregnancy, 117.5ms\n",
      "image 293/567 d:\\KMAI3\\EMB-DataWarehouse\\notebbooks\\..\\data\\photos\\lobelia4cosmetics_14922.jpg: 640x448 1 food-supliment, 1 formula-milk, 98.0ms\n",
      "image 294/567 d:\\KMAI3\\EMB-DataWarehouse\\notebbooks\\..\\data\\photos\\lobelia4cosmetics_14923.jpg: 544x640 3 food-supliments, 111.3ms\n",
      "image 295/567 d:\\KMAI3\\EMB-DataWarehouse\\notebbooks\\..\\data\\photos\\lobelia4cosmetics_14924.jpg: 640x640 2 food-supliments, 1 formula-milk, 1 medicine, 1 pregnancy, 135.6ms\n",
      "image 296/567 d:\\KMAI3\\EMB-DataWarehouse\\notebbooks\\..\\data\\photos\\lobelia4cosmetics_14925.jpg: 640x640 1 food-supliment, 115.0ms\n",
      "image 297/567 d:\\KMAI3\\EMB-DataWarehouse\\notebbooks\\..\\data\\photos\\lobelia4cosmetics_14926.jpg: 640x640 3 food-supliments, 136.5ms\n",
      "image 298/567 d:\\KMAI3\\EMB-DataWarehouse\\notebbooks\\..\\data\\photos\\lobelia4cosmetics_14927.jpg: 640x640 2 cosmotics, 1 food-supliment, 1 formula-milk, 123.6ms\n",
      "image 299/567 d:\\KMAI3\\EMB-DataWarehouse\\notebbooks\\..\\data\\photos\\lobelia4cosmetics_14928.jpg: 640x640 1 food-supliment, 116.7ms\n",
      "image 300/567 d:\\KMAI3\\EMB-DataWarehouse\\notebbooks\\..\\data\\photos\\lobelia4cosmetics_14929.jpg: 640x640 1 food-supliment, 1 pregnancy, 113.0ms\n",
      "image 301/567 d:\\KMAI3\\EMB-DataWarehouse\\notebbooks\\..\\data\\photos\\lobelia4cosmetics_14930.jpg: 640x640 1 food-supliment, 115.6ms\n",
      "image 302/567 d:\\KMAI3\\EMB-DataWarehouse\\notebbooks\\..\\data\\photos\\lobelia4cosmetics_14931.jpg: 640x640 1 food-supliment, 128.0ms\n",
      "image 303/567 d:\\KMAI3\\EMB-DataWarehouse\\notebbooks\\..\\data\\photos\\lobelia4cosmetics_14932.jpg: 640x640 1 food-supliment, 116.5ms\n",
      "image 304/567 d:\\KMAI3\\EMB-DataWarehouse\\notebbooks\\..\\data\\photos\\lobelia4cosmetics_14933.jpg: 640x640 1 food-supliment, 1 formula-milk, 134.1ms\n",
      "image 305/567 d:\\KMAI3\\EMB-DataWarehouse\\notebbooks\\..\\data\\photos\\lobelia4cosmetics_14934.jpg: 640x640 1 food-supliment, 1 formula-milk, 131.0ms\n",
      "image 306/567 d:\\KMAI3\\EMB-DataWarehouse\\notebbooks\\..\\data\\photos\\lobelia4cosmetics_14935.jpg: 640x640 3 cosmotics, 1 formula-milk, 140.1ms\n",
      "image 307/567 d:\\KMAI3\\EMB-DataWarehouse\\notebbooks\\..\\data\\photos\\lobelia4cosmetics_14936.jpg: 640x640 1 cosmotic, 2 food-supliments, 1 formula-milk, 127.2ms\n",
      "image 308/567 d:\\KMAI3\\EMB-DataWarehouse\\notebbooks\\..\\data\\photos\\lobelia4cosmetics_14937.jpg: 640x640 1 cosmotic, 1 food-supliment, 1 pregnancy, 121.2ms\n",
      "image 309/567 d:\\KMAI3\\EMB-DataWarehouse\\notebbooks\\..\\data\\photos\\lobelia4cosmetics_14938.jpg: 640x480 1 food-supliment, 1 formula-milk, 110.9ms\n",
      "image 310/567 d:\\KMAI3\\EMB-DataWarehouse\\notebbooks\\..\\data\\photos\\lobelia4cosmetics_14939.jpg: 640x640 1 food-supliment, 1 formula-milk, 144.1ms\n",
      "image 311/567 d:\\KMAI3\\EMB-DataWarehouse\\notebbooks\\..\\data\\photos\\lobelia4cosmetics_14940.jpg: 640x640 1 food-supliment, 1 formula-milk, 114.5ms\n",
      "image 312/567 d:\\KMAI3\\EMB-DataWarehouse\\notebbooks\\..\\data\\photos\\lobelia4cosmetics_14941.jpg: 512x640 1 food-supliment, 1 formula-milk, 102.1ms\n",
      "image 313/567 d:\\KMAI3\\EMB-DataWarehouse\\notebbooks\\..\\data\\photos\\lobelia4cosmetics_14942.jpg: 640x640 1 food-supliment, 1 mini-drop, 1 pregnancy, 135.3ms\n",
      "image 314/567 d:\\KMAI3\\EMB-DataWarehouse\\notebbooks\\..\\data\\photos\\lobelia4cosmetics_14943.jpg: 640x640 1 food-supliment, 1 formula-milk, 1 pregnancy, 114.7ms\n",
      "image 315/567 d:\\KMAI3\\EMB-DataWarehouse\\notebbooks\\..\\data\\photos\\lobelia4cosmetics_14944.jpg: 640x640 1 food-supliment, 1 formula-milk, 132.0ms\n",
      "image 316/567 d:\\KMAI3\\EMB-DataWarehouse\\notebbooks\\..\\data\\photos\\lobelia4cosmetics_14945.jpg: 640x640 1 food-supliment, 1 formula-milk, 136.9ms\n",
      "image 317/567 d:\\KMAI3\\EMB-DataWarehouse\\notebbooks\\..\\data\\photos\\lobelia4cosmetics_14946.jpg: 640x640 1 food-supliment, 1 formula-milk, 121.7ms\n",
      "image 318/567 d:\\KMAI3\\EMB-DataWarehouse\\notebbooks\\..\\data\\photos\\lobelia4cosmetics_14947.jpg: 640x640 1 food-supliment, 1 formula-milk, 137.6ms\n",
      "image 319/567 d:\\KMAI3\\EMB-DataWarehouse\\notebbooks\\..\\data\\photos\\lobelia4cosmetics_14948.jpg: 640x640 1 food-supliment, 2 formula-milks, 120.0ms\n",
      "image 320/567 d:\\KMAI3\\EMB-DataWarehouse\\notebbooks\\..\\data\\photos\\lobelia4cosmetics_14949.jpg: 640x640 1 food-supliment, 1 formula-milk, 1 pregnancy, 121.3ms\n",
      "image 321/567 d:\\KMAI3\\EMB-DataWarehouse\\notebbooks\\..\\data\\photos\\lobelia4cosmetics_14950.jpg: 640x640 1 food-supliment, 1 formula-milk, 116.0ms\n",
      "image 322/567 d:\\KMAI3\\EMB-DataWarehouse\\notebbooks\\..\\data\\photos\\lobelia4cosmetics_14951.jpg: 640x640 1 food-supliment, 1 formula-milk, 122.3ms\n",
      "image 323/567 d:\\KMAI3\\EMB-DataWarehouse\\notebbooks\\..\\data\\photos\\lobelia4cosmetics_14952.jpg: 640x640 1 food-supliment, 1 formula-milk, 1 pregnancy, 138.0ms\n",
      "image 324/567 d:\\KMAI3\\EMB-DataWarehouse\\notebbooks\\..\\data\\photos\\lobelia4cosmetics_14953.jpg: 640x640 1 food-supliment, 1 formula-milk, 131.7ms\n",
      "image 325/567 d:\\KMAI3\\EMB-DataWarehouse\\notebbooks\\..\\data\\photos\\lobelia4cosmetics_14954.jpg: 640x640 1 food-supliment, 130.0ms\n",
      "image 326/567 d:\\KMAI3\\EMB-DataWarehouse\\notebbooks\\..\\data\\photos\\lobelia4cosmetics_14955.jpg: 640x640 1 cosmotic, 2 food-supliments, 1 formula-milk, 116.6ms\n",
      "image 327/567 d:\\KMAI3\\EMB-DataWarehouse\\notebbooks\\..\\data\\photos\\lobelia4cosmetics_14956.jpg: 640x640 1 cosmotic, 1 food-supliment, 1 pregnancy, 119.5ms\n",
      "image 328/567 d:\\KMAI3\\EMB-DataWarehouse\\notebbooks\\..\\data\\photos\\lobelia4cosmetics_14957.jpg: 512x640 1 food-supliment, 1 formula-milk, 89.5ms\n",
      "image 329/567 d:\\KMAI3\\EMB-DataWarehouse\\notebbooks\\..\\data\\photos\\lobelia4cosmetics_14958.jpg: 640x640 1 food-supliment, 1 formula-milk, 184.6ms\n",
      "image 330/567 d:\\KMAI3\\EMB-DataWarehouse\\notebbooks\\..\\data\\photos\\lobelia4cosmetics_14959.jpg: 640x480 1 food-supliment, 1 formula-milk, 99.7ms\n",
      "image 331/567 d:\\KMAI3\\EMB-DataWarehouse\\notebbooks\\..\\data\\photos\\lobelia4cosmetics_14960.jpg: 640x640 (no detections), 134.0ms\n",
      "image 332/567 d:\\KMAI3\\EMB-DataWarehouse\\notebbooks\\..\\data\\photos\\lobelia4cosmetics_14961.jpg: 640x640 1 food-supliment, 110.9ms\n",
      "image 333/567 d:\\KMAI3\\EMB-DataWarehouse\\notebbooks\\..\\data\\photos\\lobelia4cosmetics_14962.jpg: 640x640 1 cosmotic, 1 food-supliment, 137.4ms\n",
      "image 334/567 d:\\KMAI3\\EMB-DataWarehouse\\notebbooks\\..\\data\\photos\\lobelia4cosmetics_14963.jpg: 640x640 1 food-supliment, 117.1ms\n",
      "image 335/567 d:\\KMAI3\\EMB-DataWarehouse\\notebbooks\\..\\data\\photos\\lobelia4cosmetics_14964.jpg: 640x640 1 food-supliment, 150.1ms\n",
      "image 336/567 d:\\KMAI3\\EMB-DataWarehouse\\notebbooks\\..\\data\\photos\\lobelia4cosmetics_14965.jpg: 640x608 1 food-supliment, 106.6ms\n",
      "image 337/567 d:\\KMAI3\\EMB-DataWarehouse\\notebbooks\\..\\data\\photos\\lobelia4cosmetics_14966.jpg: 640x640 3 food-supliments, 1 pregnancy, 126.0ms\n",
      "image 338/567 d:\\KMAI3\\EMB-DataWarehouse\\notebbooks\\..\\data\\photos\\lobelia4cosmetics_14967.jpg: 640x640 1 food-supliment, 2 formula-milks, 2 pregnancys, 125.6ms\n",
      "image 339/567 d:\\KMAI3\\EMB-DataWarehouse\\notebbooks\\..\\data\\photos\\lobelia4cosmetics_14968.jpg: 640x640 1 food-supliment, 1 mini-drop, 1 pregnancy, 110.9ms\n",
      "image 340/567 d:\\KMAI3\\EMB-DataWarehouse\\notebbooks\\..\\data\\photos\\lobelia4cosmetics_14969.jpg: 640x448 1 food-supliment, 1 mini-drop, 107.7ms\n",
      "image 341/567 d:\\KMAI3\\EMB-DataWarehouse\\notebbooks\\..\\data\\photos\\lobelia4cosmetics_14970.jpg: 640x640 1 cosmotic, 1 formula-milk, 1 medicine, 1 mini-drop, 134.0ms\n",
      "image 342/567 d:\\KMAI3\\EMB-DataWarehouse\\notebbooks\\..\\data\\photos\\lobelia4cosmetics_14971.jpg: 640x640 1 food-supliment, 1 formula-milk, 1 medicine, 1 mini-drop, 121.2ms\n",
      "image 343/567 d:\\KMAI3\\EMB-DataWarehouse\\notebbooks\\..\\data\\photos\\lobelia4cosmetics_14972.jpg: 640x640 1 food-supliment, 1 formula-milk, 1 pregnancy, 135.7ms\n",
      "image 344/567 d:\\KMAI3\\EMB-DataWarehouse\\notebbooks\\..\\data\\photos\\lobelia4cosmetics_14973.jpg: 640x640 2 food-supliments, 1 formula-milk, 1 medicine, 1 pregnancy, 117.7ms\n",
      "image 345/567 d:\\KMAI3\\EMB-DataWarehouse\\notebbooks\\..\\data\\photos\\lobelia4cosmetics_14974.jpg: 640x640 1 cosmotic, 1 food-supliment, 1 medicine, 1 mini-drop, 120.0ms\n",
      "image 346/567 d:\\KMAI3\\EMB-DataWarehouse\\notebbooks\\..\\data\\photos\\lobelia4cosmetics_14975.jpg: 640x640 1 food-supliment, 1 formula-milk, 116.5ms\n",
      "image 347/567 d:\\KMAI3\\EMB-DataWarehouse\\notebbooks\\..\\data\\photos\\lobelia4cosmetics_14976.jpg: 640x640 1 food-package, 1 food-supliment, 1 formula-milk, 136.8ms\n",
      "image 348/567 d:\\KMAI3\\EMB-DataWarehouse\\notebbooks\\..\\data\\photos\\lobelia4cosmetics_14977.jpg: 640x640 (no detections), 168.0ms\n",
      "image 349/567 d:\\KMAI3\\EMB-DataWarehouse\\notebbooks\\..\\data\\photos\\lobelia4cosmetics_14978.jpg: 640x640 1 food-supliment, 133.8ms\n",
      "image 350/567 d:\\KMAI3\\EMB-DataWarehouse\\notebbooks\\..\\data\\photos\\lobelia4cosmetics_14979.jpg: 640x640 1 food-supliment, 1 formula-milk, 132.7ms\n",
      "image 351/567 d:\\KMAI3\\EMB-DataWarehouse\\notebbooks\\..\\data\\photos\\lobelia4cosmetics_14980.jpg: 640x640 1 food-supliment, 1 formula-milk, 121.8ms\n",
      "image 352/567 d:\\KMAI3\\EMB-DataWarehouse\\notebbooks\\..\\data\\photos\\lobelia4cosmetics_14981.jpg: 640x640 1 food-supliment, 1 formula-milk, 121.0ms\n",
      "image 353/567 d:\\KMAI3\\EMB-DataWarehouse\\notebbooks\\..\\data\\photos\\lobelia4cosmetics_14982.jpg: 640x640 1 food-supliment, 1 formula-milk, 140.5ms\n",
      "image 354/567 d:\\KMAI3\\EMB-DataWarehouse\\notebbooks\\..\\data\\photos\\lobelia4cosmetics_14983.jpg: 640x640 1 food-supliment, 1 formula-milk, 1 medicine, 150.1ms\n",
      "image 355/567 d:\\KMAI3\\EMB-DataWarehouse\\notebbooks\\..\\data\\photos\\lobelia4cosmetics_14984.jpg: 640x640 1 food-supliment, 2 formula-milks, 119.3ms\n",
      "image 356/567 d:\\KMAI3\\EMB-DataWarehouse\\notebbooks\\..\\data\\photos\\lobelia4cosmetics_14985.jpg: 640x640 1 food-supliment, 1 formula-milk, 1 medicine, 136.4ms\n",
      "image 357/567 d:\\KMAI3\\EMB-DataWarehouse\\notebbooks\\..\\data\\photos\\lobelia4cosmetics_14986.jpg: 640x640 1 cosmotic, 1 food-supliment, 1 formula-milk, 120.0ms\n",
      "image 358/567 d:\\KMAI3\\EMB-DataWarehouse\\notebbooks\\..\\data\\photos\\lobelia4cosmetics_14987.jpg: 640x640 1 food-supliment, 133.2ms\n",
      "image 359/567 d:\\KMAI3\\EMB-DataWarehouse\\notebbooks\\..\\data\\photos\\lobelia4cosmetics_14988.jpg: 640x640 1 food-supliment, 149.0ms\n",
      "image 360/567 d:\\KMAI3\\EMB-DataWarehouse\\notebbooks\\..\\data\\photos\\lobelia4cosmetics_14989.jpg: 640x640 1 food-supliment, 131.4ms\n",
      "image 361/567 d:\\KMAI3\\EMB-DataWarehouse\\notebbooks\\..\\data\\photos\\lobelia4cosmetics_14990.jpg: 640x640 1 food-supliment, 132.8ms\n",
      "image 362/567 d:\\KMAI3\\EMB-DataWarehouse\\notebbooks\\..\\data\\photos\\lobelia4cosmetics_14991.jpg: 576x640 1 food-supliment, 2 formula-milks, 115.5ms\n",
      "image 363/567 d:\\KMAI3\\EMB-DataWarehouse\\notebbooks\\..\\data\\photos\\lobelia4cosmetics_14992.jpg: 640x640 2 formula-milks, 150.1ms\n",
      "image 364/567 d:\\KMAI3\\EMB-DataWarehouse\\notebbooks\\..\\data\\photos\\lobelia4cosmetics_14993.jpg: 640x640 1 food-package, 1 food-supliment, 1 pregnancy, 134.8ms\n",
      "image 365/567 d:\\KMAI3\\EMB-DataWarehouse\\notebbooks\\..\\data\\photos\\lobelia4cosmetics_14994.jpg: 640x640 1 food-supliment, 1 formula-milk, 130.9ms\n",
      "image 366/567 d:\\KMAI3\\EMB-DataWarehouse\\notebbooks\\..\\data\\photos\\lobelia4cosmetics_14995.jpg: 640x640 1 formula-milk, 131.8ms\n",
      "image 367/567 d:\\KMAI3\\EMB-DataWarehouse\\notebbooks\\..\\data\\photos\\lobelia4cosmetics_14996.jpg: 640x640 1 food-supliment, 133.0ms\n",
      "image 368/567 d:\\KMAI3\\EMB-DataWarehouse\\notebbooks\\..\\data\\photos\\lobelia4cosmetics_14997.jpg: 640x640 1 food-supliment, 1 formula-milk, 1 medicine, 171.5ms\n",
      "image 369/567 d:\\KMAI3\\EMB-DataWarehouse\\notebbooks\\..\\data\\photos\\lobelia4cosmetics_14998.jpg: 640x640 1 cosmotic, 1 food-supliment, 1 formula-milk, 118.2ms\n",
      "image 370/567 d:\\KMAI3\\EMB-DataWarehouse\\notebbooks\\..\\data\\photos\\lobelia4cosmetics_14999.jpg: 640x640 1 food-supliment, 2 formula-milks, 129.4ms\n",
      "image 371/567 d:\\KMAI3\\EMB-DataWarehouse\\notebbooks\\..\\data\\photos\\lobelia4cosmetics_15000.jpg: 640x640 1 cosmotic, 132.5ms\n",
      "image 372/567 d:\\KMAI3\\EMB-DataWarehouse\\notebbooks\\..\\data\\photos\\lobelia4cosmetics_15001.jpg: 640x640 1 formula-milk, 133.4ms\n",
      "image 373/567 d:\\KMAI3\\EMB-DataWarehouse\\notebbooks\\..\\data\\photos\\lobelia4cosmetics_15002.jpg: 640x640 1 food-supliment, 1 formula-milk, 150.1ms\n",
      "image 374/567 d:\\KMAI3\\EMB-DataWarehouse\\notebbooks\\..\\data\\photos\\lobelia4cosmetics_15003.jpg: 640x640 1 food-supliment, 126.4ms\n",
      "image 375/567 d:\\KMAI3\\EMB-DataWarehouse\\notebbooks\\..\\data\\photos\\lobelia4cosmetics_15004.jpg: 640x640 1 cosmotic, 1 food-supliment, 129.6ms\n",
      "image 376/567 d:\\KMAI3\\EMB-DataWarehouse\\notebbooks\\..\\data\\photos\\lobelia4cosmetics_15005.jpg: 640x640 1 food-supliment, 135.9ms\n",
      "image 377/567 d:\\KMAI3\\EMB-DataWarehouse\\notebbooks\\..\\data\\photos\\lobelia4cosmetics_15006.jpg: 640x640 1 food-supliment, 126.6ms\n",
      "image 378/567 d:\\KMAI3\\EMB-DataWarehouse\\notebbooks\\..\\data\\photos\\lobelia4cosmetics_15007.jpg: 640x608 1 food-supliment, 146.2ms\n",
      "image 379/567 d:\\KMAI3\\EMB-DataWarehouse\\notebbooks\\..\\data\\photos\\lobelia4cosmetics_15008.jpg: 640x640 1 food-supliment, 127.6ms\n",
      "image 380/567 d:\\KMAI3\\EMB-DataWarehouse\\notebbooks\\..\\data\\photos\\lobelia4cosmetics_15009.jpg: 640x640 1 cosmotic, 2 food-supliments, 1 formula-milk, 133.5ms\n",
      "image 381/567 d:\\KMAI3\\EMB-DataWarehouse\\notebbooks\\..\\data\\photos\\lobelia4cosmetics_15010.jpg: 640x640 1 cosmotic, 1 food-supliment, 1 pregnancy, 150.1ms\n",
      "image 382/567 d:\\KMAI3\\EMB-DataWarehouse\\notebbooks\\..\\data\\photos\\lobelia4cosmetics_15011.jpg: 640x640 1 food-supliment, 126.5ms\n",
      "image 383/567 d:\\KMAI3\\EMB-DataWarehouse\\notebbooks\\..\\data\\photos\\lobelia4cosmetics_15012.jpg: 640x640 1 food-supliment, 1 formula-milk, 153.0ms\n",
      "image 384/567 d:\\KMAI3\\EMB-DataWarehouse\\notebbooks\\..\\data\\photos\\lobelia4cosmetics_15013.jpg: 640x640 1 food-supliment, 1 formula-milk, 133.4ms\n",
      "image 385/567 d:\\KMAI3\\EMB-DataWarehouse\\notebbooks\\..\\data\\photos\\lobelia4cosmetics_15014.jpg: 640x640 1 food-supliment, 1 formula-milk, 127.7ms\n",
      "image 386/567 d:\\KMAI3\\EMB-DataWarehouse\\notebbooks\\..\\data\\photos\\lobelia4cosmetics_15015.jpg: 640x640 1 food-supliment, 1 formula-milk, 127.7ms\n",
      "image 387/567 d:\\KMAI3\\EMB-DataWarehouse\\notebbooks\\..\\data\\photos\\lobelia4cosmetics_15016.jpg: 640x640 1 food-supliment, 1 formula-milk, 146.9ms\n",
      "image 388/567 d:\\KMAI3\\EMB-DataWarehouse\\notebbooks\\..\\data\\photos\\lobelia4cosmetics_15017.jpg: 640x640 1 food-supliment, 1 formula-milk, 147.7ms\n",
      "image 389/567 d:\\KMAI3\\EMB-DataWarehouse\\notebbooks\\..\\data\\photos\\lobelia4cosmetics_15018.jpg: 512x640 1 food-supliment, 1 formula-milk, 98.5ms\n",
      "image 390/567 d:\\KMAI3\\EMB-DataWarehouse\\notebbooks\\..\\data\\photos\\lobelia4cosmetics_15019.jpg: 640x640 3 food-supliments, 1 pregnancy, 134.3ms\n",
      "image 391/567 d:\\KMAI3\\EMB-DataWarehouse\\notebbooks\\..\\data\\photos\\lobelia4cosmetics_15020.jpg: 640x640 1 food-supliment, 2 formula-milks, 2 pregnancys, 121.0ms\n",
      "image 392/567 d:\\KMAI3\\EMB-DataWarehouse\\notebbooks\\..\\data\\photos\\lobelia4cosmetics_15021.jpg: 640x640 1 food-supliment, 149.6ms\n",
      "image 393/567 d:\\KMAI3\\EMB-DataWarehouse\\notebbooks\\..\\data\\photos\\lobelia4cosmetics_15022.jpg: 640x640 3 food-supliments, 137.6ms\n",
      "image 394/567 d:\\KMAI3\\EMB-DataWarehouse\\notebbooks\\..\\data\\photos\\lobelia4cosmetics_15023.jpg: 640x640 1 food-supliment, 1 formula-milk, 134.8ms\n",
      "image 395/567 d:\\KMAI3\\EMB-DataWarehouse\\notebbooks\\..\\data\\photos\\lobelia4cosmetics_15024.jpg: 640x640 1 food-supliment, 1 formula-milk, 138.1ms\n",
      "image 396/567 d:\\KMAI3\\EMB-DataWarehouse\\notebbooks\\..\\data\\photos\\lobelia4cosmetics_15025.jpg: 640x640 1 food-supliment, 1 formula-milk, 1 pregnancy, 133.3ms\n",
      "image 397/567 d:\\KMAI3\\EMB-DataWarehouse\\notebbooks\\..\\data\\photos\\lobelia4cosmetics_15026.jpg: 576x640 1 food-supliment, 2 formula-milks, 115.0ms\n",
      "image 398/567 d:\\KMAI3\\EMB-DataWarehouse\\notebbooks\\..\\data\\photos\\lobelia4cosmetics_15027.jpg: 640x640 2 formula-milks, 166.8ms\n",
      "image 399/567 d:\\KMAI3\\EMB-DataWarehouse\\notebbooks\\..\\data\\photos\\lobelia4cosmetics_15029.jpg: 640x640 1 cosmotic, 1 lotion-moisture, 122.9ms\n",
      "image 400/567 d:\\KMAI3\\EMB-DataWarehouse\\notebbooks\\..\\data\\photos\\lobelia4cosmetics_15030.jpg: 640x640 1 food-supliment, 123.9ms\n",
      "image 401/567 d:\\KMAI3\\EMB-DataWarehouse\\notebbooks\\..\\data\\photos\\lobelia4cosmetics_15031.jpg: 640x640 2 cosmotics, 1 food-supliment, 1 formula-milk, 171.2ms\n",
      "image 402/567 d:\\KMAI3\\EMB-DataWarehouse\\notebbooks\\..\\data\\photos\\lobelia4cosmetics_15032.jpg: 640x640 1 food-supliment, 133.4ms\n",
      "image 403/567 d:\\KMAI3\\EMB-DataWarehouse\\notebbooks\\..\\data\\photos\\lobelia4cosmetics_15033.jpg: 640x640 1 food-supliment, 1 formula-milk, 139.4ms\n",
      "image 404/567 d:\\KMAI3\\EMB-DataWarehouse\\notebbooks\\..\\data\\photos\\lobelia4cosmetics_15034.jpg: 640x480 1 food-supliment, 1 formula-milk, 110.5ms\n",
      "image 405/567 d:\\KMAI3\\EMB-DataWarehouse\\notebbooks\\..\\data\\photos\\lobelia4cosmetics_15035.jpg: 640x640 1 food-supliment, 120.5ms\n",
      "image 406/567 d:\\KMAI3\\EMB-DataWarehouse\\notebbooks\\..\\data\\photos\\lobelia4cosmetics_15036.jpg: 640x640 1 food-supliment, 121.4ms\n",
      "image 407/567 d:\\KMAI3\\EMB-DataWarehouse\\notebbooks\\..\\data\\photos\\lobelia4cosmetics_15037.jpg: 640x640 1 cosmotic, 2 food-supliments, 1 formula-milk, 154.6ms\n",
      "image 408/567 d:\\KMAI3\\EMB-DataWarehouse\\notebbooks\\..\\data\\photos\\lobelia4cosmetics_15038.jpg: 640x640 1 cosmotic, 1 food-supliment, 1 pregnancy, 134.0ms\n",
      "image 409/567 d:\\KMAI3\\EMB-DataWarehouse\\notebbooks\\..\\data\\photos\\lobelia4cosmetics_15039.jpg: 640x640 1 food-supliment, 148.6ms\n",
      "image 410/567 d:\\KMAI3\\EMB-DataWarehouse\\notebbooks\\..\\data\\photos\\lobelia4cosmetics_15040.jpg: 640x512 1 food-supliment, 123.3ms\n",
      "image 411/567 d:\\KMAI3\\EMB-DataWarehouse\\notebbooks\\..\\data\\photos\\lobelia4cosmetics_15041.jpg: 640x640 1 food-supliment, 1 formula-milk, 146.1ms\n",
      "image 412/567 d:\\KMAI3\\EMB-DataWarehouse\\notebbooks\\..\\data\\photos\\lobelia4cosmetics_15042.jpg: 640x640 1 cosmotic, 1 food-supliment, 144.9ms\n",
      "image 413/567 d:\\KMAI3\\EMB-DataWarehouse\\notebbooks\\..\\data\\photos\\lobelia4cosmetics_15043.jpg: 640x640 1 food-supliment, 133.5ms\n",
      "image 414/567 d:\\KMAI3\\EMB-DataWarehouse\\notebbooks\\..\\data\\photos\\lobelia4cosmetics_15044.jpg: 640x640 1 food-supliment, 149.3ms\n",
      "image 415/567 d:\\KMAI3\\EMB-DataWarehouse\\notebbooks\\..\\data\\photos\\lobelia4cosmetics_15045.jpg: 640x608 1 food-supliment, 132.9ms\n",
      "image 416/567 d:\\KMAI3\\EMB-DataWarehouse\\notebbooks\\..\\data\\photos\\lobelia4cosmetics_15046.jpg: 640x640 1 food-supliment, 134.9ms\n",
      "image 417/567 d:\\KMAI3\\EMB-DataWarehouse\\notebbooks\\..\\data\\photos\\lobelia4cosmetics_15047.jpg: 640x640 1 food-supliment, 1 formula-milk, 120.2ms\n",
      "image 418/567 d:\\KMAI3\\EMB-DataWarehouse\\notebbooks\\..\\data\\photos\\lobelia4cosmetics_15048.jpg: 640x640 1 food-supliment, 1 formula-milk, 133.7ms\n",
      "image 419/567 d:\\KMAI3\\EMB-DataWarehouse\\notebbooks\\..\\data\\photos\\lobelia4cosmetics_15049.jpg: 640x640 1 food-supliment, 1 formula-milk, 149.9ms\n",
      "image 420/567 d:\\KMAI3\\EMB-DataWarehouse\\notebbooks\\..\\data\\photos\\lobelia4cosmetics_15050.jpg: 512x640 1 food-supliment, 1 formula-milk, 103.9ms\n",
      "image 421/567 d:\\KMAI3\\EMB-DataWarehouse\\notebbooks\\..\\data\\photos\\lobelia4cosmetics_15051.jpg: 640x640 (no detections), 127.9ms\n",
      "image 422/567 d:\\KMAI3\\EMB-DataWarehouse\\notebbooks\\..\\data\\photos\\lobelia4cosmetics_15052.jpg: 640x640 1 food-supliment, 127.3ms\n",
      "image 423/567 d:\\KMAI3\\EMB-DataWarehouse\\notebbooks\\..\\data\\photos\\lobelia4cosmetics_15053.jpg: 640x640 1 food-supliment, 1 formula-milk, 1 medicine, 150.1ms\n",
      "image 424/567 d:\\KMAI3\\EMB-DataWarehouse\\notebbooks\\..\\data\\photos\\lobelia4cosmetics_15054.jpg: 640x640 1 food-supliment, 1 formula-milk, 125.3ms\n",
      "image 425/567 d:\\KMAI3\\EMB-DataWarehouse\\notebbooks\\..\\data\\photos\\lobelia4cosmetics_15055.jpg: 640x640 1 food-supliment, 133.1ms\n",
      "image 426/567 d:\\KMAI3\\EMB-DataWarehouse\\notebbooks\\..\\data\\photos\\lobelia4cosmetics_15056.jpg: 640x640 1 food-supliment, 1 formula-milk, 143.7ms\n",
      "image 427/567 d:\\KMAI3\\EMB-DataWarehouse\\notebbooks\\..\\data\\photos\\lobelia4cosmetics_15057.jpg: 640x640 1 food-supliment, 1 formula-milk, 148.4ms\n",
      "image 428/567 d:\\KMAI3\\EMB-DataWarehouse\\notebbooks\\..\\data\\photos\\lobelia4cosmetics_15058.jpg: 544x640 3 food-supliments, 135.9ms\n",
      "image 429/567 d:\\KMAI3\\EMB-DataWarehouse\\notebbooks\\..\\data\\photos\\lobelia4cosmetics_15059.jpg: 640x640 1 food-package, 1 food-supliment, 134.5ms\n",
      "image 430/567 d:\\KMAI3\\EMB-DataWarehouse\\notebbooks\\..\\data\\photos\\lobelia4cosmetics_15060.jpg: 640x640 (no detections), 135.7ms\n",
      "image 431/567 d:\\KMAI3\\EMB-DataWarehouse\\notebbooks\\..\\data\\photos\\lobelia4cosmetics_15061.jpg: 640x640 1 food-supliment, 150.7ms\n",
      "image 432/567 d:\\KMAI3\\EMB-DataWarehouse\\notebbooks\\..\\data\\photos\\lobelia4cosmetics_15062.jpg: 640x640 1 food-supliment, 1 formula-milk, 130.1ms\n",
      "image 433/567 d:\\KMAI3\\EMB-DataWarehouse\\notebbooks\\..\\data\\photos\\lobelia4cosmetics_15063.jpg: 640x480 1 food-supliment, 1 formula-milk, 117.7ms\n",
      "image 434/567 d:\\KMAI3\\EMB-DataWarehouse\\notebbooks\\..\\data\\photos\\lobelia4cosmetics_15064.jpg: 640x640 (no detections), 150.3ms\n",
      "image 435/567 d:\\KMAI3\\EMB-DataWarehouse\\notebbooks\\..\\data\\photos\\lobelia4cosmetics_15065.jpg: 640x640 1 food-supliment, 1 formula-milk, 148.7ms\n",
      "image 436/567 d:\\KMAI3\\EMB-DataWarehouse\\notebbooks\\..\\data\\photos\\lobelia4cosmetics_15067.jpg: 576x640 1 food-supliment, 2 formula-milks, 116.5ms\n",
      "image 437/567 d:\\KMAI3\\EMB-DataWarehouse\\notebbooks\\..\\data\\photos\\lobelia4cosmetics_15068.jpg: 640x640 2 formula-milks, 133.3ms\n",
      "image 438/567 d:\\KMAI3\\EMB-DataWarehouse\\notebbooks\\..\\data\\photos\\lobelia4cosmetics_15071.jpg: 640x640 1 food-supliment, 1 formula-milk, 130.6ms\n",
      "image 439/567 d:\\KMAI3\\EMB-DataWarehouse\\notebbooks\\..\\data\\photos\\lobelia4cosmetics_15072.jpg: 640x640 3 food-supliments, 1 pregnancy, 147.5ms\n",
      "image 440/567 d:\\KMAI3\\EMB-DataWarehouse\\notebbooks\\..\\data\\photos\\lobelia4cosmetics_15073.jpg: 640x640 1 food-supliment, 2 formula-milks, 2 pregnancys, 140.5ms\n",
      "image 441/567 d:\\KMAI3\\EMB-DataWarehouse\\notebbooks\\..\\data\\photos\\lobelia4cosmetics_15074.jpg: 640x640 1 food-supliment, 137.6ms\n",
      "image 442/567 d:\\KMAI3\\EMB-DataWarehouse\\notebbooks\\..\\data\\photos\\lobelia4cosmetics_15075.jpg: 640x640 3 food-supliments, 128.7ms\n",
      "image 443/567 d:\\KMAI3\\EMB-DataWarehouse\\notebbooks\\..\\data\\photos\\lobelia4cosmetics_15076.jpg: 640x640 1 food-supliment, 1 formula-milk, 153.8ms\n",
      "image 444/567 d:\\KMAI3\\EMB-DataWarehouse\\notebbooks\\..\\data\\photos\\lobelia4cosmetics_15077.jpg: 640x640 1 food-supliment, 1 formula-milk, 148.3ms\n",
      "image 445/567 d:\\KMAI3\\EMB-DataWarehouse\\notebbooks\\..\\data\\photos\\lobelia4cosmetics_15078.jpg: 640x640 1 food-supliment, 1 formula-milk, 1 pregnancy, 137.3ms\n",
      "image 446/567 d:\\KMAI3\\EMB-DataWarehouse\\notebbooks\\..\\data\\photos\\lobelia4cosmetics_15079.jpg: 640x640 1 food-supliment, 1 formula-milk, 136.7ms\n",
      "image 447/567 d:\\KMAI3\\EMB-DataWarehouse\\notebbooks\\..\\data\\photos\\lobelia4cosmetics_15080.jpg: 640x640 1 food-supliment, 1 formula-milk, 156.4ms\n",
      "image 448/567 d:\\KMAI3\\EMB-DataWarehouse\\notebbooks\\..\\data\\photos\\lobelia4cosmetics_15081.jpg: 512x640 1 food-supliment, 1 formula-milk, 100.4ms\n",
      "image 449/567 d:\\KMAI3\\EMB-DataWarehouse\\notebbooks\\..\\data\\photos\\lobelia4cosmetics_15082.jpg: 640x640 1 food-supliment, 1 formula-milk, 116.2ms\n",
      "image 450/567 d:\\KMAI3\\EMB-DataWarehouse\\notebbooks\\..\\data\\photos\\lobelia4cosmetics_15083.jpg: 640x640 1 food-supliment, 1 formula-milk, 133.6ms\n",
      "image 451/567 d:\\KMAI3\\EMB-DataWarehouse\\notebbooks\\..\\data\\photos\\lobelia4cosmetics_15084.jpg: 512x640 1 food-supliment, 1 formula-milk, 97.5ms\n",
      "image 452/567 d:\\KMAI3\\EMB-DataWarehouse\\notebbooks\\..\\data\\photos\\lobelia4cosmetics_15085.jpg: 640x640 1 food-supliment, 1 formula-milk, 133.4ms\n",
      "image 453/567 d:\\KMAI3\\EMB-DataWarehouse\\notebbooks\\..\\data\\photos\\lobelia4cosmetics_15086.jpg: 640x640 1 food-supliment, 1 formula-milk, 133.2ms\n",
      "image 454/567 d:\\KMAI3\\EMB-DataWarehouse\\notebbooks\\..\\data\\photos\\lobelia4cosmetics_15087.jpg: 640x640 1 food-supliment, 1 formula-milk, 141.7ms\n",
      "image 455/567 d:\\KMAI3\\EMB-DataWarehouse\\notebbooks\\..\\data\\photos\\lobelia4cosmetics_15088.jpg: 640x640 1 food-supliment, 1 formula-milk, 155.9ms\n",
      "image 456/567 d:\\KMAI3\\EMB-DataWarehouse\\notebbooks\\..\\data\\photos\\lobelia4cosmetics_15089.jpg: 640x640 1 food-supliment, 1 formula-milk, 146.0ms\n",
      "image 457/567 d:\\KMAI3\\EMB-DataWarehouse\\notebbooks\\..\\data\\photos\\lobelia4cosmetics_15090.jpg: 640x480 1 food-supliment, 1 formula-milk, 110.5ms\n",
      "image 458/567 d:\\KMAI3\\EMB-DataWarehouse\\notebbooks\\..\\data\\photos\\lobelia4cosmetics_15091.jpg: 640x640 (no detections), 140.4ms\n",
      "image 459/567 d:\\KMAI3\\EMB-DataWarehouse\\notebbooks\\..\\data\\photos\\lobelia4cosmetics_15092.jpg: 640x640 1 food-supliment, 128.2ms\n",
      "image 460/567 d:\\KMAI3\\EMB-DataWarehouse\\notebbooks\\..\\data\\photos\\lobelia4cosmetics_15093.jpg: 640x640 1 cosmotic, 1 food-supliment, 204.3ms\n",
      "image 461/567 d:\\KMAI3\\EMB-DataWarehouse\\notebbooks\\..\\data\\photos\\lobelia4cosmetics_15094.jpg: 640x640 1 food-supliment, 143.7ms\n",
      "image 462/567 d:\\KMAI3\\EMB-DataWarehouse\\notebbooks\\..\\data\\photos\\lobelia4cosmetics_15095.jpg: 640x640 1 food-supliment, 137.7ms\n",
      "image 463/567 d:\\KMAI3\\EMB-DataWarehouse\\notebbooks\\..\\data\\photos\\lobelia4cosmetics_15096.jpg: 640x608 1 food-supliment, 148.3ms\n",
      "image 464/567 d:\\KMAI3\\EMB-DataWarehouse\\notebbooks\\..\\data\\photos\\lobelia4cosmetics_15097.jpg: 640x640 2 cosmotics, 2 lotion-moistures, 123.9ms\n",
      "image 465/567 d:\\KMAI3\\EMB-DataWarehouse\\notebbooks\\..\\data\\photos\\lobelia4cosmetics_15098.jpg: 640x640 1 food-package, 1 food-supliment, 141.3ms\n",
      "image 466/567 d:\\KMAI3\\EMB-DataWarehouse\\notebbooks\\..\\data\\photos\\lobelia4cosmetics_15099.jpg: 640x640 1 food-package, 1 food-supliment, 1 formula-milk, 141.0ms\n",
      "image 467/567 d:\\KMAI3\\EMB-DataWarehouse\\notebbooks\\..\\data\\photos\\lobelia4cosmetics_15100.jpg: 640x640 1 food-supliment, 1 formula-milk, 161.5ms\n",
      "image 468/567 d:\\KMAI3\\EMB-DataWarehouse\\notebbooks\\..\\data\\photos\\lobelia4cosmetics_15101.jpg: 640x640 1 food-supliment, 1 formula-milk, 137.8ms\n",
      "image 469/567 d:\\KMAI3\\EMB-DataWarehouse\\notebbooks\\..\\data\\photos\\lobelia4cosmetics_15102.jpg: 640x640 1 formula-milk, 136.9ms\n",
      "image 470/567 d:\\KMAI3\\EMB-DataWarehouse\\notebbooks\\..\\data\\photos\\lobelia4cosmetics_15103.jpg: 640x640 1 food-supliment, 1 mini-drop, 1 pregnancy, 129.6ms\n",
      "image 471/567 d:\\KMAI3\\EMB-DataWarehouse\\notebbooks\\..\\data\\photos\\lobelia4cosmetics_15104.jpg: 640x640 1 cosmotic, 1 food-supliment, 1 medicine, 1 mini-drop, 157.9ms\n",
      "image 472/567 d:\\KMAI3\\EMB-DataWarehouse\\notebbooks\\..\\data\\photos\\lobelia4cosmetics_15105.jpg: 640x448 1 food-supliment, 1 mini-drop, 106.1ms\n",
      "image 473/567 d:\\KMAI3\\EMB-DataWarehouse\\notebbooks\\..\\data\\photos\\lobelia4cosmetics_15106.jpg: 640x640 1 cosmotic, 1 formula-milk, 1 medicine, 1 mini-drop, 146.8ms\n",
      "image 474/567 d:\\KMAI3\\EMB-DataWarehouse\\notebbooks\\..\\data\\photos\\lobelia4cosmetics_15107.jpg: 640x640 1 food-supliment, 1 formula-milk, 1 medicine, 1 mini-drop, 136.7ms\n",
      "image 475/567 d:\\KMAI3\\EMB-DataWarehouse\\notebbooks\\..\\data\\photos\\lobelia4cosmetics_15108.jpg: 640x640 1 cosmotic, 1 mini-drop, 139.7ms\n",
      "image 476/567 d:\\KMAI3\\EMB-DataWarehouse\\notebbooks\\..\\data\\photos\\lobelia4cosmetics_15109.jpg: 640x640 1 food-supliment, 1 formula-milk, 1 pregnancy, 133.4ms\n",
      "image 477/567 d:\\KMAI3\\EMB-DataWarehouse\\notebbooks\\..\\data\\photos\\lobelia4cosmetics_15110.jpg: 480x640 1 food-supliment, 1 formula-milk, 1 lotion-moisture, 112.6ms\n",
      "image 478/567 d:\\KMAI3\\EMB-DataWarehouse\\notebbooks\\..\\data\\photos\\lobelia4cosmetics_15111.jpg: 640x640 1 food-supliment, 1 formula-milk, 1 medicine, 147.3ms\n",
      "image 479/567 d:\\KMAI3\\EMB-DataWarehouse\\notebbooks\\..\\data\\photos\\lobelia4cosmetics_15112.jpg: 640x640 1 cosmotic, 1 food-supliment, 1 formula-milk, 125.8ms\n",
      "image 480/567 d:\\KMAI3\\EMB-DataWarehouse\\notebbooks\\..\\data\\photos\\lobelia4cosmetics_15113.jpg: 640x640 3 food-supliments, 1 pregnancy, 143.4ms\n",
      "image 481/567 d:\\KMAI3\\EMB-DataWarehouse\\notebbooks\\..\\data\\photos\\lobelia4cosmetics_15114.jpg: 640x640 1 food-supliment, 2 formula-milks, 2 pregnancys, 128.9ms\n",
      "image 482/567 d:\\KMAI3\\EMB-DataWarehouse\\notebbooks\\..\\data\\photos\\lobelia4cosmetics_15115.jpg: 640x544 1 formula-milk, 131.7ms\n",
      "image 483/567 d:\\KMAI3\\EMB-DataWarehouse\\notebbooks\\..\\data\\photos\\lobelia4cosmetics_15116.jpg: 640x640 1 formula-milk, 1 medicine, 147.8ms\n",
      "image 484/567 d:\\KMAI3\\EMB-DataWarehouse\\notebbooks\\..\\data\\photos\\lobelia4cosmetics_15117.jpg: 640x640 1 cosmotic, 2 food-supliments, 1 formula-milk, 147.8ms\n",
      "image 485/567 d:\\KMAI3\\EMB-DataWarehouse\\notebbooks\\..\\data\\photos\\lobelia4cosmetics_15118.jpg: 640x640 1 cosmotic, 1 food-supliment, 1 pregnancy, 146.3ms\n",
      "image 486/567 d:\\KMAI3\\EMB-DataWarehouse\\notebbooks\\..\\data\\photos\\lobelia4cosmetics_15119.jpg: 640x640 1 food-supliment, 126.4ms\n",
      "image 487/567 d:\\KMAI3\\EMB-DataWarehouse\\notebbooks\\..\\data\\photos\\lobelia4cosmetics_15120.jpg: 640x640 1 food-supliment, 1 formula-milk, 148.9ms\n",
      "image 488/567 d:\\KMAI3\\EMB-DataWarehouse\\notebbooks\\..\\data\\photos\\lobelia4cosmetics_15121.jpg: 640x640 (no detections), 130.9ms\n",
      "image 489/567 d:\\KMAI3\\EMB-DataWarehouse\\notebbooks\\..\\data\\photos\\lobelia4cosmetics_15122.jpg: 640x640 1 food-supliment, 126.4ms\n",
      "image 490/567 d:\\KMAI3\\EMB-DataWarehouse\\notebbooks\\..\\data\\photos\\lobelia4cosmetics_15123.jpg: 640x640 1 food-supliment, 1 formula-milk, 127.8ms\n",
      "image 491/567 d:\\KMAI3\\EMB-DataWarehouse\\notebbooks\\..\\data\\photos\\lobelia4cosmetics_15124.jpg: 640x640 1 food-supliment, 150.5ms\n",
      "image 492/567 d:\\KMAI3\\EMB-DataWarehouse\\notebbooks\\..\\data\\photos\\lobelia4cosmetics_15125.jpg: 640x640 1 food-supliment, 1 formula-milk, 136.8ms\n",
      "image 493/567 d:\\KMAI3\\EMB-DataWarehouse\\notebbooks\\..\\data\\photos\\lobelia4cosmetics_15126.jpg: 640x640 1 food-supliment, 133.2ms\n",
      "image 494/567 d:\\KMAI3\\EMB-DataWarehouse\\notebbooks\\..\\data\\photos\\lobelia4cosmetics_15127.jpg: 640x640 1 food-supliment, 147.4ms\n",
      "image 495/567 d:\\KMAI3\\EMB-DataWarehouse\\notebbooks\\..\\data\\photos\\lobelia4cosmetics_15128.jpg: 640x640 1 food-supliment, 1 formula-milk, 1 pregnancy, 137.6ms\n",
      "image 496/567 d:\\KMAI3\\EMB-DataWarehouse\\notebbooks\\..\\data\\photos\\lobelia4cosmetics_15129.jpg: 640x640 1 food-supliment, 1 formula-milk, 131.7ms\n",
      "image 497/567 d:\\KMAI3\\EMB-DataWarehouse\\notebbooks\\..\\data\\photos\\lobelia4cosmetics_15130.jpg: 640x640 1 food-supliment, 1 formula-milk, 138.4ms\n",
      "image 498/567 d:\\KMAI3\\EMB-DataWarehouse\\notebbooks\\..\\data\\photos\\lobelia4cosmetics_15131.jpg: 512x640 1 food-supliment, 1 formula-milk, 104.6ms\n",
      "image 499/567 d:\\KMAI3\\EMB-DataWarehouse\\notebbooks\\..\\data\\photos\\lobelia4cosmetics_15132.jpg: 640x640 1 food-supliment, 1 formula-milk, 154.4ms\n",
      "image 500/567 d:\\KMAI3\\EMB-DataWarehouse\\notebbooks\\..\\data\\photos\\lobelia4cosmetics_15133.jpg: 640x640 2 formula-milks, 131.6ms\n",
      "image 501/567 d:\\KMAI3\\EMB-DataWarehouse\\notebbooks\\..\\data\\photos\\lobelia4cosmetics_15134.jpg: 640x640 1 cosmotic, 1 food-supliment, 129.7ms\n",
      "image 502/567 d:\\KMAI3\\EMB-DataWarehouse\\notebbooks\\..\\data\\photos\\lobelia4cosmetics_15135.jpg: 640x640 1 food-supliment, 148.7ms\n",
      "image 503/567 d:\\KMAI3\\EMB-DataWarehouse\\notebbooks\\..\\data\\photos\\lobelia4cosmetics_15136.jpg: 640x640 1 food-supliment, 129.4ms\n",
      "image 504/567 d:\\KMAI3\\EMB-DataWarehouse\\notebbooks\\..\\data\\photos\\lobelia4cosmetics_15137.jpg: 512x640 2 food-packages, 110.0ms\n",
      "image 505/567 d:\\KMAI3\\EMB-DataWarehouse\\notebbooks\\..\\data\\photos\\lobelia4cosmetics_15138.jpg: 640x640 3 food-supliments, 137.5ms\n",
      "image 506/567 d:\\KMAI3\\EMB-DataWarehouse\\notebbooks\\..\\data\\photos\\lobelia4cosmetics_15139.jpg: 640x448 2 food-supliments, 1 pregnancy, 102.8ms\n",
      "image 507/567 d:\\KMAI3\\EMB-DataWarehouse\\notebbooks\\..\\data\\photos\\lobelia4cosmetics_15140.jpg: 640x640 3 food-supliments, 1 formula-milk, 1 pregnancy, 169.4ms\n",
      "image 508/567 d:\\KMAI3\\EMB-DataWarehouse\\notebbooks\\..\\data\\photos\\lobelia4cosmetics_15141.jpg: 640x640 3 food-supliments, 1 formula-milk, 133.2ms\n",
      "image 509/567 d:\\KMAI3\\EMB-DataWarehouse\\notebbooks\\..\\data\\photos\\lobelia4cosmetics_15142.jpg: 640x640 1 food-package, 3 food-supliments, 137.2ms\n",
      "image 510/567 d:\\KMAI3\\EMB-DataWarehouse\\notebbooks\\..\\data\\photos\\lobelia4cosmetics_15143.jpg: 640x640 1 food-package, 1 food-supliment, 1 formula-milk, 1 medicine, 1 pregnancy, 129.7ms\n",
      "image 511/567 d:\\KMAI3\\EMB-DataWarehouse\\notebbooks\\..\\data\\photos\\lobelia4cosmetics_15144.jpg: 640x448 1 food-supliment, 1 formula-milk, 120.8ms\n",
      "image 512/567 d:\\KMAI3\\EMB-DataWarehouse\\notebbooks\\..\\data\\photos\\lobelia4cosmetics_15145.jpg: 544x640 3 food-supliments, 115.1ms\n",
      "image 513/567 d:\\KMAI3\\EMB-DataWarehouse\\notebbooks\\..\\data\\photos\\lobelia4cosmetics_15146.jpg: 640x512 1 formula-milk, 126.2ms\n",
      "image 514/567 d:\\KMAI3\\EMB-DataWarehouse\\notebbooks\\..\\data\\photos\\lobelia4cosmetics_15147.jpg: 640x640 1 lotion-moisture, 148.9ms\n",
      "image 515/567 d:\\KMAI3\\EMB-DataWarehouse\\notebbooks\\..\\data\\photos\\lobelia4cosmetics_15148.jpg: 640x640 1 cosmotic, 1 food-supliment, 152.0ms\n",
      "image 516/567 d:\\KMAI3\\EMB-DataWarehouse\\notebbooks\\..\\data\\photos\\lobelia4cosmetics_15149.jpg: 640x480 1 food-supliment, 1 medicine, 107.6ms\n",
      "image 517/567 d:\\KMAI3\\EMB-DataWarehouse\\notebbooks\\..\\data\\photos\\lobelia4cosmetics_15150.jpg: 640x640 1 food-supliment, 2 formula-milks, 1 medicine, 1 pregnancy, 126.4ms\n",
      "image 518/567 d:\\KMAI3\\EMB-DataWarehouse\\notebbooks\\..\\data\\photos\\lobelia4cosmetics_15151.jpg: 640x640 1 food-package, 1 food-supliment, 1 formula-milk, 1 pregnancy, 138.3ms\n",
      "image 519/567 d:\\KMAI3\\EMB-DataWarehouse\\notebbooks\\..\\data\\photos\\lobelia4cosmetics_15152.jpg: 640x640 2 cosmotics, 159.0ms\n",
      "image 520/567 d:\\KMAI3\\EMB-DataWarehouse\\notebbooks\\..\\data\\photos\\lobelia4cosmetics_15153.jpg: 640x640 2 cosmotics, 1 food-supliment, 169.6ms\n",
      "image 521/567 d:\\KMAI3\\EMB-DataWarehouse\\notebbooks\\..\\data\\photos\\lobelia4cosmetics_15154.jpg: 640x640 2 food-supliments, 2 formula-milks, 202.6ms\n",
      "image 522/567 d:\\KMAI3\\EMB-DataWarehouse\\notebbooks\\..\\data\\photos\\lobelia4cosmetics_15155.jpg: 640x640 1 food-supliment, 2 formula-milks, 138.5ms\n",
      "image 523/567 d:\\KMAI3\\EMB-DataWarehouse\\notebbooks\\..\\data\\photos\\lobelia4cosmetics_15156.jpg: 640x640 1 food-package, 1 food-supliment, 1 formula-milk, 150.1ms\n",
      "image 524/567 d:\\KMAI3\\EMB-DataWarehouse\\notebbooks\\..\\data\\photos\\lobelia4cosmetics_15157.jpg: 640x640 1 food-package, 1 food-supliment, 137.2ms\n",
      "image 525/567 d:\\KMAI3\\EMB-DataWarehouse\\notebbooks\\..\\data\\photos\\lobelia4cosmetics_15158.jpg: 640x640 1 formula-milk, 150.0ms\n",
      "image 526/567 d:\\KMAI3\\EMB-DataWarehouse\\notebbooks\\..\\data\\photos\\lobelia4cosmetics_15159.jpg: 640x640 1 formula-milk, 131.8ms\n",
      "image 527/567 d:\\KMAI3\\EMB-DataWarehouse\\notebbooks\\..\\data\\photos\\lobelia4cosmetics_15160.jpg: 640x640 1 formula-milk, 129.9ms\n",
      "image 528/567 d:\\KMAI3\\EMB-DataWarehouse\\notebbooks\\..\\data\\photos\\lobelia4cosmetics_15161.jpg: 480x640 1 food-supliment, 1 formula-milk, 1 lotion-moisture, 108.7ms\n",
      "image 529/567 d:\\KMAI3\\EMB-DataWarehouse\\notebbooks\\..\\data\\photos\\lobelia4cosmetics_15162.jpg: 640x640 1 food-supliment, 1 formula-milk, 150.4ms\n",
      "image 530/567 d:\\KMAI3\\EMB-DataWarehouse\\notebbooks\\..\\data\\photos\\lobelia4cosmetics_15163.jpg: 640x640 1 food-supliment, 1 formula-milk, 141.2ms\n",
      "image 531/567 d:\\KMAI3\\EMB-DataWarehouse\\notebbooks\\..\\data\\photos\\lobelia4cosmetics_15164.jpg: 640x640 1 food-supliment, 1 formula-milk, 143.3ms\n",
      "image 532/567 d:\\KMAI3\\EMB-DataWarehouse\\notebbooks\\..\\data\\photos\\lobelia4cosmetics_15165.jpg: 640x640 1 food-supliment, 1 pregnancy, 147.3ms\n",
      "image 533/567 d:\\KMAI3\\EMB-DataWarehouse\\notebbooks\\..\\data\\photos\\lobelia4cosmetics_15166.jpg: 640x640 1 cosmotic, 1 food-supliment, 1 medicine, 1 mini-drop, 130.1ms\n",
      "image 534/567 d:\\KMAI3\\EMB-DataWarehouse\\notebbooks\\..\\data\\photos\\lobelia4cosmetics_15167.jpg: 640x640 1 cosmotic, 1 mini-drop, 139.2ms\n",
      "image 535/567 d:\\KMAI3\\EMB-DataWarehouse\\notebbooks\\..\\data\\photos\\lobelia4cosmetics_15168.jpg: 640x640 2 food-supliments, 1 formula-milk, 1 medicine, 1 pregnancy, 149.9ms\n",
      "image 536/567 d:\\KMAI3\\EMB-DataWarehouse\\notebbooks\\..\\data\\photos\\lobelia4cosmetics_15169.jpg: 640x640 1 cosmotic, 1 formula-milk, 1 medicine, 1 mini-drop, 133.4ms\n",
      "image 537/567 d:\\KMAI3\\EMB-DataWarehouse\\notebbooks\\..\\data\\photos\\lobelia4cosmetics_15170.jpg: 640x448 1 food-supliment, 1 mini-drop, 100.6ms\n",
      "image 538/567 d:\\KMAI3\\EMB-DataWarehouse\\notebbooks\\..\\data\\photos\\lobelia4cosmetics_15171.jpg: 640x640 1 food-supliment, 1 formula-milk, 1 medicine, 1 mini-drop, 151.5ms\n",
      "image 539/567 d:\\KMAI3\\EMB-DataWarehouse\\notebbooks\\..\\data\\photos\\lobelia4cosmetics_15172.jpg: 640x640 1 food-supliment, 1 formula-milk, 137.3ms\n",
      "image 540/567 d:\\KMAI3\\EMB-DataWarehouse\\notebbooks\\..\\data\\photos\\lobelia4cosmetics_15173.jpg: 640x640 1 food-supliment, 1 formula-milk, 144.9ms\n",
      "image 541/567 d:\\KMAI3\\EMB-DataWarehouse\\notebbooks\\..\\data\\photos\\lobelia4cosmetics_15174.jpg: 640x480 1 food-supliment, 1 formula-milk, 133.2ms\n",
      "image 542/567 d:\\KMAI3\\EMB-DataWarehouse\\notebbooks\\..\\data\\photos\\lobelia4cosmetics_15175.jpg: 640x640 (no detections), 158.4ms\n",
      "image 543/567 d:\\KMAI3\\EMB-DataWarehouse\\notebbooks\\..\\data\\photos\\lobelia4cosmetics_15176.jpg: 640x640 1 food-supliment, 1 formula-milk, 1 medicine, 180.0ms\n",
      "image 544/567 d:\\KMAI3\\EMB-DataWarehouse\\notebbooks\\..\\data\\photos\\lobelia4cosmetics_15177.jpg: 640x640 1 food-supliment, 1 formula-milk, 1 medicine, 161.3ms\n",
      "image 545/567 d:\\KMAI3\\EMB-DataWarehouse\\notebbooks\\..\\data\\photos\\lobelia4cosmetics_15178.jpg: 640x640 1 cosmotic, 1 food-supliment, 1 formula-milk, 132.7ms\n",
      "image 546/567 d:\\KMAI3\\EMB-DataWarehouse\\notebbooks\\..\\data\\photos\\lobelia4cosmetics_15179.jpg: 640x640 1 cosmotic, 2 food-supliments, 1 formula-milk, 143.2ms\n",
      "image 547/567 d:\\KMAI3\\EMB-DataWarehouse\\notebbooks\\..\\data\\photos\\lobelia4cosmetics_15180.jpg: 640x640 1 cosmotic, 1 food-supliment, 1 pregnancy, 149.1ms\n",
      "image 548/567 d:\\KMAI3\\EMB-DataWarehouse\\notebbooks\\..\\data\\photos\\lobelia4cosmetics_15181.jpg: 640x640 1 food-supliment, 124.7ms\n",
      "image 549/567 d:\\KMAI3\\EMB-DataWarehouse\\notebbooks\\..\\data\\photos\\lobelia4cosmetics_15182.jpg: 640x640 1 food-supliment, 141.8ms\n",
      "image 550/567 d:\\KMAI3\\EMB-DataWarehouse\\notebbooks\\..\\data\\photos\\lobelia4cosmetics_15183.jpg: 640x640 1 food-supliment, 133.3ms\n",
      "image 551/567 d:\\KMAI3\\EMB-DataWarehouse\\notebbooks\\..\\data\\photos\\lobelia4cosmetics_15184.jpg: 640x640 1 food-supliment, 142.5ms\n",
      "image 552/567 d:\\KMAI3\\EMB-DataWarehouse\\notebbooks\\..\\data\\photos\\lobelia4cosmetics_15185.jpg: 640x640 1 food-supliment, 1 formula-milk, 1 pregnancy, 146.4ms\n",
      "image 553/567 d:\\KMAI3\\EMB-DataWarehouse\\notebbooks\\..\\data\\photos\\lobelia4cosmetics_15186.jpg: 640x640 1 food-supliment, 149.7ms\n",
      "image 554/567 d:\\KMAI3\\EMB-DataWarehouse\\notebbooks\\..\\data\\photos\\lobelia4cosmetics_15187.jpg: 640x640 1 food-supliment, 1 formula-milk, 164.0ms\n",
      "image 555/567 d:\\KMAI3\\EMB-DataWarehouse\\notebbooks\\..\\data\\photos\\lobelia4cosmetics_15188.jpg: 640x640 1 food-supliment, 1 formula-milk, 145.2ms\n",
      "image 556/567 d:\\KMAI3\\EMB-DataWarehouse\\notebbooks\\..\\data\\photos\\lobelia4cosmetics_15189.jpg: 640x640 1 food-supliment, 147.0ms\n",
      "image 557/567 d:\\KMAI3\\EMB-DataWarehouse\\notebbooks\\..\\data\\photos\\lobelia4cosmetics_15190.jpg: 640x640 1 food-supliment, 1 formula-milk, 1 pregnancy, 146.7ms\n",
      "image 558/567 d:\\KMAI3\\EMB-DataWarehouse\\notebbooks\\..\\data\\photos\\lobelia4cosmetics_15191.jpg: 512x640 1 food-supliment, 1 formula-milk, 93.4ms\n",
      "image 559/567 d:\\KMAI3\\EMB-DataWarehouse\\notebbooks\\..\\data\\photos\\lobelia4cosmetics_15192.jpg: 640x640 1 food-supliment, 1 formula-milk, 139.8ms\n",
      "image 560/567 d:\\KMAI3\\EMB-DataWarehouse\\notebbooks\\..\\data\\photos\\lobelia4cosmetics_15193.jpg: 640x640 1 food-supliment, 1 formula-milk, 145.2ms\n",
      "image 561/567 d:\\KMAI3\\EMB-DataWarehouse\\notebbooks\\..\\data\\photos\\lobelia4cosmetics_15194.jpg: 640x640 1 food-supliment, 1 formula-milk, 136.5ms\n",
      "image 562/567 d:\\KMAI3\\EMB-DataWarehouse\\notebbooks\\..\\data\\photos\\lobelia4cosmetics_15195.jpg: 640x640 1 food-supliment, 137.4ms\n",
      "image 563/567 d:\\KMAI3\\EMB-DataWarehouse\\notebbooks\\..\\data\\photos\\lobelia4cosmetics_15196.jpg: 640x640 1 food-supliment, 166.6ms\n",
      "image 564/567 d:\\KMAI3\\EMB-DataWarehouse\\notebbooks\\..\\data\\photos\\lobelia4cosmetics_15197.jpg: 640x640 1 food-supliment, 1 formula-milk, 129.5ms\n",
      "image 565/567 d:\\KMAI3\\EMB-DataWarehouse\\notebbooks\\..\\data\\photos\\lobelia4cosmetics_15198.jpg: 640x640 1 food-supliment, 167.5ms\n",
      "image 566/567 d:\\KMAI3\\EMB-DataWarehouse\\notebbooks\\..\\data\\photos\\lobelia4cosmetics_15199.jpg: 640x640 1 cosmotic, 2 food-supliments, 1 formula-milk, 145.6ms\n",
      "image 567/567 d:\\KMAI3\\EMB-DataWarehouse\\notebbooks\\..\\data\\photos\\lobelia4cosmetics_15200.jpg: 640x640 1 cosmotic, 1 food-supliment, 1 pregnancy, 136.3ms\n",
      "Speed: 4.3ms preprocess, 128.0ms inference, 0.6ms postprocess per image at shape (1, 3, 640, 640)\n",
      "Results saved to \u001b[1mD:\\KMAI3\\EMB-DataWarehouse\\runs\\detect\\highres_predictions\u001b[0m\n",
      "522 labels saved to D:\\KMAI3\\EMB-DataWarehouse\\runs\\detect\\highres_predictions\\labels\n"
     ]
    }
   ],
   "source": [
    "# Additional detection example with different img size\n",
    "results = best_model.predict(\n",
    "    source=\"../data/photos\",\n",
    "    conf=0.3,  # Higher confidence threshold\n",
    "    imgsz=640,\n",
    "    save=True,\n",
    "    name=\"highres_predictions\"\n",
    ")"
   ]
  },
  {
   "cell_type": "markdown",
   "metadata": {},
   "source": [
    "**Use a Pretrained Model (Transfer Learning)**\n",
    "\n",
    "Fine-tuning a smaller pre-trained model (like yolov5n.pt or yolov5s.pt instead of larger models like yolov5x.pt) will use less memory:\n",
    "- Decrease the Batch Size\n",
    "- Reduce Image Size"
   ]
  },
  {
   "cell_type": "markdown",
   "metadata": {},
   "source": [
    "**Step 5: Processing the Detection Results**\n",
    "\n",
    "Extract relevant data from the detection results, such as bounding box coordinates, confidence scores, and class labels."
   ]
  },
  {
   "cell_type": "markdown",
   "metadata": {},
   "source": [
    "To process detection results using YOLOv5 and extract relevant data, we can modify the inference script (detect.py) or create a custom script that reads the detection outputs. Below is a step-by-step guide:"
   ]
  },
  {
   "cell_type": "markdown",
   "metadata": {},
   "source": [
    "**Step 1: Predict the the whole images dataset**\n",
    "\n",
    "Based on the transfer learning and trained small subset of the labeled data, predict the whole images"
   ]
  },
  {
   "cell_type": "markdown",
   "metadata": {},
   "source": [
    "**Storing detection data to a database table**"
   ]
  },
  {
   "cell_type": "code",
   "execution_count": 13,
   "metadata": {},
   "outputs": [
    {
     "name": "stdout",
     "output_type": "stream",
     "text": [
      "Connection to the database established successfully.\n",
      "Detection results stored successfully.\n"
     ]
    }
   ],
   "source": [
    "!python ../scripts/store_detection_results.py\n"
   ]
  },
  {
   "cell_type": "markdown",
   "metadata": {},
   "source": [
    "Display the results in the plot"
   ]
  },
  {
   "cell_type": "code",
   "execution_count": 23,
   "metadata": {},
   "outputs": [
    {
     "data": {
      "image/png": "[encoded data removed]",
      "text/plain": [
       "<IPython.core.display.Image object>"
      ]
     },
     "metadata": {},
     "output_type": "display_data"
    }
   ],
   "source": [
    "from IPython.display import Image, display\n",
    "\n",
    "# Replace this with the path to your PNG results\n",
    "png_file_path = 'medical-detection/fine_tuned_model/results.png'  # Adjust the path accordingly\n",
    "\n",
    "# Display the PNG image\n",
    "display(Image(filename=png_file_path))\n"
   ]
  },
  {
   "cell_type": "code",
   "execution_count": null,
   "metadata": {},
   "outputs": [],
   "source": [
    "# Replace this with the path to your PNG results\n",
    "png_file_path = 'medical-detection/fine_tuned_model/labels.jpg'  # Adjust the path accordingly\n",
    "\n",
    "# Display the PNG image\n",
    "display(Image(filename=png_file_path))"
   ]
  },
  {
   "cell_type": "code",
   "execution_count": null,
   "metadata": {},
   "outputs": [],
   "source": [
    "# Replace this with the path to your PNG results\n",
    "png_file_path = '../yolov5/runs/train/fine_tuned_model12/confusion_matrix.png'  # Adjust the path accordingly\n",
    "\n",
    "# Display the PNG image\n",
    "display(Image(filename=png_file_path))"
   ]
  },
  {
   "cell_type": "code",
   "execution_count": null,
   "metadata": {},
   "outputs": [],
   "source": [
    "# Replace this with the path to your PNG results\n",
    "png_file_path = '../yolov5/runs/train/fine_tuned_model12/labels_correlogram.jpg'  # Adjust the path accordingly\n",
    "\n",
    "# Display the PNG image\n",
    "display(Image(filename=png_file_path))"
   ]
  },
  {
   "cell_type": "code",
   "execution_count": null,
   "metadata": {},
   "outputs": [],
   "source": [
    "# Replace this with the path to your PNG results\n",
    "png_file_path = '../yolov5/runs/train/fine_tuned_model12/F1_curve.png'  # Adjust the path accordingly\n",
    "\n",
    "# Display the PNG image\n",
    "display(Image(filename=png_file_path))"
   ]
  },
  {
   "cell_type": "code",
   "execution_count": null,
   "metadata": {},
   "outputs": [],
   "source": [
    "# Replace this with the path to your PNG results\n",
    "png_file_path = '../yolov5/runs/train/fine_tuned_model12/P_curve.png'  # Adjust the path accordingly\n",
    "\n",
    "# Display the PNG image\n",
    "display(Image(filename=png_file_path))"
   ]
  },
  {
   "cell_type": "code",
   "execution_count": null,
   "metadata": {},
   "outputs": [],
   "source": [
    "# Replace this with the path to your PNG results\n",
    "png_file_path = '../yolov5/runs/train/fine_tuned_model12/PR_curve.png'  # Adjust the path accordingly\n",
    "\n",
    "# Display the PNG image\n",
    "display(Image(filename=png_file_path))"
   ]
  },
  {
   "cell_type": "code",
   "execution_count": null,
   "metadata": {},
   "outputs": [],
   "source": [
    "# Replace this with the path to your PNG results\n",
    "png_file_path = '../yolov5/runs/train/fine_tuned_model12/R_curve.png'  # Adjust the path accordingly\n",
    "\n",
    "# Display the PNG image\n",
    "display(Image(filename=png_file_path))"
   ]
  }
 ],
 "metadata": {
  "kernelspec": {
   "display_name": ".venv",
   "language": "python",
   "name": "python3"
  },
  "language_info": {
   "codemirror_mode": {
    "name": "ipython",
    "version": 3
   },
   "file_extension": ".py",
   "mimetype": "text/x-python",
   "name": "python",
   "nbconvert_exporter": "python",
   "pygments_lexer": "ipython3",
   "version": "3.12.8"
  }
 },
 "nbformat": 4,
 "nbformat_minor": 2
}
